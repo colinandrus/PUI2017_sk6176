{
 "cells": [
  {
   "cell_type": "code",
   "execution_count": 1,
   "metadata": {
    "collapsed": true
   },
   "outputs": [],
   "source": [
    "from __future__ import print_function\n",
    "__author__ = \"Sunglyoung_Kim, CUSP NYU 2017\""
   ]
  },
  {
   "cell_type": "code",
   "execution_count": 2,
   "metadata": {
    "collapsed": false
   },
   "outputs": [
    {
     "name": "stdout",
     "output_type": "stream",
     "text": [
      "Populating the interactive namespace from numpy and matplotlib\n"
     ]
    }
   ],
   "source": [
    "import os\n",
    "import sys\n",
    "import numpy as np\n",
    "import pandas as pd\n",
    "import pylab as pl\n",
    "%pylab inline"
   ]
  },
  {
   "cell_type": "code",
   "execution_count": 3,
   "metadata": {
    "collapsed": true
   },
   "outputs": [],
   "source": [
    "np.random.seed(5)"
   ]
  },
  {
   "cell_type": "code",
   "execution_count": 4,
   "metadata": {
    "collapsed": true
   },
   "outputs": [],
   "source": [
    "# Making a List of distribution"
   ]
  },
  {
   "cell_type": "code",
   "execution_count": 5,
   "metadata": {
    "collapsed": true
   },
   "outputs": [],
   "source": [
    "Mean = 250\n"
   ]
  },
  {
   "cell_type": "code",
   "execution_count": 6,
   "metadata": {
    "collapsed": false
   },
   "outputs": [],
   "source": [
    "NormalSample=[]\n",
    "PoissonSample=[]\n",
    "BinomialSample=[]\n",
    "ChiSquaredSample=[]\n",
    "RayleighSample=[]\n",
    "\n",
    "for i in range(100):\n",
    "    Normal=np.random.normal(Mean,15,np.random.randint(11,2000))\n",
    "    Poisson=np.random.poisson(Mean,np.random.randint(11,2000))\n",
    "    Binomial=np.random.binomial(Mean/0.3,0.3,np.random.randint(11,2000))\n",
    "    ChiSquared=np.random.chisquare(Mean,np.random.randint(11,2000))\n",
    "    Rayleigh=np.random.rayleigh(np.sqrt(2/np.pi)*Mean,random.randint(11,2000))\n",
    "    NormalSample.append(Normal)\n",
    "    PoissonSample.append(Poisson)\n",
    "    BinomialSample.append(Binomial)\n",
    "    ChiSquaredSample.append(ChiSquared)\n",
    "    RayleighSample.append(Rayleigh)\n"
   ]
  },
  {
   "cell_type": "code",
   "execution_count": 7,
   "metadata": {
    "collapsed": true
   },
   "outputs": [],
   "source": [
    "# Making a List of each sample's mean and size"
   ]
  },
  {
   "cell_type": "code",
   "execution_count": 8,
   "metadata": {
    "collapsed": false
   },
   "outputs": [],
   "source": [
    "normX=[]\n",
    "normY=[]\n",
    "poissonX=[]\n",
    "poissonY=[]\n",
    "binomialX=[]\n",
    "binomialY=[]\n",
    "chisquaredX=[]\n",
    "chisquaredY=[]\n",
    "RayleighX=[]\n",
    "RayleighY=[]\n",
    "\n",
    "for i in range(len(NormalSample)):\n",
    "    normY.append(np.mean(NormalSample[i]))\n",
    "    normX.append(len(NormalSample[i]))\n",
    "for i in range(len(PoissonSample)):\n",
    "    poissonY.append(np.mean(PoissonSample[i]))\n",
    "    poissonX.append(len(PoissonSample[i]))\n",
    "for i in range(len(BinomialSample)):\n",
    "    binomialY.append(np.mean(BinomialSample[i]))\n",
    "    binomialX.append(len(BinomialSample[i]))\n",
    "for i in range(len(ChiSquaredSample)):\n",
    "    chisquaredY.append(np.mean(ChiSquaredSample[i]))\n",
    "    chisquaredX.append(len(ChiSquaredSample[i]))\n",
    "for i in range(len(RayleighSample)):\n",
    "    RayleighY.append(np.mean(RayleighSample[i]))\n",
    "    RayleighX.append(len(RayleighSample[i]))\n",
    "    \n",
    "    "
   ]
  },
  {
   "cell_type": "code",
   "execution_count": 9,
   "metadata": {
    "collapsed": true
   },
   "outputs": [],
   "source": [
    "# plot Normadistributionb"
   ]
  },
  {
   "cell_type": "markdown",
   "metadata": {},
   "source": [
    "## Fig.1 Plot of Normal Distribution"
   ]
  },
  {
   "cell_type": "code",
   "execution_count": 10,
   "metadata": {
    "collapsed": false,
    "scrolled": false
   },
   "outputs": [
    {
     "data": {
      "text/plain": [
       "<matplotlib.text.Text at 0x7f793c2b87b8>"
      ]
     },
     "execution_count": 10,
     "metadata": {},
     "output_type": "execute_result"
    },
    {
     "data": {
      "image/png": "[encoded data removed]",
      "text/plain": [
       "<matplotlib.figure.Figure at 0x7f793ebf69e8>"
      ]
     },
     "metadata": {},
     "output_type": "display_data"
    }
   ],
   "source": [
    "pl.plot(normX,normY,'gx')\n",
    "pl.xlabel('Size',fontsize = 20)\n",
    "pl.ylabel('mean',fontsize = 20)\n",
    "pl.title('Normal Distribution',fontsize = 30)\n"
   ]
  },
  {
   "cell_type": "code",
   "execution_count": 11,
   "metadata": {
    "collapsed": true
   },
   "outputs": [],
   "source": [
    "# poisson "
   ]
  },
  {
   "cell_type": "code",
   "execution_count": 12,
   "metadata": {
    "collapsed": false,
    "scrolled": true
   },
   "outputs": [
    {
     "data": {
      "image/png": "[encoded data removed]",
      "text/plain": [
       "<matplotlib.figure.Figure at 0x7f793ebf65f8>"
      ]
     },
     "metadata": {},
     "output_type": "display_data"
    }
   ],
   "source": [
    "pl.plot(poissonX,poissonY,'o');"
   ]
  },
  {
   "cell_type": "code",
   "execution_count": null,
   "metadata": {
    "collapsed": false
   },
   "outputs": [],
   "source": []
  },
  {
   "cell_type": "code",
   "execution_count": 13,
   "metadata": {
    "collapsed": false,
    "scrolled": true
   },
   "outputs": [
    {
     "data": {
      "image/png": "[encoded data removed]",
      "text/plain": [
       "<matplotlib.figure.Figure at 0x7f793c17c1d0>"
      ]
     },
     "metadata": {},
     "output_type": "display_data"
    }
   ],
   "source": [
    "pl.plot(binomialX,binomialY,'yx');"
   ]
  },
  {
   "cell_type": "code",
   "execution_count": null,
   "metadata": {
    "collapsed": false
   },
   "outputs": [],
   "source": []
  },
  {
   "cell_type": "code",
   "execution_count": 14,
   "metadata": {
    "collapsed": false
   },
   "outputs": [
    {
     "data": {
      "image/png": "[encoded data removed]",
      "text/plain": [
       "<matplotlib.figure.Figure at 0x7f793c0a9080>"
      ]
     },
     "metadata": {},
     "output_type": "display_data"
    }
   ],
   "source": [
    "pl.plot(chisquaredX,chisquaredY, 'rx');"
   ]
  },
  {
   "cell_type": "code",
   "execution_count": null,
   "metadata": {
    "collapsed": false
   },
   "outputs": [],
   "source": []
  },
  {
   "cell_type": "code",
   "execution_count": 15,
   "metadata": {
    "collapsed": false
   },
   "outputs": [
    {
     "data": {
      "text/plain": [
       "[<matplotlib.lines.Line2D at 0x7f793bfb4a90>]"
      ]
     },
     "execution_count": 15,
     "metadata": {},
     "output_type": "execute_result"
    },
    {
     "data": {
      "image/png": "[encoded data removed]",
      "text/plain": [
       "<matplotlib.figure.Figure at 0x7f793c035b38>"
      ]
     },
     "metadata": {},
     "output_type": "display_data"
    }
   ],
   "source": [
    "pl.plot(RayleighX,RayleighY,'kx')"
   ]
  },
  {
   "cell_type": "code",
   "execution_count": 16,
   "metadata": {
    "collapsed": false
   },
   "outputs": [],
   "source": [
    "allMeans = normY + binomialY + poissonY + chisquaredY + RayleighY"
   ]
  },
  {
   "cell_type": "code",
   "execution_count": 28,
   "metadata": {
    "collapsed": false
   },
   "outputs": [
    {
     "data": {
      "text/plain": [
       "<matplotlib.legend.Legend at 0x7f793c1a3550>"
      ]
     },
     "execution_count": 28,
     "metadata": {},
     "output_type": "execute_result"
    },
    {
     "data": {
      "image/png": "[encoded data removed]",
      "text/plain": [
       "<matplotlib.figure.Figure at 0x7f793c1a3208>"
      ]
     },
     "metadata": {},
     "output_type": "display_data"
    }
   ],
   "source": [
    "\n",
    "pl.hist(normY, color = 'green', alpha = .5, label=\"Normal Distribution\")\n",
    "pl.hist(poissonY, color = 'blue', alpha = .5,label=\"Poisson Distribution\")\n",
    "pl.hist(binomialY, color = 'yellow', alpha = .5,label=\"Binomial Distribution\")\n",
    "pl.hist(chisquaredY, color = 'red', alpha = .5,label=\"Chi-Squared Distribution\") \n",
    "pl.hist(RayleighY, color = 'black', alpha = .5,label=\"Rayleigh Distribution\");\n",
    "pl.grid(True)\n",
    "pl.show\n",
    "pl.legend()\n"
   ]
  },
  {
   "cell_type": "code",
   "execution_count": 34,
   "metadata": {
    "collapsed": false
   },
   "outputs": [
    {
     "ename": "SyntaxError",
     "evalue": "invalid syntax (<ipython-input-34-e469fdc26710>, line 2)",
     "output_type": "error",
     "traceback": [
      "\u001b[0;36m  File \u001b[0;32m\"<ipython-input-34-e469fdc26710>\"\u001b[0;36m, line \u001b[0;32m2\u001b[0m\n\u001b[0;31m    from scipy imort asarray as ar,exp\u001b[0m\n\u001b[0m                   ^\u001b[0m\n\u001b[0;31mSyntaxError\u001b[0m\u001b[0;31m:\u001b[0m invalid syntax\n"
     ]
    }
   ],
   "source": [
    "from scipy.optimize import curve_fit\n",
    "from scipy imort asarray as ar,exp\n",
    "\n"
   ]
  },
  {
   "cell_type": "code",
   "execution_count": null,
   "metadata": {
    "collapsed": true
   },
   "outputs": [],
   "source": []
  },
  {
   "cell_type": "code",
   "execution_count": null,
   "metadata": {
    "collapsed": true
   },
   "outputs": [],
   "source": []
  },
  {
   "cell_type": "code",
   "execution_count": null,
   "metadata": {
    "collapsed": true
   },
   "outputs": [],
   "source": []
  },
  {
   "cell_type": "code",
   "execution_count": null,
   "metadata": {
    "collapsed": true
   },
   "outputs": [],
   "source": []
  },
  {
   "cell_type": "code",
   "execution_count": null,
   "metadata": {
    "collapsed": true
   },
   "outputs": [],
   "source": []
  },
  {
   "cell_type": "code",
   "execution_count": null,
   "metadata": {
    "collapsed": true
   },
   "outputs": [],
   "source": []
  },
  {
   "cell_type": "code",
   "execution_count": null,
   "metadata": {
    "collapsed": true
   },
   "outputs": [],
   "source": []
  }
 ],
 "metadata": {
  "kernelspec": {
   "display_name": "ucsl17_python3",
   "language": "python",
   "name": "ucsl17_python3"
  },
  "language_info": {
   "codemirror_mode": {
    "name": "ipython",
    "version": 3
   },
   "file_extension": ".py",
   "mimetype": "text/x-python",
   "name": "python",
   "nbconvert_exporter": "python",
   "pygments_lexer": "ipython3",
   "version": "3.6.2"
  }
 },
 "nbformat": 4,
 "nbformat_minor": 0
}
