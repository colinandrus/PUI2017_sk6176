{
 "cells": [
  {
   "cell_type": "markdown",
   "metadata": {},
   "source": [
    "**investigate linear relationships between fire arm possession, homicides by fire arms, and mass shootings for different countries, considering also the country GDP**"
   ]
  },
  {
   "cell_type": "markdown",
   "metadata": {},
   "source": [
    "# DATA: \n",
    "\n",
    "The Guardian firearms murders and ownership data. The relevans sheet is uploaded in the github repository as a csv file. Download it from there. Note: this dataset is from 2012.\n",
    "\n",
    "**Extra credit**: download directly from google docs with a google API\n",
    "\n",
    "https://docs.google.com/spreadsheets/d/1chqUZHuY6cXYrRYkuE0uwXisGaYvr7durZHJhpLGycs/edit#gid=0\n",
    "\n",
    "Number of mass shootings: find the link here https://datawrapper.dwcdn.net/pvLFI/4/\n",
    "\n",
    "The world population by country find the download link here :\n",
    "https://data.worldbank.org/indicator/SP.POP.TOTL\n",
    "\n",
    "Remember that all read or downloads have to me reproducible.\n",
    "\n",
    "Merge all datasets. After throwing away the irrelevant data it should look something like this (I renamed the GDP and the population as gdp\" and \"pop\")\n",
    "\n",
    "Throughout, when I ask you to include errors in plots or models, use Poisson statistics: the error is the square root of the number you are considering (e.g. this country has N fire arms +/- square root of N, or this country has Np [= N/population +/- (square root of N) / population] fire arms per person)."
   ]
  },
  {
   "cell_type": "code",
   "execution_count": 1,
   "metadata": {
    "collapsed": true,
    "scrolled": true
   },
   "outputs": [],
   "source": [
    "# !GET https://https://docs.google.com/spreadsheets/d/1chqUZHuY6cXYrRYkuE0uwXisGaYvr7durZHJhpLGycs/edit#gid=0?alt=media\n",
    "# Authorization: Bearer <ACCESS_TOKEN>"
   ]
  },
  {
   "cell_type": "code",
   "execution_count": 2,
   "metadata": {
    "collapsed": false
   },
   "outputs": [
    {
     "name": "stdout",
     "output_type": "stream",
     "text": [
      "Populating the interactive namespace from numpy and matplotlib\n"
     ]
    },
    {
     "data": {
      "text/plain": [
       "'/home/cusp/sk6176/PUIdata'"
      ]
     },
     "execution_count": 2,
     "metadata": {},
     "output_type": "execute_result"
    }
   ],
   "source": [
    "import pandas as pd\n",
    "import numpy as np\n",
    "import matplotlib as pl\n",
    "import pylab as pl\n",
    "import scipy as sp\n",
    "from scipy import stats\n",
    "import statsmodels.formula.api as smf\n",
    "import statsmodels.graphics.api as smg\n",
    "import os\n",
    "%pylab inline\n",
    "\n",
    "os.getenv('PUIDATA')"
   ]
  },
  {
   "cell_type": "code",
   "execution_count": 3,
   "metadata": {
    "collapsed": true,
    "scrolled": true
   },
   "outputs": [],
   "source": [
    "df_firearms_murder = pd.read_csv(os.getenv(\"PUIDATA\")+\"/\"+ \"World firearms murders and ownership - Sheet 1.csv\")\n",
    "df_GDP = pd.read_csv(os.getenv(\"PUIDATA\")+\"/\"+'API_NY.GDP.MKTP.CD_DS2_en_csv_v2.csv')\n",
    "df_world_population = pd.read_csv(os.getenv(\"PUIDATA\")+\"/\"+'API_SP.POP.TOTL_DS2_en_csv_v2.csv')\n",
    "df_mass_shooting = pd.read_csv(os.getenv(\"PUIDATA\")+\"/\"+'data-pvLFI.csv')"
   ]
  },
  {
   "cell_type": "code",
   "execution_count": 4,
   "metadata": {
    "collapsed": false
   },
   "outputs": [
    {
     "data": {
      "text/html": [
       "<div>\n",
       "<table border=\"1\" class=\"dataframe\">\n",
       "  <thead>\n",
       "    <tr style=\"text-align: right;\">\n",
       "      <th></th>\n",
       "      <th>Country/Territory</th>\n",
       "      <th>ISO code</th>\n",
       "      <th>Source</th>\n",
       "      <th>% of homicides by firearm</th>\n",
       "      <th>Number of homicides by firearm</th>\n",
       "      <th>Homicide by firearm rate per 100,000 pop</th>\n",
       "      <th>Rank by rate of ownership</th>\n",
       "      <th>Average firearms per 100 people</th>\n",
       "      <th>Average total all civilian firearms</th>\n",
       "    </tr>\n",
       "  </thead>\n",
       "  <tbody>\n",
       "    <tr>\n",
       "      <th>0</th>\n",
       "      <td>Albania</td>\n",
       "      <td>AL</td>\n",
       "      <td>CTS</td>\n",
       "      <td>65.9</td>\n",
       "      <td>56.0</td>\n",
       "      <td>1.76</td>\n",
       "      <td>70.0</td>\n",
       "      <td>8.6</td>\n",
       "      <td>270000.0</td>\n",
       "    </tr>\n",
       "    <tr>\n",
       "      <th>1</th>\n",
       "      <td>Algeria</td>\n",
       "      <td>DZ</td>\n",
       "      <td>CTS</td>\n",
       "      <td>4.8</td>\n",
       "      <td>20.0</td>\n",
       "      <td>0.06</td>\n",
       "      <td>78.0</td>\n",
       "      <td>7.6</td>\n",
       "      <td>1900000.0</td>\n",
       "    </tr>\n",
       "    <tr>\n",
       "      <th>2</th>\n",
       "      <td>Angola</td>\n",
       "      <td>AO</td>\n",
       "      <td>NaN</td>\n",
       "      <td>NaN</td>\n",
       "      <td>NaN</td>\n",
       "      <td>NaN</td>\n",
       "      <td>34.0</td>\n",
       "      <td>17.3</td>\n",
       "      <td>2800000.0</td>\n",
       "    </tr>\n",
       "    <tr>\n",
       "      <th>3</th>\n",
       "      <td>Anguilla</td>\n",
       "      <td>AI</td>\n",
       "      <td>WHO-MDB</td>\n",
       "      <td>24.0</td>\n",
       "      <td>1.0</td>\n",
       "      <td>7.14</td>\n",
       "      <td>NaN</td>\n",
       "      <td>NaN</td>\n",
       "      <td>NaN</td>\n",
       "    </tr>\n",
       "    <tr>\n",
       "      <th>4</th>\n",
       "      <td>Argentina</td>\n",
       "      <td>AR</td>\n",
       "      <td>Ministry of Justice</td>\n",
       "      <td>52.0</td>\n",
       "      <td>1198.0</td>\n",
       "      <td>3.02</td>\n",
       "      <td>62.0</td>\n",
       "      <td>10.2</td>\n",
       "      <td>3950000.0</td>\n",
       "    </tr>\n",
       "  </tbody>\n",
       "</table>\n",
       "</div>"
      ],
      "text/plain": [
       "  Country/Territory ISO code               Source  % of homicides by firearm  \\\n",
       "0           Albania       AL                  CTS                       65.9   \n",
       "1           Algeria       DZ                  CTS                        4.8   \n",
       "2            Angola       AO                  NaN                        NaN   \n",
       "3          Anguilla       AI              WHO-MDB                       24.0   \n",
       "4         Argentina       AR  Ministry of Justice                       52.0   \n",
       "\n",
       "   Number of homicides by firearm  Homicide by firearm rate per 100,000 pop  \\\n",
       "0                            56.0                                      1.76   \n",
       "1                            20.0                                      0.06   \n",
       "2                             NaN                                       NaN   \n",
       "3                             1.0                                      7.14   \n",
       "4                          1198.0                                      3.02   \n",
       "\n",
       "   Rank by rate of ownership  Average firearms per 100 people  \\\n",
       "0                       70.0                              8.6   \n",
       "1                       78.0                              7.6   \n",
       "2                       34.0                             17.3   \n",
       "3                        NaN                              NaN   \n",
       "4                       62.0                             10.2   \n",
       "\n",
       "   Average total all civilian firearms  \n",
       "0                             270000.0  \n",
       "1                            1900000.0  \n",
       "2                            2800000.0  \n",
       "3                                  NaN  \n",
       "4                            3950000.0  "
      ]
     },
     "execution_count": 4,
     "metadata": {},
     "output_type": "execute_result"
    }
   ],
   "source": [
    "df_firearms_murder.head(5)"
   ]
  },
  {
   "cell_type": "code",
   "execution_count": 5,
   "metadata": {
    "collapsed": false,
    "scrolled": true
   },
   "outputs": [
    {
     "data": {
      "text/html": [
       "<div>\n",
       "<table border=\"1\" class=\"dataframe\">\n",
       "  <thead>\n",
       "    <tr style=\"text-align: right;\">\n",
       "      <th></th>\n",
       "      <th>Country Name</th>\n",
       "      <th>Country Code</th>\n",
       "      <th>Indicator Name</th>\n",
       "      <th>Indicator Code</th>\n",
       "      <th>1960</th>\n",
       "      <th>1961</th>\n",
       "      <th>1962</th>\n",
       "      <th>1963</th>\n",
       "      <th>1964</th>\n",
       "      <th>1965</th>\n",
       "      <th>...</th>\n",
       "      <th>2007</th>\n",
       "      <th>2008</th>\n",
       "      <th>2009</th>\n",
       "      <th>2010</th>\n",
       "      <th>2011</th>\n",
       "      <th>2012</th>\n",
       "      <th>2013</th>\n",
       "      <th>2014</th>\n",
       "      <th>2015</th>\n",
       "      <th>2016</th>\n",
       "    </tr>\n",
       "  </thead>\n",
       "  <tbody>\n",
       "    <tr>\n",
       "      <th>0</th>\n",
       "      <td>Aruba</td>\n",
       "      <td>ABW</td>\n",
       "      <td>GDP (current US$)</td>\n",
       "      <td>NY.GDP.MKTP.CD</td>\n",
       "      <td>NaN</td>\n",
       "      <td>NaN</td>\n",
       "      <td>NaN</td>\n",
       "      <td>NaN</td>\n",
       "      <td>NaN</td>\n",
       "      <td>NaN</td>\n",
       "      <td>...</td>\n",
       "      <td>2.623726e+09</td>\n",
       "      <td>2.791961e+09</td>\n",
       "      <td>2.498933e+09</td>\n",
       "      <td>2.467704e+09</td>\n",
       "      <td>2.584464e+09</td>\n",
       "      <td>NaN</td>\n",
       "      <td>NaN</td>\n",
       "      <td>NaN</td>\n",
       "      <td>NaN</td>\n",
       "      <td>NaN</td>\n",
       "    </tr>\n",
       "    <tr>\n",
       "      <th>1</th>\n",
       "      <td>Afghanistan</td>\n",
       "      <td>AFG</td>\n",
       "      <td>GDP (current US$)</td>\n",
       "      <td>NY.GDP.MKTP.CD</td>\n",
       "      <td>5.377778e+08</td>\n",
       "      <td>5.488889e+08</td>\n",
       "      <td>5.466667e+08</td>\n",
       "      <td>7.511112e+08</td>\n",
       "      <td>8.000000e+08</td>\n",
       "      <td>1.006667e+09</td>\n",
       "      <td>...</td>\n",
       "      <td>9.843842e+09</td>\n",
       "      <td>1.019053e+10</td>\n",
       "      <td>1.248694e+10</td>\n",
       "      <td>1.593680e+10</td>\n",
       "      <td>1.793024e+10</td>\n",
       "      <td>2.053654e+10</td>\n",
       "      <td>2.004633e+10</td>\n",
       "      <td>2.005019e+10</td>\n",
       "      <td>1.970299e+10</td>\n",
       "      <td>1.946902e+10</td>\n",
       "    </tr>\n",
       "    <tr>\n",
       "      <th>2</th>\n",
       "      <td>Angola</td>\n",
       "      <td>AGO</td>\n",
       "      <td>GDP (current US$)</td>\n",
       "      <td>NY.GDP.MKTP.CD</td>\n",
       "      <td>NaN</td>\n",
       "      <td>NaN</td>\n",
       "      <td>NaN</td>\n",
       "      <td>NaN</td>\n",
       "      <td>NaN</td>\n",
       "      <td>NaN</td>\n",
       "      <td>...</td>\n",
       "      <td>6.044892e+10</td>\n",
       "      <td>8.417803e+10</td>\n",
       "      <td>7.549238e+10</td>\n",
       "      <td>8.247091e+10</td>\n",
       "      <td>1.041159e+11</td>\n",
       "      <td>1.153984e+11</td>\n",
       "      <td>1.249121e+11</td>\n",
       "      <td>1.267769e+11</td>\n",
       "      <td>1.029622e+11</td>\n",
       "      <td>8.963316e+10</td>\n",
       "    </tr>\n",
       "    <tr>\n",
       "      <th>3</th>\n",
       "      <td>Albania</td>\n",
       "      <td>ALB</td>\n",
       "      <td>GDP (current US$)</td>\n",
       "      <td>NY.GDP.MKTP.CD</td>\n",
       "      <td>NaN</td>\n",
       "      <td>NaN</td>\n",
       "      <td>NaN</td>\n",
       "      <td>NaN</td>\n",
       "      <td>NaN</td>\n",
       "      <td>NaN</td>\n",
       "      <td>...</td>\n",
       "      <td>1.070101e+10</td>\n",
       "      <td>1.288135e+10</td>\n",
       "      <td>1.204421e+10</td>\n",
       "      <td>1.192695e+10</td>\n",
       "      <td>1.289087e+10</td>\n",
       "      <td>1.231978e+10</td>\n",
       "      <td>1.278103e+10</td>\n",
       "      <td>1.321986e+10</td>\n",
       "      <td>1.139037e+10</td>\n",
       "      <td>1.192689e+10</td>\n",
       "    </tr>\n",
       "    <tr>\n",
       "      <th>4</th>\n",
       "      <td>Andorra</td>\n",
       "      <td>AND</td>\n",
       "      <td>GDP (current US$)</td>\n",
       "      <td>NY.GDP.MKTP.CD</td>\n",
       "      <td>NaN</td>\n",
       "      <td>NaN</td>\n",
       "      <td>NaN</td>\n",
       "      <td>NaN</td>\n",
       "      <td>NaN</td>\n",
       "      <td>NaN</td>\n",
       "      <td>...</td>\n",
       "      <td>4.010991e+09</td>\n",
       "      <td>4.001201e+09</td>\n",
       "      <td>3.650083e+09</td>\n",
       "      <td>3.346517e+09</td>\n",
       "      <td>3.427023e+09</td>\n",
       "      <td>3.146152e+09</td>\n",
       "      <td>3.248925e+09</td>\n",
       "      <td>NaN</td>\n",
       "      <td>NaN</td>\n",
       "      <td>NaN</td>\n",
       "    </tr>\n",
       "  </tbody>\n",
       "</table>\n",
       "<p>5 rows × 61 columns</p>\n",
       "</div>"
      ],
      "text/plain": [
       "  Country Name Country Code     Indicator Name  Indicator Code          1960  \\\n",
       "0        Aruba          ABW  GDP (current US$)  NY.GDP.MKTP.CD           NaN   \n",
       "1  Afghanistan          AFG  GDP (current US$)  NY.GDP.MKTP.CD  5.377778e+08   \n",
       "2       Angola          AGO  GDP (current US$)  NY.GDP.MKTP.CD           NaN   \n",
       "3      Albania          ALB  GDP (current US$)  NY.GDP.MKTP.CD           NaN   \n",
       "4      Andorra          AND  GDP (current US$)  NY.GDP.MKTP.CD           NaN   \n",
       "\n",
       "           1961          1962          1963          1964          1965  \\\n",
       "0           NaN           NaN           NaN           NaN           NaN   \n",
       "1  5.488889e+08  5.466667e+08  7.511112e+08  8.000000e+08  1.006667e+09   \n",
       "2           NaN           NaN           NaN           NaN           NaN   \n",
       "3           NaN           NaN           NaN           NaN           NaN   \n",
       "4           NaN           NaN           NaN           NaN           NaN   \n",
       "\n",
       "       ...               2007          2008          2009          2010  \\\n",
       "0      ...       2.623726e+09  2.791961e+09  2.498933e+09  2.467704e+09   \n",
       "1      ...       9.843842e+09  1.019053e+10  1.248694e+10  1.593680e+10   \n",
       "2      ...       6.044892e+10  8.417803e+10  7.549238e+10  8.247091e+10   \n",
       "3      ...       1.070101e+10  1.288135e+10  1.204421e+10  1.192695e+10   \n",
       "4      ...       4.010991e+09  4.001201e+09  3.650083e+09  3.346517e+09   \n",
       "\n",
       "           2011          2012          2013          2014          2015  \\\n",
       "0  2.584464e+09           NaN           NaN           NaN           NaN   \n",
       "1  1.793024e+10  2.053654e+10  2.004633e+10  2.005019e+10  1.970299e+10   \n",
       "2  1.041159e+11  1.153984e+11  1.249121e+11  1.267769e+11  1.029622e+11   \n",
       "3  1.289087e+10  1.231978e+10  1.278103e+10  1.321986e+10  1.139037e+10   \n",
       "4  3.427023e+09  3.146152e+09  3.248925e+09           NaN           NaN   \n",
       "\n",
       "           2016  \n",
       "0           NaN  \n",
       "1  1.946902e+10  \n",
       "2  8.963316e+10  \n",
       "3  1.192689e+10  \n",
       "4           NaN  \n",
       "\n",
       "[5 rows x 61 columns]"
      ]
     },
     "execution_count": 5,
     "metadata": {},
     "output_type": "execute_result"
    }
   ],
   "source": [
    "df_GDP.head(5)"
   ]
  },
  {
   "cell_type": "code",
   "execution_count": 6,
   "metadata": {
    "collapsed": false
   },
   "outputs": [
    {
     "data": {
      "text/plain": [
       "Index([u'Country Name', u'Country Code', u'Indicator Name', u'Indicator Code',\n",
       "       u'1960', u'1961', u'1962', u'1963', u'1964', u'1965', u'1966', u'1967',\n",
       "       u'1968', u'1969', u'1970', u'1971', u'1972', u'1973', u'1974', u'1975',\n",
       "       u'1976', u'1977', u'1978', u'1979', u'1980', u'1981', u'1982', u'1983',\n",
       "       u'1984', u'1985', u'1986', u'1987', u'1988', u'1989', u'1990', u'1991',\n",
       "       u'1992', u'1993', u'1994', u'1995', u'1996', u'1997', u'1998', u'1999',\n",
       "       u'2000', u'2001', u'2002', u'2003', u'2004', u'2005', u'2006', u'2007',\n",
       "       u'2008', u'2009', u'2010', u'2011', u'2012', u'2013', u'2014', u'2015',\n",
       "       u'2016'],\n",
       "      dtype='object')"
      ]
     },
     "execution_count": 6,
     "metadata": {},
     "output_type": "execute_result"
    }
   ],
   "source": [
    "df_GDP.columns"
   ]
  },
  {
   "cell_type": "code",
   "execution_count": 7,
   "metadata": {
    "collapsed": true,
    "scrolled": true
   },
   "outputs": [],
   "source": [
    "df_GDP = df_GDP[['Country Name','2012']]"
   ]
  },
  {
   "cell_type": "code",
   "execution_count": 8,
   "metadata": {
    "collapsed": false
   },
   "outputs": [
    {
     "data": {
      "text/html": [
       "<div>\n",
       "<table border=\"1\" class=\"dataframe\">\n",
       "  <thead>\n",
       "    <tr style=\"text-align: right;\">\n",
       "      <th></th>\n",
       "      <th>Country Name</th>\n",
       "      <th>2012</th>\n",
       "    </tr>\n",
       "  </thead>\n",
       "  <tbody>\n",
       "    <tr>\n",
       "      <th>0</th>\n",
       "      <td>Aruba</td>\n",
       "      <td>NaN</td>\n",
       "    </tr>\n",
       "    <tr>\n",
       "      <th>1</th>\n",
       "      <td>Afghanistan</td>\n",
       "      <td>2.053654e+10</td>\n",
       "    </tr>\n",
       "    <tr>\n",
       "      <th>2</th>\n",
       "      <td>Angola</td>\n",
       "      <td>1.153984e+11</td>\n",
       "    </tr>\n",
       "    <tr>\n",
       "      <th>3</th>\n",
       "      <td>Albania</td>\n",
       "      <td>1.231978e+10</td>\n",
       "    </tr>\n",
       "    <tr>\n",
       "      <th>4</th>\n",
       "      <td>Andorra</td>\n",
       "      <td>3.146152e+09</td>\n",
       "    </tr>\n",
       "  </tbody>\n",
       "</table>\n",
       "</div>"
      ],
      "text/plain": [
       "  Country Name          2012\n",
       "0        Aruba           NaN\n",
       "1  Afghanistan  2.053654e+10\n",
       "2       Angola  1.153984e+11\n",
       "3      Albania  1.231978e+10\n",
       "4      Andorra  3.146152e+09"
      ]
     },
     "execution_count": 8,
     "metadata": {},
     "output_type": "execute_result"
    }
   ],
   "source": [
    "df_GDP.head()"
   ]
  },
  {
   "cell_type": "code",
   "execution_count": 9,
   "metadata": {
    "collapsed": false,
    "scrolled": true
   },
   "outputs": [
    {
     "data": {
      "text/html": [
       "<div>\n",
       "<table border=\"1\" class=\"dataframe\">\n",
       "  <thead>\n",
       "    <tr style=\"text-align: right;\">\n",
       "      <th></th>\n",
       "      <th>Country Name</th>\n",
       "      <th>Country Code</th>\n",
       "      <th>Indicator Name</th>\n",
       "      <th>Indicator Code</th>\n",
       "      <th>1960</th>\n",
       "      <th>1961</th>\n",
       "      <th>1962</th>\n",
       "      <th>1963</th>\n",
       "      <th>1964</th>\n",
       "      <th>1965</th>\n",
       "      <th>...</th>\n",
       "      <th>2007</th>\n",
       "      <th>2008</th>\n",
       "      <th>2009</th>\n",
       "      <th>2010</th>\n",
       "      <th>2011</th>\n",
       "      <th>2012</th>\n",
       "      <th>2013</th>\n",
       "      <th>2014</th>\n",
       "      <th>2015</th>\n",
       "      <th>2016</th>\n",
       "    </tr>\n",
       "  </thead>\n",
       "  <tbody>\n",
       "    <tr>\n",
       "      <th>0</th>\n",
       "      <td>Aruba</td>\n",
       "      <td>ABW</td>\n",
       "      <td>Population, total</td>\n",
       "      <td>SP.POP.TOTL</td>\n",
       "      <td>54211.0</td>\n",
       "      <td>55438.0</td>\n",
       "      <td>56225.0</td>\n",
       "      <td>56695.0</td>\n",
       "      <td>57032.0</td>\n",
       "      <td>57360.0</td>\n",
       "      <td>...</td>\n",
       "      <td>101220.0</td>\n",
       "      <td>101353.0</td>\n",
       "      <td>101453.0</td>\n",
       "      <td>101669.0</td>\n",
       "      <td>102053.0</td>\n",
       "      <td>102577.0</td>\n",
       "      <td>103187.0</td>\n",
       "      <td>103795.0</td>\n",
       "      <td>104341.0</td>\n",
       "      <td>104822.0</td>\n",
       "    </tr>\n",
       "    <tr>\n",
       "      <th>1</th>\n",
       "      <td>Afghanistan</td>\n",
       "      <td>AFG</td>\n",
       "      <td>Population, total</td>\n",
       "      <td>SP.POP.TOTL</td>\n",
       "      <td>8996351.0</td>\n",
       "      <td>9166764.0</td>\n",
       "      <td>9345868.0</td>\n",
       "      <td>9533954.0</td>\n",
       "      <td>9731361.0</td>\n",
       "      <td>9938414.0</td>\n",
       "      <td>...</td>\n",
       "      <td>26616792.0</td>\n",
       "      <td>27294031.0</td>\n",
       "      <td>28004331.0</td>\n",
       "      <td>28803167.0</td>\n",
       "      <td>29708599.0</td>\n",
       "      <td>30696958.0</td>\n",
       "      <td>31731688.0</td>\n",
       "      <td>32758020.0</td>\n",
       "      <td>33736494.0</td>\n",
       "      <td>34656032.0</td>\n",
       "    </tr>\n",
       "    <tr>\n",
       "      <th>2</th>\n",
       "      <td>Angola</td>\n",
       "      <td>AGO</td>\n",
       "      <td>Population, total</td>\n",
       "      <td>SP.POP.TOTL</td>\n",
       "      <td>5643182.0</td>\n",
       "      <td>5753024.0</td>\n",
       "      <td>5866061.0</td>\n",
       "      <td>5980417.0</td>\n",
       "      <td>6093321.0</td>\n",
       "      <td>6203299.0</td>\n",
       "      <td>...</td>\n",
       "      <td>20997687.0</td>\n",
       "      <td>21759420.0</td>\n",
       "      <td>22549547.0</td>\n",
       "      <td>23369131.0</td>\n",
       "      <td>24218565.0</td>\n",
       "      <td>25096150.0</td>\n",
       "      <td>25998340.0</td>\n",
       "      <td>26920466.0</td>\n",
       "      <td>27859305.0</td>\n",
       "      <td>28813463.0</td>\n",
       "    </tr>\n",
       "    <tr>\n",
       "      <th>3</th>\n",
       "      <td>Albania</td>\n",
       "      <td>ALB</td>\n",
       "      <td>Population, total</td>\n",
       "      <td>SP.POP.TOTL</td>\n",
       "      <td>1608800.0</td>\n",
       "      <td>1659800.0</td>\n",
       "      <td>1711319.0</td>\n",
       "      <td>1762621.0</td>\n",
       "      <td>1814135.0</td>\n",
       "      <td>1864791.0</td>\n",
       "      <td>...</td>\n",
       "      <td>2970017.0</td>\n",
       "      <td>2947314.0</td>\n",
       "      <td>2927519.0</td>\n",
       "      <td>2913021.0</td>\n",
       "      <td>2905195.0</td>\n",
       "      <td>2900401.0</td>\n",
       "      <td>2895092.0</td>\n",
       "      <td>2889104.0</td>\n",
       "      <td>2880703.0</td>\n",
       "      <td>2876101.0</td>\n",
       "    </tr>\n",
       "    <tr>\n",
       "      <th>4</th>\n",
       "      <td>Andorra</td>\n",
       "      <td>AND</td>\n",
       "      <td>Population, total</td>\n",
       "      <td>SP.POP.TOTL</td>\n",
       "      <td>13411.0</td>\n",
       "      <td>14375.0</td>\n",
       "      <td>15370.0</td>\n",
       "      <td>16412.0</td>\n",
       "      <td>17469.0</td>\n",
       "      <td>18549.0</td>\n",
       "      <td>...</td>\n",
       "      <td>82683.0</td>\n",
       "      <td>83861.0</td>\n",
       "      <td>84462.0</td>\n",
       "      <td>84449.0</td>\n",
       "      <td>83751.0</td>\n",
       "      <td>82431.0</td>\n",
       "      <td>80788.0</td>\n",
       "      <td>79223.0</td>\n",
       "      <td>78014.0</td>\n",
       "      <td>77281.0</td>\n",
       "    </tr>\n",
       "    <tr>\n",
       "      <th>5</th>\n",
       "      <td>Arab World</td>\n",
       "      <td>ARB</td>\n",
       "      <td>Population, total</td>\n",
       "      <td>SP.POP.TOTL</td>\n",
       "      <td>92490932.0</td>\n",
       "      <td>95044497.0</td>\n",
       "      <td>97682294.0</td>\n",
       "      <td>100411076.0</td>\n",
       "      <td>103239902.0</td>\n",
       "      <td>106174988.0</td>\n",
       "      <td>...</td>\n",
       "      <td>331653797.0</td>\n",
       "      <td>339825483.0</td>\n",
       "      <td>348145094.0</td>\n",
       "      <td>356508908.0</td>\n",
       "      <td>364895878.0</td>\n",
       "      <td>373306993.0</td>\n",
       "      <td>381702086.0</td>\n",
       "      <td>390043028.0</td>\n",
       "      <td>398304960.0</td>\n",
       "      <td>406452690.0</td>\n",
       "    </tr>\n",
       "    <tr>\n",
       "      <th>6</th>\n",
       "      <td>United Arab Emirates</td>\n",
       "      <td>ARE</td>\n",
       "      <td>Population, total</td>\n",
       "      <td>SP.POP.TOTL</td>\n",
       "      <td>92634.0</td>\n",
       "      <td>101078.0</td>\n",
       "      <td>112472.0</td>\n",
       "      <td>125566.0</td>\n",
       "      <td>138529.0</td>\n",
       "      <td>150362.0</td>\n",
       "      <td>...</td>\n",
       "      <td>6044067.0</td>\n",
       "      <td>6894278.0</td>\n",
       "      <td>7666393.0</td>\n",
       "      <td>8270684.0</td>\n",
       "      <td>8672475.0</td>\n",
       "      <td>8900453.0</td>\n",
       "      <td>9006263.0</td>\n",
       "      <td>9070867.0</td>\n",
       "      <td>9154302.0</td>\n",
       "      <td>9269612.0</td>\n",
       "    </tr>\n",
       "    <tr>\n",
       "      <th>7</th>\n",
       "      <td>Argentina</td>\n",
       "      <td>ARG</td>\n",
       "      <td>Population, total</td>\n",
       "      <td>SP.POP.TOTL</td>\n",
       "      <td>20619075.0</td>\n",
       "      <td>20953077.0</td>\n",
       "      <td>21287682.0</td>\n",
       "      <td>21621840.0</td>\n",
       "      <td>21953929.0</td>\n",
       "      <td>22283390.0</td>\n",
       "      <td>...</td>\n",
       "      <td>39970224.0</td>\n",
       "      <td>40382389.0</td>\n",
       "      <td>40799407.0</td>\n",
       "      <td>41223889.0</td>\n",
       "      <td>41656879.0</td>\n",
       "      <td>42096739.0</td>\n",
       "      <td>42539925.0</td>\n",
       "      <td>42981515.0</td>\n",
       "      <td>43417765.0</td>\n",
       "      <td>43847430.0</td>\n",
       "    </tr>\n",
       "    <tr>\n",
       "      <th>8</th>\n",
       "      <td>Armenia</td>\n",
       "      <td>ARM</td>\n",
       "      <td>Population, total</td>\n",
       "      <td>SP.POP.TOTL</td>\n",
       "      <td>1874120.0</td>\n",
       "      <td>1941491.0</td>\n",
       "      <td>2009526.0</td>\n",
       "      <td>2077575.0</td>\n",
       "      <td>2144998.0</td>\n",
       "      <td>2211316.0</td>\n",
       "      <td>...</td>\n",
       "      <td>2933056.0</td>\n",
       "      <td>2908220.0</td>\n",
       "      <td>2888584.0</td>\n",
       "      <td>2877311.0</td>\n",
       "      <td>2875581.0</td>\n",
       "      <td>2881922.0</td>\n",
       "      <td>2893509.0</td>\n",
       "      <td>2906220.0</td>\n",
       "      <td>2916950.0</td>\n",
       "      <td>2924816.0</td>\n",
       "    </tr>\n",
       "    <tr>\n",
       "      <th>9</th>\n",
       "      <td>American Samoa</td>\n",
       "      <td>ASM</td>\n",
       "      <td>Population, total</td>\n",
       "      <td>SP.POP.TOTL</td>\n",
       "      <td>20013.0</td>\n",
       "      <td>20486.0</td>\n",
       "      <td>21117.0</td>\n",
       "      <td>21882.0</td>\n",
       "      <td>22698.0</td>\n",
       "      <td>23520.0</td>\n",
       "      <td>...</td>\n",
       "      <td>57903.0</td>\n",
       "      <td>57030.0</td>\n",
       "      <td>56227.0</td>\n",
       "      <td>55637.0</td>\n",
       "      <td>55320.0</td>\n",
       "      <td>55230.0</td>\n",
       "      <td>55307.0</td>\n",
       "      <td>55437.0</td>\n",
       "      <td>55537.0</td>\n",
       "      <td>55599.0</td>\n",
       "    </tr>\n",
       "  </tbody>\n",
       "</table>\n",
       "<p>10 rows × 61 columns</p>\n",
       "</div>"
      ],
      "text/plain": [
       "           Country Name Country Code     Indicator Name Indicator Code  \\\n",
       "0                 Aruba          ABW  Population, total    SP.POP.TOTL   \n",
       "1           Afghanistan          AFG  Population, total    SP.POP.TOTL   \n",
       "2                Angola          AGO  Population, total    SP.POP.TOTL   \n",
       "3               Albania          ALB  Population, total    SP.POP.TOTL   \n",
       "4               Andorra          AND  Population, total    SP.POP.TOTL   \n",
       "5            Arab World          ARB  Population, total    SP.POP.TOTL   \n",
       "6  United Arab Emirates          ARE  Population, total    SP.POP.TOTL   \n",
       "7             Argentina          ARG  Population, total    SP.POP.TOTL   \n",
       "8               Armenia          ARM  Population, total    SP.POP.TOTL   \n",
       "9        American Samoa          ASM  Population, total    SP.POP.TOTL   \n",
       "\n",
       "         1960        1961        1962         1963         1964         1965  \\\n",
       "0     54211.0     55438.0     56225.0      56695.0      57032.0      57360.0   \n",
       "1   8996351.0   9166764.0   9345868.0    9533954.0    9731361.0    9938414.0   \n",
       "2   5643182.0   5753024.0   5866061.0    5980417.0    6093321.0    6203299.0   \n",
       "3   1608800.0   1659800.0   1711319.0    1762621.0    1814135.0    1864791.0   \n",
       "4     13411.0     14375.0     15370.0      16412.0      17469.0      18549.0   \n",
       "5  92490932.0  95044497.0  97682294.0  100411076.0  103239902.0  106174988.0   \n",
       "6     92634.0    101078.0    112472.0     125566.0     138529.0     150362.0   \n",
       "7  20619075.0  20953077.0  21287682.0   21621840.0   21953929.0   22283390.0   \n",
       "8   1874120.0   1941491.0   2009526.0    2077575.0    2144998.0    2211316.0   \n",
       "9     20013.0     20486.0     21117.0      21882.0      22698.0      23520.0   \n",
       "\n",
       "      ...              2007         2008         2009         2010  \\\n",
       "0     ...          101220.0     101353.0     101453.0     101669.0   \n",
       "1     ...        26616792.0   27294031.0   28004331.0   28803167.0   \n",
       "2     ...        20997687.0   21759420.0   22549547.0   23369131.0   \n",
       "3     ...         2970017.0    2947314.0    2927519.0    2913021.0   \n",
       "4     ...           82683.0      83861.0      84462.0      84449.0   \n",
       "5     ...       331653797.0  339825483.0  348145094.0  356508908.0   \n",
       "6     ...         6044067.0    6894278.0    7666393.0    8270684.0   \n",
       "7     ...        39970224.0   40382389.0   40799407.0   41223889.0   \n",
       "8     ...         2933056.0    2908220.0    2888584.0    2877311.0   \n",
       "9     ...           57903.0      57030.0      56227.0      55637.0   \n",
       "\n",
       "          2011         2012         2013         2014         2015  \\\n",
       "0     102053.0     102577.0     103187.0     103795.0     104341.0   \n",
       "1   29708599.0   30696958.0   31731688.0   32758020.0   33736494.0   \n",
       "2   24218565.0   25096150.0   25998340.0   26920466.0   27859305.0   \n",
       "3    2905195.0    2900401.0    2895092.0    2889104.0    2880703.0   \n",
       "4      83751.0      82431.0      80788.0      79223.0      78014.0   \n",
       "5  364895878.0  373306993.0  381702086.0  390043028.0  398304960.0   \n",
       "6    8672475.0    8900453.0    9006263.0    9070867.0    9154302.0   \n",
       "7   41656879.0   42096739.0   42539925.0   42981515.0   43417765.0   \n",
       "8    2875581.0    2881922.0    2893509.0    2906220.0    2916950.0   \n",
       "9      55320.0      55230.0      55307.0      55437.0      55537.0   \n",
       "\n",
       "          2016  \n",
       "0     104822.0  \n",
       "1   34656032.0  \n",
       "2   28813463.0  \n",
       "3    2876101.0  \n",
       "4      77281.0  \n",
       "5  406452690.0  \n",
       "6    9269612.0  \n",
       "7   43847430.0  \n",
       "8    2924816.0  \n",
       "9      55599.0  \n",
       "\n",
       "[10 rows x 61 columns]"
      ]
     },
     "execution_count": 9,
     "metadata": {},
     "output_type": "execute_result"
    }
   ],
   "source": [
    "df_world_population.head(10)"
   ]
  },
  {
   "cell_type": "code",
   "execution_count": 10,
   "metadata": {
    "collapsed": true,
    "scrolled": true
   },
   "outputs": [],
   "source": [
    "df_world_population=df_world_population[['Country Name','2012']]"
   ]
  },
  {
   "cell_type": "code",
   "execution_count": 11,
   "metadata": {
    "collapsed": false,
    "scrolled": true
   },
   "outputs": [
    {
     "data": {
      "text/html": [
       "<div>\n",
       "<table border=\"1\" class=\"dataframe\">\n",
       "  <thead>\n",
       "    <tr style=\"text-align: right;\">\n",
       "      <th></th>\n",
       "      <th>Country Name</th>\n",
       "      <th>2012</th>\n",
       "    </tr>\n",
       "  </thead>\n",
       "  <tbody>\n",
       "    <tr>\n",
       "      <th>0</th>\n",
       "      <td>Aruba</td>\n",
       "      <td>102577.0</td>\n",
       "    </tr>\n",
       "    <tr>\n",
       "      <th>1</th>\n",
       "      <td>Afghanistan</td>\n",
       "      <td>30696958.0</td>\n",
       "    </tr>\n",
       "    <tr>\n",
       "      <th>2</th>\n",
       "      <td>Angola</td>\n",
       "      <td>25096150.0</td>\n",
       "    </tr>\n",
       "    <tr>\n",
       "      <th>3</th>\n",
       "      <td>Albania</td>\n",
       "      <td>2900401.0</td>\n",
       "    </tr>\n",
       "    <tr>\n",
       "      <th>4</th>\n",
       "      <td>Andorra</td>\n",
       "      <td>82431.0</td>\n",
       "    </tr>\n",
       "  </tbody>\n",
       "</table>\n",
       "</div>"
      ],
      "text/plain": [
       "  Country Name        2012\n",
       "0        Aruba    102577.0\n",
       "1  Afghanistan  30696958.0\n",
       "2       Angola  25096150.0\n",
       "3      Albania   2900401.0\n",
       "4      Andorra     82431.0"
      ]
     },
     "execution_count": 11,
     "metadata": {},
     "output_type": "execute_result"
    }
   ],
   "source": [
    "df_world_population.head(5)"
   ]
  },
  {
   "cell_type": "code",
   "execution_count": 12,
   "metadata": {
    "collapsed": false,
    "scrolled": true
   },
   "outputs": [
    {
     "data": {
      "text/html": [
       "<div>\n",
       "<table border=\"1\" class=\"dataframe\">\n",
       "  <thead>\n",
       "    <tr style=\"text-align: right;\">\n",
       "      <th></th>\n",
       "      <th>Country</th>\n",
       "      <th>Guns/100 inhabitants</th>\n",
       "      <th>Number of mass shootings</th>\n",
       "    </tr>\n",
       "  </thead>\n",
       "  <tbody>\n",
       "    <tr>\n",
       "      <th>0</th>\n",
       "      <td>Australia</td>\n",
       "      <td>15.0</td>\n",
       "      <td>4</td>\n",
       "    </tr>\n",
       "    <tr>\n",
       "      <th>1</th>\n",
       "      <td>Austria</td>\n",
       "      <td>30.4</td>\n",
       "      <td>1</td>\n",
       "    </tr>\n",
       "    <tr>\n",
       "      <th>2</th>\n",
       "      <td>Beligium</td>\n",
       "      <td>17.2</td>\n",
       "      <td>2</td>\n",
       "    </tr>\n",
       "    <tr>\n",
       "      <th>3</th>\n",
       "      <td>Canada</td>\n",
       "      <td>30.8</td>\n",
       "      <td>4</td>\n",
       "    </tr>\n",
       "    <tr>\n",
       "      <th>4</th>\n",
       "      <td>Denmark</td>\n",
       "      <td>12.0</td>\n",
       "      <td>0</td>\n",
       "    </tr>\n",
       "  </tbody>\n",
       "</table>\n",
       "</div>"
      ],
      "text/plain": [
       "     Country  Guns/100 inhabitants  Number of mass shootings\n",
       "0  Australia                  15.0                         4\n",
       "1    Austria                  30.4                         1\n",
       "2   Beligium                  17.2                         2\n",
       "3     Canada                  30.8                         4\n",
       "4    Denmark                  12.0                         0"
      ]
     },
     "execution_count": 12,
     "metadata": {},
     "output_type": "execute_result"
    }
   ],
   "source": [
    "df_mass_shooting.head(5)"
   ]
  },
  {
   "cell_type": "code",
   "execution_count": 13,
   "metadata": {
    "ExecuteTime": {
     "end_time": "2017-10-12T11:18:40.575581",
     "start_time": "2017-10-12T11:18:40.446116"
    },
    "collapsed": false,
    "run_control": {
     "frozen": false,
     "read_only": false
    },
    "scrolled": false
   },
   "outputs": [
    {
     "data": {
      "text/html": [
       "<div>\n",
       "<table border=\"1\" class=\"dataframe\">\n",
       "  <thead>\n",
       "    <tr style=\"text-align: right;\">\n",
       "      <th></th>\n",
       "      <th>Country Name</th>\n",
       "      <th>2012</th>\n",
       "      <th>Country</th>\n",
       "      <th>Guns/100 inhabitants</th>\n",
       "      <th>Number of mass shootings</th>\n",
       "    </tr>\n",
       "  </thead>\n",
       "  <tbody>\n",
       "    <tr>\n",
       "      <th>0</th>\n",
       "      <td>Australia</td>\n",
       "      <td>22728254.0</td>\n",
       "      <td>Australia</td>\n",
       "      <td>15.0</td>\n",
       "      <td>4</td>\n",
       "    </tr>\n",
       "    <tr>\n",
       "      <th>1</th>\n",
       "      <td>Austria</td>\n",
       "      <td>8429991.0</td>\n",
       "      <td>Austria</td>\n",
       "      <td>30.4</td>\n",
       "      <td>1</td>\n",
       "    </tr>\n",
       "    <tr>\n",
       "      <th>2</th>\n",
       "      <td>Canada</td>\n",
       "      <td>34750545.0</td>\n",
       "      <td>Canada</td>\n",
       "      <td>30.8</td>\n",
       "      <td>4</td>\n",
       "    </tr>\n",
       "    <tr>\n",
       "      <th>3</th>\n",
       "      <td>Switzerland</td>\n",
       "      <td>7996861.0</td>\n",
       "      <td>Switzerland</td>\n",
       "      <td>45.7</td>\n",
       "      <td>2</td>\n",
       "    </tr>\n",
       "    <tr>\n",
       "      <th>4</th>\n",
       "      <td>Germany</td>\n",
       "      <td>80425823.0</td>\n",
       "      <td>Germany</td>\n",
       "      <td>30.3</td>\n",
       "      <td>7</td>\n",
       "    </tr>\n",
       "  </tbody>\n",
       "</table>\n",
       "</div>"
      ],
      "text/plain": [
       "  Country Name        2012      Country  Guns/100 inhabitants  \\\n",
       "0    Australia  22728254.0    Australia                  15.0   \n",
       "1      Austria   8429991.0      Austria                  30.4   \n",
       "2       Canada  34750545.0       Canada                  30.8   \n",
       "3  Switzerland   7996861.0  Switzerland                  45.7   \n",
       "4      Germany  80425823.0      Germany                  30.3   \n",
       "\n",
       "   Number of mass shootings  \n",
       "0                         4  \n",
       "1                         1  \n",
       "2                         4  \n",
       "3                         2  \n",
       "4                         7  "
      ]
     },
     "execution_count": 13,
     "metadata": {},
     "output_type": "execute_result"
    }
   ],
   "source": [
    "df = df_world_population.merge(df_mass_shooting, right_on=\"Country\", left_on=\"Country Name\")\n",
    "df.head()"
   ]
  },
  {
   "cell_type": "code",
   "execution_count": 14,
   "metadata": {
    "collapsed": true,
    "scrolled": true
   },
   "outputs": [],
   "source": [
    "df = df.merge(df_GDP, right_on = \"Country Name\", left_on =\"Country Name\")"
   ]
  },
  {
   "cell_type": "code",
   "execution_count": 15,
   "metadata": {
    "collapsed": false,
    "scrolled": true
   },
   "outputs": [
    {
     "data": {
      "text/html": [
       "<div>\n",
       "<table border=\"1\" class=\"dataframe\">\n",
       "  <thead>\n",
       "    <tr style=\"text-align: right;\">\n",
       "      <th></th>\n",
       "      <th>Country Name</th>\n",
       "      <th>2012_x</th>\n",
       "      <th>Country</th>\n",
       "      <th>Guns/100 inhabitants</th>\n",
       "      <th>Number of mass shootings</th>\n",
       "      <th>2012_y</th>\n",
       "    </tr>\n",
       "  </thead>\n",
       "  <tbody>\n",
       "    <tr>\n",
       "      <th>0</th>\n",
       "      <td>Australia</td>\n",
       "      <td>22728254.0</td>\n",
       "      <td>Australia</td>\n",
       "      <td>15.0</td>\n",
       "      <td>4</td>\n",
       "      <td>1.538194e+12</td>\n",
       "    </tr>\n",
       "    <tr>\n",
       "      <th>1</th>\n",
       "      <td>Austria</td>\n",
       "      <td>8429991.0</td>\n",
       "      <td>Austria</td>\n",
       "      <td>30.4</td>\n",
       "      <td>1</td>\n",
       "      <td>4.074516e+11</td>\n",
       "    </tr>\n",
       "    <tr>\n",
       "      <th>2</th>\n",
       "      <td>Canada</td>\n",
       "      <td>34750545.0</td>\n",
       "      <td>Canada</td>\n",
       "      <td>30.8</td>\n",
       "      <td>4</td>\n",
       "      <td>1.824289e+12</td>\n",
       "    </tr>\n",
       "    <tr>\n",
       "      <th>3</th>\n",
       "      <td>Switzerland</td>\n",
       "      <td>7996861.0</td>\n",
       "      <td>Switzerland</td>\n",
       "      <td>45.7</td>\n",
       "      <td>2</td>\n",
       "      <td>6.650541e+11</td>\n",
       "    </tr>\n",
       "    <tr>\n",
       "      <th>4</th>\n",
       "      <td>Germany</td>\n",
       "      <td>80425823.0</td>\n",
       "      <td>Germany</td>\n",
       "      <td>30.3</td>\n",
       "      <td>7</td>\n",
       "      <td>3.543984e+12</td>\n",
       "    </tr>\n",
       "  </tbody>\n",
       "</table>\n",
       "</div>"
      ],
      "text/plain": [
       "  Country Name      2012_x      Country  Guns/100 inhabitants  \\\n",
       "0    Australia  22728254.0    Australia                  15.0   \n",
       "1      Austria   8429991.0      Austria                  30.4   \n",
       "2       Canada  34750545.0       Canada                  30.8   \n",
       "3  Switzerland   7996861.0  Switzerland                  45.7   \n",
       "4      Germany  80425823.0      Germany                  30.3   \n",
       "\n",
       "   Number of mass shootings        2012_y  \n",
       "0                         4  1.538194e+12  \n",
       "1                         1  4.074516e+11  \n",
       "2                         4  1.824289e+12  \n",
       "3                         2  6.650541e+11  \n",
       "4                         7  3.543984e+12  "
      ]
     },
     "execution_count": 15,
     "metadata": {},
     "output_type": "execute_result"
    }
   ],
   "source": [
    "df.head()"
   ]
  },
  {
   "cell_type": "code",
   "execution_count": 16,
   "metadata": {
    "collapsed": false
   },
   "outputs": [
    {
     "data": {
      "text/plain": [
       "Index([u'Country/Territory', u'ISO code', u'Source',\n",
       "       u'% of homicides by firearm', u'Number of homicides by firearm',\n",
       "       u'Homicide by firearm rate per 100,000 pop',\n",
       "       u'Rank by rate of ownership', u'Average firearms per 100 people',\n",
       "       u'Average total all civilian firearms'],\n",
       "      dtype='object')"
      ]
     },
     "execution_count": 16,
     "metadata": {},
     "output_type": "execute_result"
    }
   ],
   "source": [
    "df_firearms_murder.columns"
   ]
  },
  {
   "cell_type": "code",
   "execution_count": 17,
   "metadata": {
    "collapsed": false
   },
   "outputs": [
    {
     "data": {
      "text/html": [
       "<div>\n",
       "<table border=\"1\" class=\"dataframe\">\n",
       "  <thead>\n",
       "    <tr style=\"text-align: right;\">\n",
       "      <th></th>\n",
       "      <th>Country/Territory</th>\n",
       "      <th>ISO code</th>\n",
       "      <th>Source</th>\n",
       "      <th>% of homicides by firearm</th>\n",
       "      <th>Number of homicides by firearm</th>\n",
       "      <th>Homicide by firearm rate per 100,000 pop</th>\n",
       "      <th>Rank by rate of ownership</th>\n",
       "      <th>Average firearms per 100 people</th>\n",
       "      <th>Average total all civilian firearms</th>\n",
       "    </tr>\n",
       "  </thead>\n",
       "  <tbody>\n",
       "    <tr>\n",
       "      <th>0</th>\n",
       "      <td>Albania</td>\n",
       "      <td>AL</td>\n",
       "      <td>CTS</td>\n",
       "      <td>65.9</td>\n",
       "      <td>56.0</td>\n",
       "      <td>1.76</td>\n",
       "      <td>70.0</td>\n",
       "      <td>8.6</td>\n",
       "      <td>270000.0</td>\n",
       "    </tr>\n",
       "    <tr>\n",
       "      <th>1</th>\n",
       "      <td>Algeria</td>\n",
       "      <td>DZ</td>\n",
       "      <td>CTS</td>\n",
       "      <td>4.8</td>\n",
       "      <td>20.0</td>\n",
       "      <td>0.06</td>\n",
       "      <td>78.0</td>\n",
       "      <td>7.6</td>\n",
       "      <td>1900000.0</td>\n",
       "    </tr>\n",
       "    <tr>\n",
       "      <th>2</th>\n",
       "      <td>Angola</td>\n",
       "      <td>AO</td>\n",
       "      <td>NaN</td>\n",
       "      <td>NaN</td>\n",
       "      <td>NaN</td>\n",
       "      <td>NaN</td>\n",
       "      <td>34.0</td>\n",
       "      <td>17.3</td>\n",
       "      <td>2800000.0</td>\n",
       "    </tr>\n",
       "    <tr>\n",
       "      <th>3</th>\n",
       "      <td>Anguilla</td>\n",
       "      <td>AI</td>\n",
       "      <td>WHO-MDB</td>\n",
       "      <td>24.0</td>\n",
       "      <td>1.0</td>\n",
       "      <td>7.14</td>\n",
       "      <td>NaN</td>\n",
       "      <td>NaN</td>\n",
       "      <td>NaN</td>\n",
       "    </tr>\n",
       "    <tr>\n",
       "      <th>4</th>\n",
       "      <td>Argentina</td>\n",
       "      <td>AR</td>\n",
       "      <td>Ministry of Justice</td>\n",
       "      <td>52.0</td>\n",
       "      <td>1198.0</td>\n",
       "      <td>3.02</td>\n",
       "      <td>62.0</td>\n",
       "      <td>10.2</td>\n",
       "      <td>3950000.0</td>\n",
       "    </tr>\n",
       "  </tbody>\n",
       "</table>\n",
       "</div>"
      ],
      "text/plain": [
       "  Country/Territory ISO code               Source  % of homicides by firearm  \\\n",
       "0           Albania       AL                  CTS                       65.9   \n",
       "1           Algeria       DZ                  CTS                        4.8   \n",
       "2            Angola       AO                  NaN                        NaN   \n",
       "3          Anguilla       AI              WHO-MDB                       24.0   \n",
       "4         Argentina       AR  Ministry of Justice                       52.0   \n",
       "\n",
       "   Number of homicides by firearm  Homicide by firearm rate per 100,000 pop  \\\n",
       "0                            56.0                                      1.76   \n",
       "1                            20.0                                      0.06   \n",
       "2                             NaN                                       NaN   \n",
       "3                             1.0                                      7.14   \n",
       "4                          1198.0                                      3.02   \n",
       "\n",
       "   Rank by rate of ownership  Average firearms per 100 people  \\\n",
       "0                       70.0                              8.6   \n",
       "1                       78.0                              7.6   \n",
       "2                       34.0                             17.3   \n",
       "3                        NaN                              NaN   \n",
       "4                       62.0                             10.2   \n",
       "\n",
       "   Average total all civilian firearms  \n",
       "0                             270000.0  \n",
       "1                            1900000.0  \n",
       "2                            2800000.0  \n",
       "3                                  NaN  \n",
       "4                            3950000.0  "
      ]
     },
     "execution_count": 17,
     "metadata": {},
     "output_type": "execute_result"
    }
   ],
   "source": [
    "df_firearms_murder.head(5)"
   ]
  },
  {
   "cell_type": "code",
   "execution_count": 18,
   "metadata": {
    "collapsed": false
   },
   "outputs": [
    {
     "data": {
      "text/html": [
       "<div>\n",
       "<table border=\"1\" class=\"dataframe\">\n",
       "  <thead>\n",
       "    <tr style=\"text-align: right;\">\n",
       "      <th></th>\n",
       "      <th>Country/Territory</th>\n",
       "      <th>ISO code</th>\n",
       "      <th>Source</th>\n",
       "      <th>% of homicides by firearm</th>\n",
       "      <th>Number of homicides by firearm</th>\n",
       "      <th>Homicide by firearm rate per 100,000 pop</th>\n",
       "      <th>Rank by rate of ownership</th>\n",
       "      <th>Average firearms per 100 people</th>\n",
       "      <th>Average total all civilian firearms</th>\n",
       "    </tr>\n",
       "  </thead>\n",
       "  <tbody>\n",
       "    <tr>\n",
       "      <th>175</th>\n",
       "      <td>United Arab Emirates</td>\n",
       "      <td>AE</td>\n",
       "      <td>NaN</td>\n",
       "      <td>NaN</td>\n",
       "      <td>NaN</td>\n",
       "      <td>NaN</td>\n",
       "      <td>24.0</td>\n",
       "      <td>22.1</td>\n",
       "      <td>1000000.0</td>\n",
       "    </tr>\n",
       "    <tr>\n",
       "      <th>176</th>\n",
       "      <td>United States</td>\n",
       "      <td>US</td>\n",
       "      <td>CTS</td>\n",
       "      <td>60.0</td>\n",
       "      <td>9146.0</td>\n",
       "      <td>2.97</td>\n",
       "      <td>1.0</td>\n",
       "      <td>88.8</td>\n",
       "      <td>270000000.0</td>\n",
       "    </tr>\n",
       "    <tr>\n",
       "      <th>177</th>\n",
       "      <td>Uruguay</td>\n",
       "      <td>UY</td>\n",
       "      <td>CTS</td>\n",
       "      <td>46.5</td>\n",
       "      <td>93.0</td>\n",
       "      <td>2.80</td>\n",
       "      <td>9.0</td>\n",
       "      <td>31.8</td>\n",
       "      <td>1100000.0</td>\n",
       "    </tr>\n",
       "    <tr>\n",
       "      <th>178</th>\n",
       "      <td>Uzbekistan</td>\n",
       "      <td>UZ</td>\n",
       "      <td>NaN</td>\n",
       "      <td>NaN</td>\n",
       "      <td>NaN</td>\n",
       "      <td>NaN</td>\n",
       "      <td>133.0</td>\n",
       "      <td>1.5</td>\n",
       "      <td>1200000.0</td>\n",
       "    </tr>\n",
       "    <tr>\n",
       "      <th>179</th>\n",
       "      <td>Venezuela</td>\n",
       "      <td>VE</td>\n",
       "      <td>NGO</td>\n",
       "      <td>79.5</td>\n",
       "      <td>11115.0</td>\n",
       "      <td>38.97</td>\n",
       "      <td>59.0</td>\n",
       "      <td>10.7</td>\n",
       "      <td>2850000.0</td>\n",
       "    </tr>\n",
       "    <tr>\n",
       "      <th>180</th>\n",
       "      <td>Vietnam</td>\n",
       "      <td>VN</td>\n",
       "      <td>CTS</td>\n",
       "      <td>52.9</td>\n",
       "      <td>834.0</td>\n",
       "      <td>0.99</td>\n",
       "      <td>128.0</td>\n",
       "      <td>1.7</td>\n",
       "      <td>1100000.0</td>\n",
       "    </tr>\n",
       "    <tr>\n",
       "      <th>181</th>\n",
       "      <td>West Bank &amp; Gaza</td>\n",
       "      <td>PS</td>\n",
       "      <td>CTS</td>\n",
       "      <td>72.4</td>\n",
       "      <td>105.0</td>\n",
       "      <td>2.95</td>\n",
       "      <td>118.0</td>\n",
       "      <td>3.4</td>\n",
       "      <td>125000.0</td>\n",
       "    </tr>\n",
       "    <tr>\n",
       "      <th>182</th>\n",
       "      <td>Yemen</td>\n",
       "      <td>YE</td>\n",
       "      <td>NaN</td>\n",
       "      <td>NaN</td>\n",
       "      <td>NaN</td>\n",
       "      <td>NaN</td>\n",
       "      <td>2.0</td>\n",
       "      <td>54.8</td>\n",
       "      <td>11500000.0</td>\n",
       "    </tr>\n",
       "    <tr>\n",
       "      <th>183</th>\n",
       "      <td>Zambia</td>\n",
       "      <td>ZM</td>\n",
       "      <td>National police</td>\n",
       "      <td>11.7</td>\n",
       "      <td>28.0</td>\n",
       "      <td>0.35</td>\n",
       "      <td>68.0</td>\n",
       "      <td>8.9</td>\n",
       "      <td>230000.0</td>\n",
       "    </tr>\n",
       "    <tr>\n",
       "      <th>184</th>\n",
       "      <td>Zimbabwe</td>\n",
       "      <td>ZW</td>\n",
       "      <td>CTS</td>\n",
       "      <td>65.6</td>\n",
       "      <td>598.0</td>\n",
       "      <td>4.78</td>\n",
       "      <td>106.0</td>\n",
       "      <td>4.4</td>\n",
       "      <td>400000.0</td>\n",
       "    </tr>\n",
       "  </tbody>\n",
       "</table>\n",
       "</div>"
      ],
      "text/plain": [
       "        Country/Territory ISO code           Source  \\\n",
       "175  United Arab Emirates       AE              NaN   \n",
       "176         United States       US              CTS   \n",
       "177               Uruguay       UY              CTS   \n",
       "178            Uzbekistan       UZ              NaN   \n",
       "179             Venezuela       VE              NGO   \n",
       "180               Vietnam       VN              CTS   \n",
       "181      West Bank & Gaza       PS              CTS   \n",
       "182                 Yemen       YE              NaN   \n",
       "183                Zambia       ZM  National police   \n",
       "184              Zimbabwe       ZW              CTS   \n",
       "\n",
       "     % of homicides by firearm  Number of homicides by firearm  \\\n",
       "175                        NaN                             NaN   \n",
       "176                       60.0                          9146.0   \n",
       "177                       46.5                            93.0   \n",
       "178                        NaN                             NaN   \n",
       "179                       79.5                         11115.0   \n",
       "180                       52.9                           834.0   \n",
       "181                       72.4                           105.0   \n",
       "182                        NaN                             NaN   \n",
       "183                       11.7                            28.0   \n",
       "184                       65.6                           598.0   \n",
       "\n",
       "     Homicide by firearm rate per 100,000 pop  Rank by rate of ownership  \\\n",
       "175                                       NaN                       24.0   \n",
       "176                                      2.97                        1.0   \n",
       "177                                      2.80                        9.0   \n",
       "178                                       NaN                      133.0   \n",
       "179                                     38.97                       59.0   \n",
       "180                                      0.99                      128.0   \n",
       "181                                      2.95                      118.0   \n",
       "182                                       NaN                        2.0   \n",
       "183                                      0.35                       68.0   \n",
       "184                                      4.78                      106.0   \n",
       "\n",
       "     Average firearms per 100 people  Average total all civilian firearms  \n",
       "175                             22.1                            1000000.0  \n",
       "176                             88.8                          270000000.0  \n",
       "177                             31.8                            1100000.0  \n",
       "178                              1.5                            1200000.0  \n",
       "179                             10.7                            2850000.0  \n",
       "180                              1.7                            1100000.0  \n",
       "181                              3.4                             125000.0  \n",
       "182                             54.8                           11500000.0  \n",
       "183                              8.9                             230000.0  \n",
       "184                              4.4                             400000.0  "
      ]
     },
     "execution_count": 18,
     "metadata": {},
     "output_type": "execute_result"
    }
   ],
   "source": [
    "df_firearms_murder.tail(10)"
   ]
  },
  {
   "cell_type": "code",
   "execution_count": 19,
   "metadata": {
    "collapsed": true
   },
   "outputs": [],
   "source": [
    "df_firearms_murder.rename(columns = {'Country/Territory' : 'Country Name'}, inplace=True)"
   ]
  },
  {
   "cell_type": "code",
   "execution_count": 20,
   "metadata": {
    "collapsed": false,
    "scrolled": true
   },
   "outputs": [
    {
     "data": {
      "text/plain": [
       "0         56.0\n",
       "1         20.0\n",
       "2          NaN\n",
       "3          1.0\n",
       "4       1198.0\n",
       "5          9.0\n",
       "6         30.0\n",
       "7         18.0\n",
       "8         11.0\n",
       "9         52.0\n",
       "10         0.0\n",
       "11      1456.0\n",
       "12         8.0\n",
       "13        12.0\n",
       "14        70.0\n",
       "15        68.0\n",
       "16         NaN\n",
       "17         0.0\n",
       "18         NaN\n",
       "19         NaN\n",
       "20        18.0\n",
       "21         NaN\n",
       "22     34678.0\n",
       "23         0.0\n",
       "24        51.0\n",
       "25         NaN\n",
       "26         NaN\n",
       "27       187.0\n",
       "28         NaN\n",
       "29       173.0\n",
       "        ...   \n",
       "155     8319.0\n",
       "156       90.0\n",
       "157      291.0\n",
       "158        NaN\n",
       "159        NaN\n",
       "160        NaN\n",
       "161       37.0\n",
       "162       57.0\n",
       "163        NaN\n",
       "164      128.0\n",
       "165       15.0\n",
       "166        NaN\n",
       "167        NaN\n",
       "168        NaN\n",
       "169      365.0\n",
       "170        NaN\n",
       "171      535.0\n",
       "172        5.0\n",
       "173      280.0\n",
       "174      100.0\n",
       "175        NaN\n",
       "176     9146.0\n",
       "177       93.0\n",
       "178        NaN\n",
       "179    11115.0\n",
       "180      834.0\n",
       "181      105.0\n",
       "182        NaN\n",
       "183       28.0\n",
       "184      598.0\n",
       "Name: Number of homicides by firearm, dtype: float64"
      ]
     },
     "execution_count": 20,
     "metadata": {},
     "output_type": "execute_result"
    }
   ],
   "source": [
    "df_firearms_murder[\"Number of homicides by firearm\"]"
   ]
  },
  {
   "cell_type": "code",
   "execution_count": 21,
   "metadata": {
    "collapsed": false
   },
   "outputs": [
    {
     "data": {
      "text/html": [
       "<div>\n",
       "<table border=\"1\" class=\"dataframe\">\n",
       "  <thead>\n",
       "    <tr style=\"text-align: right;\">\n",
       "      <th></th>\n",
       "      <th>Country Name</th>\n",
       "      <th>ISO code</th>\n",
       "      <th>Source</th>\n",
       "      <th>% of homicides by firearm</th>\n",
       "      <th>Number of homicides by firearm</th>\n",
       "      <th>Homicide by firearm rate per 100,000 pop</th>\n",
       "      <th>Rank by rate of ownership</th>\n",
       "      <th>Average firearms per 100 people</th>\n",
       "      <th>Average total all civilian firearms</th>\n",
       "    </tr>\n",
       "  </thead>\n",
       "  <tbody>\n",
       "    <tr>\n",
       "      <th>0</th>\n",
       "      <td>Albania</td>\n",
       "      <td>AL</td>\n",
       "      <td>CTS</td>\n",
       "      <td>65.9</td>\n",
       "      <td>56.0</td>\n",
       "      <td>1.76</td>\n",
       "      <td>70.0</td>\n",
       "      <td>8.6</td>\n",
       "      <td>270000.0</td>\n",
       "    </tr>\n",
       "    <tr>\n",
       "      <th>1</th>\n",
       "      <td>Algeria</td>\n",
       "      <td>DZ</td>\n",
       "      <td>CTS</td>\n",
       "      <td>4.8</td>\n",
       "      <td>20.0</td>\n",
       "      <td>0.06</td>\n",
       "      <td>78.0</td>\n",
       "      <td>7.6</td>\n",
       "      <td>1900000.0</td>\n",
       "    </tr>\n",
       "    <tr>\n",
       "      <th>2</th>\n",
       "      <td>Angola</td>\n",
       "      <td>AO</td>\n",
       "      <td>NaN</td>\n",
       "      <td>NaN</td>\n",
       "      <td>NaN</td>\n",
       "      <td>NaN</td>\n",
       "      <td>34.0</td>\n",
       "      <td>17.3</td>\n",
       "      <td>2800000.0</td>\n",
       "    </tr>\n",
       "    <tr>\n",
       "      <th>3</th>\n",
       "      <td>Anguilla</td>\n",
       "      <td>AI</td>\n",
       "      <td>WHO-MDB</td>\n",
       "      <td>24.0</td>\n",
       "      <td>1.0</td>\n",
       "      <td>7.14</td>\n",
       "      <td>NaN</td>\n",
       "      <td>NaN</td>\n",
       "      <td>NaN</td>\n",
       "    </tr>\n",
       "    <tr>\n",
       "      <th>4</th>\n",
       "      <td>Argentina</td>\n",
       "      <td>AR</td>\n",
       "      <td>Ministry of Justice</td>\n",
       "      <td>52.0</td>\n",
       "      <td>1198.0</td>\n",
       "      <td>3.02</td>\n",
       "      <td>62.0</td>\n",
       "      <td>10.2</td>\n",
       "      <td>3950000.0</td>\n",
       "    </tr>\n",
       "  </tbody>\n",
       "</table>\n",
       "</div>"
      ],
      "text/plain": [
       "  Country Name ISO code               Source  % of homicides by firearm  \\\n",
       "0      Albania       AL                  CTS                       65.9   \n",
       "1      Algeria       DZ                  CTS                        4.8   \n",
       "2       Angola       AO                  NaN                        NaN   \n",
       "3     Anguilla       AI              WHO-MDB                       24.0   \n",
       "4    Argentina       AR  Ministry of Justice                       52.0   \n",
       "\n",
       "   Number of homicides by firearm  Homicide by firearm rate per 100,000 pop  \\\n",
       "0                            56.0                                      1.76   \n",
       "1                            20.0                                      0.06   \n",
       "2                             NaN                                       NaN   \n",
       "3                             1.0                                      7.14   \n",
       "4                          1198.0                                      3.02   \n",
       "\n",
       "   Rank by rate of ownership  Average firearms per 100 people  \\\n",
       "0                       70.0                              8.6   \n",
       "1                       78.0                              7.6   \n",
       "2                       34.0                             17.3   \n",
       "3                        NaN                              NaN   \n",
       "4                       62.0                             10.2   \n",
       "\n",
       "   Average total all civilian firearms  \n",
       "0                             270000.0  \n",
       "1                            1900000.0  \n",
       "2                            2800000.0  \n",
       "3                                  NaN  \n",
       "4                            3950000.0  "
      ]
     },
     "execution_count": 21,
     "metadata": {},
     "output_type": "execute_result"
    }
   ],
   "source": [
    "df_firearms_murder.head(5)"
   ]
  },
  {
   "cell_type": "code",
   "execution_count": 22,
   "metadata": {
    "collapsed": false
   },
   "outputs": [
    {
     "data": {
      "text/html": [
       "<div>\n",
       "<table border=\"1\" class=\"dataframe\">\n",
       "  <thead>\n",
       "    <tr style=\"text-align: right;\">\n",
       "      <th></th>\n",
       "      <th>Country Name</th>\n",
       "      <th>2012_x</th>\n",
       "      <th>Country</th>\n",
       "      <th>Guns/100 inhabitants</th>\n",
       "      <th>Number of mass shootings</th>\n",
       "      <th>2012_y</th>\n",
       "    </tr>\n",
       "  </thead>\n",
       "  <tbody>\n",
       "    <tr>\n",
       "      <th>0</th>\n",
       "      <td>Australia</td>\n",
       "      <td>22728254.0</td>\n",
       "      <td>Australia</td>\n",
       "      <td>15.0</td>\n",
       "      <td>4</td>\n",
       "      <td>1.538194e+12</td>\n",
       "    </tr>\n",
       "    <tr>\n",
       "      <th>1</th>\n",
       "      <td>Austria</td>\n",
       "      <td>8429991.0</td>\n",
       "      <td>Austria</td>\n",
       "      <td>30.4</td>\n",
       "      <td>1</td>\n",
       "      <td>4.074516e+11</td>\n",
       "    </tr>\n",
       "    <tr>\n",
       "      <th>2</th>\n",
       "      <td>Canada</td>\n",
       "      <td>34750545.0</td>\n",
       "      <td>Canada</td>\n",
       "      <td>30.8</td>\n",
       "      <td>4</td>\n",
       "      <td>1.824289e+12</td>\n",
       "    </tr>\n",
       "    <tr>\n",
       "      <th>3</th>\n",
       "      <td>Switzerland</td>\n",
       "      <td>7996861.0</td>\n",
       "      <td>Switzerland</td>\n",
       "      <td>45.7</td>\n",
       "      <td>2</td>\n",
       "      <td>6.650541e+11</td>\n",
       "    </tr>\n",
       "    <tr>\n",
       "      <th>4</th>\n",
       "      <td>Germany</td>\n",
       "      <td>80425823.0</td>\n",
       "      <td>Germany</td>\n",
       "      <td>30.3</td>\n",
       "      <td>7</td>\n",
       "      <td>3.543984e+12</td>\n",
       "    </tr>\n",
       "  </tbody>\n",
       "</table>\n",
       "</div>"
      ],
      "text/plain": [
       "  Country Name      2012_x      Country  Guns/100 inhabitants  \\\n",
       "0    Australia  22728254.0    Australia                  15.0   \n",
       "1      Austria   8429991.0      Austria                  30.4   \n",
       "2       Canada  34750545.0       Canada                  30.8   \n",
       "3  Switzerland   7996861.0  Switzerland                  45.7   \n",
       "4      Germany  80425823.0      Germany                  30.3   \n",
       "\n",
       "   Number of mass shootings        2012_y  \n",
       "0                         4  1.538194e+12  \n",
       "1                         1  4.074516e+11  \n",
       "2                         4  1.824289e+12  \n",
       "3                         2  6.650541e+11  \n",
       "4                         7  3.543984e+12  "
      ]
     },
     "execution_count": 22,
     "metadata": {},
     "output_type": "execute_result"
    }
   ],
   "source": [
    "df.head(5)"
   ]
  },
  {
   "cell_type": "code",
   "execution_count": 23,
   "metadata": {
    "collapsed": false
   },
   "outputs": [
    {
     "data": {
      "text/html": [
       "<div>\n",
       "<table border=\"1\" class=\"dataframe\">\n",
       "  <thead>\n",
       "    <tr style=\"text-align: right;\">\n",
       "      <th></th>\n",
       "      <th>Country Name</th>\n",
       "      <th>ISO code</th>\n",
       "      <th>Source</th>\n",
       "      <th>% of homicides by firearm</th>\n",
       "      <th>Number of homicides by firearm</th>\n",
       "      <th>Homicide by firearm rate per 100,000 pop</th>\n",
       "      <th>Rank by rate of ownership</th>\n",
       "      <th>Average firearms per 100 people</th>\n",
       "      <th>Average total all civilian firearms</th>\n",
       "    </tr>\n",
       "  </thead>\n",
       "  <tbody>\n",
       "    <tr>\n",
       "      <th>0</th>\n",
       "      <td>Albania</td>\n",
       "      <td>AL</td>\n",
       "      <td>CTS</td>\n",
       "      <td>65.9</td>\n",
       "      <td>56.0</td>\n",
       "      <td>1.76</td>\n",
       "      <td>70.0</td>\n",
       "      <td>8.6</td>\n",
       "      <td>270000.0</td>\n",
       "    </tr>\n",
       "    <tr>\n",
       "      <th>1</th>\n",
       "      <td>Algeria</td>\n",
       "      <td>DZ</td>\n",
       "      <td>CTS</td>\n",
       "      <td>4.8</td>\n",
       "      <td>20.0</td>\n",
       "      <td>0.06</td>\n",
       "      <td>78.0</td>\n",
       "      <td>7.6</td>\n",
       "      <td>1900000.0</td>\n",
       "    </tr>\n",
       "    <tr>\n",
       "      <th>2</th>\n",
       "      <td>Angola</td>\n",
       "      <td>AO</td>\n",
       "      <td>NaN</td>\n",
       "      <td>NaN</td>\n",
       "      <td>NaN</td>\n",
       "      <td>NaN</td>\n",
       "      <td>34.0</td>\n",
       "      <td>17.3</td>\n",
       "      <td>2800000.0</td>\n",
       "    </tr>\n",
       "    <tr>\n",
       "      <th>3</th>\n",
       "      <td>Anguilla</td>\n",
       "      <td>AI</td>\n",
       "      <td>WHO-MDB</td>\n",
       "      <td>24.0</td>\n",
       "      <td>1.0</td>\n",
       "      <td>7.14</td>\n",
       "      <td>NaN</td>\n",
       "      <td>NaN</td>\n",
       "      <td>NaN</td>\n",
       "    </tr>\n",
       "    <tr>\n",
       "      <th>4</th>\n",
       "      <td>Argentina</td>\n",
       "      <td>AR</td>\n",
       "      <td>Ministry of Justice</td>\n",
       "      <td>52.0</td>\n",
       "      <td>1198.0</td>\n",
       "      <td>3.02</td>\n",
       "      <td>62.0</td>\n",
       "      <td>10.2</td>\n",
       "      <td>3950000.0</td>\n",
       "    </tr>\n",
       "  </tbody>\n",
       "</table>\n",
       "</div>"
      ],
      "text/plain": [
       "  Country Name ISO code               Source  % of homicides by firearm  \\\n",
       "0      Albania       AL                  CTS                       65.9   \n",
       "1      Algeria       DZ                  CTS                        4.8   \n",
       "2       Angola       AO                  NaN                        NaN   \n",
       "3     Anguilla       AI              WHO-MDB                       24.0   \n",
       "4    Argentina       AR  Ministry of Justice                       52.0   \n",
       "\n",
       "   Number of homicides by firearm  Homicide by firearm rate per 100,000 pop  \\\n",
       "0                            56.0                                      1.76   \n",
       "1                            20.0                                      0.06   \n",
       "2                             NaN                                       NaN   \n",
       "3                             1.0                                      7.14   \n",
       "4                          1198.0                                      3.02   \n",
       "\n",
       "   Rank by rate of ownership  Average firearms per 100 people  \\\n",
       "0                       70.0                              8.6   \n",
       "1                       78.0                              7.6   \n",
       "2                       34.0                             17.3   \n",
       "3                        NaN                              NaN   \n",
       "4                       62.0                             10.2   \n",
       "\n",
       "   Average total all civilian firearms  \n",
       "0                             270000.0  \n",
       "1                            1900000.0  \n",
       "2                            2800000.0  \n",
       "3                                  NaN  \n",
       "4                            3950000.0  "
      ]
     },
     "execution_count": 23,
     "metadata": {},
     "output_type": "execute_result"
    }
   ],
   "source": [
    "df_firearms_murder.head(5)"
   ]
  },
  {
   "cell_type": "code",
   "execution_count": 24,
   "metadata": {
    "collapsed": true,
    "scrolled": true
   },
   "outputs": [],
   "source": [
    "df = df.merge(df_firearms_murder, right_on =\"Country Name\", left_on = \"Country Name\")"
   ]
  },
  {
   "cell_type": "code",
   "execution_count": 25,
   "metadata": {
    "collapsed": false
   },
   "outputs": [
    {
     "data": {
      "text/html": [
       "<div>\n",
       "<table border=\"1\" class=\"dataframe\">\n",
       "  <thead>\n",
       "    <tr style=\"text-align: right;\">\n",
       "      <th></th>\n",
       "      <th>Country Name</th>\n",
       "      <th>2012_x</th>\n",
       "      <th>Country</th>\n",
       "      <th>Guns/100 inhabitants</th>\n",
       "      <th>Number of mass shootings</th>\n",
       "      <th>2012_y</th>\n",
       "      <th>ISO code</th>\n",
       "      <th>Source</th>\n",
       "      <th>% of homicides by firearm</th>\n",
       "      <th>Number of homicides by firearm</th>\n",
       "      <th>Homicide by firearm rate per 100,000 pop</th>\n",
       "      <th>Rank by rate of ownership</th>\n",
       "      <th>Average firearms per 100 people</th>\n",
       "      <th>Average total all civilian firearms</th>\n",
       "    </tr>\n",
       "  </thead>\n",
       "  <tbody>\n",
       "    <tr>\n",
       "      <th>0</th>\n",
       "      <td>Australia</td>\n",
       "      <td>22728254.0</td>\n",
       "      <td>Australia</td>\n",
       "      <td>15.0</td>\n",
       "      <td>4</td>\n",
       "      <td>1.538194e+12</td>\n",
       "      <td>AU</td>\n",
       "      <td>NSO</td>\n",
       "      <td>11.5</td>\n",
       "      <td>30.0</td>\n",
       "      <td>0.14</td>\n",
       "      <td>42.0</td>\n",
       "      <td>15.0</td>\n",
       "      <td>3050000.0</td>\n",
       "    </tr>\n",
       "    <tr>\n",
       "      <th>1</th>\n",
       "      <td>Austria</td>\n",
       "      <td>8429991.0</td>\n",
       "      <td>Austria</td>\n",
       "      <td>30.4</td>\n",
       "      <td>1</td>\n",
       "      <td>4.074516e+11</td>\n",
       "      <td>AT</td>\n",
       "      <td>CTS</td>\n",
       "      <td>29.5</td>\n",
       "      <td>18.0</td>\n",
       "      <td>0.22</td>\n",
       "      <td>14.0</td>\n",
       "      <td>30.4</td>\n",
       "      <td>2500000.0</td>\n",
       "    </tr>\n",
       "    <tr>\n",
       "      <th>2</th>\n",
       "      <td>Canada</td>\n",
       "      <td>34750545.0</td>\n",
       "      <td>Canada</td>\n",
       "      <td>30.8</td>\n",
       "      <td>4</td>\n",
       "      <td>1.824289e+12</td>\n",
       "      <td>CA</td>\n",
       "      <td>CTS</td>\n",
       "      <td>32.0</td>\n",
       "      <td>173.0</td>\n",
       "      <td>0.51</td>\n",
       "      <td>13.0</td>\n",
       "      <td>30.8</td>\n",
       "      <td>9950000.0</td>\n",
       "    </tr>\n",
       "    <tr>\n",
       "      <th>3</th>\n",
       "      <td>Switzerland</td>\n",
       "      <td>7996861.0</td>\n",
       "      <td>Switzerland</td>\n",
       "      <td>45.7</td>\n",
       "      <td>2</td>\n",
       "      <td>6.650541e+11</td>\n",
       "      <td>CH</td>\n",
       "      <td>CTS</td>\n",
       "      <td>72.2</td>\n",
       "      <td>57.0</td>\n",
       "      <td>0.77</td>\n",
       "      <td>3.0</td>\n",
       "      <td>45.7</td>\n",
       "      <td>3400000.0</td>\n",
       "    </tr>\n",
       "    <tr>\n",
       "      <th>4</th>\n",
       "      <td>Germany</td>\n",
       "      <td>80425823.0</td>\n",
       "      <td>Germany</td>\n",
       "      <td>30.3</td>\n",
       "      <td>7</td>\n",
       "      <td>3.543984e+12</td>\n",
       "      <td>DE</td>\n",
       "      <td>CTS/National police</td>\n",
       "      <td>26.3</td>\n",
       "      <td>158.0</td>\n",
       "      <td>0.19</td>\n",
       "      <td>15.0</td>\n",
       "      <td>30.3</td>\n",
       "      <td>25000000.0</td>\n",
       "    </tr>\n",
       "  </tbody>\n",
       "</table>\n",
       "</div>"
      ],
      "text/plain": [
       "  Country Name      2012_x      Country  Guns/100 inhabitants  \\\n",
       "0    Australia  22728254.0    Australia                  15.0   \n",
       "1      Austria   8429991.0      Austria                  30.4   \n",
       "2       Canada  34750545.0       Canada                  30.8   \n",
       "3  Switzerland   7996861.0  Switzerland                  45.7   \n",
       "4      Germany  80425823.0      Germany                  30.3   \n",
       "\n",
       "   Number of mass shootings        2012_y ISO code               Source  \\\n",
       "0                         4  1.538194e+12       AU                  NSO   \n",
       "1                         1  4.074516e+11       AT                  CTS   \n",
       "2                         4  1.824289e+12       CA                  CTS   \n",
       "3                         2  6.650541e+11       CH                  CTS   \n",
       "4                         7  3.543984e+12       DE  CTS/National police   \n",
       "\n",
       "   % of homicides by firearm  Number of homicides by firearm  \\\n",
       "0                       11.5                            30.0   \n",
       "1                       29.5                            18.0   \n",
       "2                       32.0                           173.0   \n",
       "3                       72.2                            57.0   \n",
       "4                       26.3                           158.0   \n",
       "\n",
       "   Homicide by firearm rate per 100,000 pop  Rank by rate of ownership  \\\n",
       "0                                      0.14                       42.0   \n",
       "1                                      0.22                       14.0   \n",
       "2                                      0.51                       13.0   \n",
       "3                                      0.77                        3.0   \n",
       "4                                      0.19                       15.0   \n",
       "\n",
       "   Average firearms per 100 people  Average total all civilian firearms  \n",
       "0                             15.0                            3050000.0  \n",
       "1                             30.4                            2500000.0  \n",
       "2                             30.8                            9950000.0  \n",
       "3                             45.7                            3400000.0  \n",
       "4                             30.3                           25000000.0  "
      ]
     },
     "execution_count": 25,
     "metadata": {},
     "output_type": "execute_result"
    }
   ],
   "source": [
    "df.head(5)"
   ]
  },
  {
   "cell_type": "code",
   "execution_count": 26,
   "metadata": {
    "collapsed": false
   },
   "outputs": [
    {
     "data": {
      "text/html": [
       "<div>\n",
       "<table border=\"1\" class=\"dataframe\">\n",
       "  <thead>\n",
       "    <tr style=\"text-align: right;\">\n",
       "      <th></th>\n",
       "      <th>Country Name</th>\n",
       "      <th>2012_x</th>\n",
       "      <th>Country</th>\n",
       "      <th>Guns/100 inhabitants</th>\n",
       "      <th>Number of mass shootings</th>\n",
       "      <th>2012_y</th>\n",
       "      <th>ISO code</th>\n",
       "      <th>Source</th>\n",
       "      <th>% of homicides by firearm</th>\n",
       "      <th>Number of homicides by firearm</th>\n",
       "      <th>Homicide by firearm rate per 100,000 pop</th>\n",
       "      <th>Rank by rate of ownership</th>\n",
       "      <th>Average firearms per 100 people</th>\n",
       "      <th>Average total all civilian firearms</th>\n",
       "    </tr>\n",
       "  </thead>\n",
       "  <tbody>\n",
       "    <tr>\n",
       "      <th>0</th>\n",
       "      <td>Australia</td>\n",
       "      <td>22728254.0</td>\n",
       "      <td>Australia</td>\n",
       "      <td>15.0</td>\n",
       "      <td>4</td>\n",
       "      <td>1.538194e+12</td>\n",
       "      <td>AU</td>\n",
       "      <td>NSO</td>\n",
       "      <td>11.5</td>\n",
       "      <td>30.0</td>\n",
       "      <td>0.14</td>\n",
       "      <td>42.0</td>\n",
       "      <td>15.0</td>\n",
       "      <td>3050000.0</td>\n",
       "    </tr>\n",
       "    <tr>\n",
       "      <th>1</th>\n",
       "      <td>Austria</td>\n",
       "      <td>8429991.0</td>\n",
       "      <td>Austria</td>\n",
       "      <td>30.4</td>\n",
       "      <td>1</td>\n",
       "      <td>4.074516e+11</td>\n",
       "      <td>AT</td>\n",
       "      <td>CTS</td>\n",
       "      <td>29.5</td>\n",
       "      <td>18.0</td>\n",
       "      <td>0.22</td>\n",
       "      <td>14.0</td>\n",
       "      <td>30.4</td>\n",
       "      <td>2500000.0</td>\n",
       "    </tr>\n",
       "    <tr>\n",
       "      <th>2</th>\n",
       "      <td>Canada</td>\n",
       "      <td>34750545.0</td>\n",
       "      <td>Canada</td>\n",
       "      <td>30.8</td>\n",
       "      <td>4</td>\n",
       "      <td>1.824289e+12</td>\n",
       "      <td>CA</td>\n",
       "      <td>CTS</td>\n",
       "      <td>32.0</td>\n",
       "      <td>173.0</td>\n",
       "      <td>0.51</td>\n",
       "      <td>13.0</td>\n",
       "      <td>30.8</td>\n",
       "      <td>9950000.0</td>\n",
       "    </tr>\n",
       "    <tr>\n",
       "      <th>3</th>\n",
       "      <td>Switzerland</td>\n",
       "      <td>7996861.0</td>\n",
       "      <td>Switzerland</td>\n",
       "      <td>45.7</td>\n",
       "      <td>2</td>\n",
       "      <td>6.650541e+11</td>\n",
       "      <td>CH</td>\n",
       "      <td>CTS</td>\n",
       "      <td>72.2</td>\n",
       "      <td>57.0</td>\n",
       "      <td>0.77</td>\n",
       "      <td>3.0</td>\n",
       "      <td>45.7</td>\n",
       "      <td>3400000.0</td>\n",
       "    </tr>\n",
       "    <tr>\n",
       "      <th>4</th>\n",
       "      <td>Germany</td>\n",
       "      <td>80425823.0</td>\n",
       "      <td>Germany</td>\n",
       "      <td>30.3</td>\n",
       "      <td>7</td>\n",
       "      <td>3.543984e+12</td>\n",
       "      <td>DE</td>\n",
       "      <td>CTS/National police</td>\n",
       "      <td>26.3</td>\n",
       "      <td>158.0</td>\n",
       "      <td>0.19</td>\n",
       "      <td>15.0</td>\n",
       "      <td>30.3</td>\n",
       "      <td>25000000.0</td>\n",
       "    </tr>\n",
       "  </tbody>\n",
       "</table>\n",
       "</div>"
      ],
      "text/plain": [
       "  Country Name      2012_x      Country  Guns/100 inhabitants  \\\n",
       "0    Australia  22728254.0    Australia                  15.0   \n",
       "1      Austria   8429991.0      Austria                  30.4   \n",
       "2       Canada  34750545.0       Canada                  30.8   \n",
       "3  Switzerland   7996861.0  Switzerland                  45.7   \n",
       "4      Germany  80425823.0      Germany                  30.3   \n",
       "\n",
       "   Number of mass shootings        2012_y ISO code               Source  \\\n",
       "0                         4  1.538194e+12       AU                  NSO   \n",
       "1                         1  4.074516e+11       AT                  CTS   \n",
       "2                         4  1.824289e+12       CA                  CTS   \n",
       "3                         2  6.650541e+11       CH                  CTS   \n",
       "4                         7  3.543984e+12       DE  CTS/National police   \n",
       "\n",
       "   % of homicides by firearm  Number of homicides by firearm  \\\n",
       "0                       11.5                            30.0   \n",
       "1                       29.5                            18.0   \n",
       "2                       32.0                           173.0   \n",
       "3                       72.2                            57.0   \n",
       "4                       26.3                           158.0   \n",
       "\n",
       "   Homicide by firearm rate per 100,000 pop  Rank by rate of ownership  \\\n",
       "0                                      0.14                       42.0   \n",
       "1                                      0.22                       14.0   \n",
       "2                                      0.51                       13.0   \n",
       "3                                      0.77                        3.0   \n",
       "4                                      0.19                       15.0   \n",
       "\n",
       "   Average firearms per 100 people  Average total all civilian firearms  \n",
       "0                             15.0                            3050000.0  \n",
       "1                             30.4                            2500000.0  \n",
       "2                             30.8                            9950000.0  \n",
       "3                             45.7                            3400000.0  \n",
       "4                             30.3                           25000000.0  "
      ]
     },
     "execution_count": 26,
     "metadata": {},
     "output_type": "execute_result"
    }
   ],
   "source": [
    "df.head(5)"
   ]
  },
  {
   "cell_type": "code",
   "execution_count": 27,
   "metadata": {
    "collapsed": false
   },
   "outputs": [
    {
     "data": {
      "text/plain": [
       "Index([u'Country Name', u'2012_x', u'Country', u'Guns/100 inhabitants',\n",
       "       u'Number of mass shootings', u'2012_y', u'ISO code', u'Source',\n",
       "       u'% of homicides by firearm', u'Number of homicides by firearm',\n",
       "       u'Homicide by firearm rate per 100,000 pop',\n",
       "       u'Rank by rate of ownership', u'Average firearms per 100 people',\n",
       "       u'Average total all civilian firearms'],\n",
       "      dtype='object')"
      ]
     },
     "execution_count": 27,
     "metadata": {},
     "output_type": "execute_result"
    }
   ],
   "source": [
    "df.columns"
   ]
  },
  {
   "cell_type": "code",
   "execution_count": 28,
   "metadata": {
    "collapsed": true
   },
   "outputs": [],
   "source": [
    "df.rename(columns = {'2012_y' :'gdp', '2012_x' :'pop'}, inplace=True)"
   ]
  },
  {
   "cell_type": "code",
   "execution_count": 29,
   "metadata": {
    "collapsed": false
   },
   "outputs": [
    {
     "data": {
      "text/html": [
       "<div>\n",
       "<table border=\"1\" class=\"dataframe\">\n",
       "  <thead>\n",
       "    <tr style=\"text-align: right;\">\n",
       "      <th></th>\n",
       "      <th>Country Name</th>\n",
       "      <th>pop</th>\n",
       "      <th>Country</th>\n",
       "      <th>Guns/100 inhabitants</th>\n",
       "      <th>Number of mass shootings</th>\n",
       "      <th>gdp</th>\n",
       "      <th>ISO code</th>\n",
       "      <th>Source</th>\n",
       "      <th>% of homicides by firearm</th>\n",
       "      <th>Number of homicides by firearm</th>\n",
       "      <th>Homicide by firearm rate per 100,000 pop</th>\n",
       "      <th>Rank by rate of ownership</th>\n",
       "      <th>Average firearms per 100 people</th>\n",
       "      <th>Average total all civilian firearms</th>\n",
       "    </tr>\n",
       "  </thead>\n",
       "  <tbody>\n",
       "    <tr>\n",
       "      <th>0</th>\n",
       "      <td>Australia</td>\n",
       "      <td>22728254.0</td>\n",
       "      <td>Australia</td>\n",
       "      <td>15.0</td>\n",
       "      <td>4</td>\n",
       "      <td>1.538194e+12</td>\n",
       "      <td>AU</td>\n",
       "      <td>NSO</td>\n",
       "      <td>11.5</td>\n",
       "      <td>30.0</td>\n",
       "      <td>0.14</td>\n",
       "      <td>42.0</td>\n",
       "      <td>15.0</td>\n",
       "      <td>3050000.0</td>\n",
       "    </tr>\n",
       "    <tr>\n",
       "      <th>1</th>\n",
       "      <td>Austria</td>\n",
       "      <td>8429991.0</td>\n",
       "      <td>Austria</td>\n",
       "      <td>30.4</td>\n",
       "      <td>1</td>\n",
       "      <td>4.074516e+11</td>\n",
       "      <td>AT</td>\n",
       "      <td>CTS</td>\n",
       "      <td>29.5</td>\n",
       "      <td>18.0</td>\n",
       "      <td>0.22</td>\n",
       "      <td>14.0</td>\n",
       "      <td>30.4</td>\n",
       "      <td>2500000.0</td>\n",
       "    </tr>\n",
       "    <tr>\n",
       "      <th>2</th>\n",
       "      <td>Canada</td>\n",
       "      <td>34750545.0</td>\n",
       "      <td>Canada</td>\n",
       "      <td>30.8</td>\n",
       "      <td>4</td>\n",
       "      <td>1.824289e+12</td>\n",
       "      <td>CA</td>\n",
       "      <td>CTS</td>\n",
       "      <td>32.0</td>\n",
       "      <td>173.0</td>\n",
       "      <td>0.51</td>\n",
       "      <td>13.0</td>\n",
       "      <td>30.8</td>\n",
       "      <td>9950000.0</td>\n",
       "    </tr>\n",
       "    <tr>\n",
       "      <th>3</th>\n",
       "      <td>Switzerland</td>\n",
       "      <td>7996861.0</td>\n",
       "      <td>Switzerland</td>\n",
       "      <td>45.7</td>\n",
       "      <td>2</td>\n",
       "      <td>6.650541e+11</td>\n",
       "      <td>CH</td>\n",
       "      <td>CTS</td>\n",
       "      <td>72.2</td>\n",
       "      <td>57.0</td>\n",
       "      <td>0.77</td>\n",
       "      <td>3.0</td>\n",
       "      <td>45.7</td>\n",
       "      <td>3400000.0</td>\n",
       "    </tr>\n",
       "    <tr>\n",
       "      <th>4</th>\n",
       "      <td>Germany</td>\n",
       "      <td>80425823.0</td>\n",
       "      <td>Germany</td>\n",
       "      <td>30.3</td>\n",
       "      <td>7</td>\n",
       "      <td>3.543984e+12</td>\n",
       "      <td>DE</td>\n",
       "      <td>CTS/National police</td>\n",
       "      <td>26.3</td>\n",
       "      <td>158.0</td>\n",
       "      <td>0.19</td>\n",
       "      <td>15.0</td>\n",
       "      <td>30.3</td>\n",
       "      <td>25000000.0</td>\n",
       "    </tr>\n",
       "  </tbody>\n",
       "</table>\n",
       "</div>"
      ],
      "text/plain": [
       "  Country Name         pop      Country  Guns/100 inhabitants  \\\n",
       "0    Australia  22728254.0    Australia                  15.0   \n",
       "1      Austria   8429991.0      Austria                  30.4   \n",
       "2       Canada  34750545.0       Canada                  30.8   \n",
       "3  Switzerland   7996861.0  Switzerland                  45.7   \n",
       "4      Germany  80425823.0      Germany                  30.3   \n",
       "\n",
       "   Number of mass shootings           gdp ISO code               Source  \\\n",
       "0                         4  1.538194e+12       AU                  NSO   \n",
       "1                         1  4.074516e+11       AT                  CTS   \n",
       "2                         4  1.824289e+12       CA                  CTS   \n",
       "3                         2  6.650541e+11       CH                  CTS   \n",
       "4                         7  3.543984e+12       DE  CTS/National police   \n",
       "\n",
       "   % of homicides by firearm  Number of homicides by firearm  \\\n",
       "0                       11.5                            30.0   \n",
       "1                       29.5                            18.0   \n",
       "2                       32.0                           173.0   \n",
       "3                       72.2                            57.0   \n",
       "4                       26.3                           158.0   \n",
       "\n",
       "   Homicide by firearm rate per 100,000 pop  Rank by rate of ownership  \\\n",
       "0                                      0.14                       42.0   \n",
       "1                                      0.22                       14.0   \n",
       "2                                      0.51                       13.0   \n",
       "3                                      0.77                        3.0   \n",
       "4                                      0.19                       15.0   \n",
       "\n",
       "   Average firearms per 100 people  Average total all civilian firearms  \n",
       "0                             15.0                            3050000.0  \n",
       "1                             30.4                            2500000.0  \n",
       "2                             30.8                            9950000.0  \n",
       "3                             45.7                            3400000.0  \n",
       "4                             30.3                           25000000.0  "
      ]
     },
     "execution_count": 29,
     "metadata": {},
     "output_type": "execute_result"
    }
   ],
   "source": [
    "df.head(5)"
   ]
  },
  {
   "cell_type": "markdown",
   "metadata": {},
   "source": [
    "# exploration\n",
    "\n",
    "## plot mass shooting vs gdp in absolute numbers, and per person. Show the errorbars (y errors)\n",
    "\n",
    "Use Poisson statistics for the errorbars on the number of mass shootings (optional: include errors on the population, also as Poisson statistics)\n",
    "\n",
    "Are there any points that look like they may be outilers?\n"
   ]
  },
  {
   "cell_type": "code",
   "execution_count": 30,
   "metadata": {
    "collapsed": false,
    "scrolled": false
   },
   "outputs": [
    {
     "data": {
      "image/png": "iVBORw0KGgoAAAANSUhEUgAAAmEAAAFACAYAAAD07atFAAAABHNCSVQICAgIfAhkiAAAAAlwSFlz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\nye6ZqgAAAABJRU5ErkJggg==\n",
      "text/plain": [
       "<matplotlib.figure.Figure at 0x7f5df0b01610>"
      ]
     },
     "metadata": {},
     "output_type": "display_data"
    },
    {
     "name": "stdout",
     "output_type": "stream",
     "text": [
      "Number of mass shooting vs GDP, errors represent Poisson statistics.\n",
      "The datapoint to the top right of the plot is the USA, which has both the highest GDP and the highest number of mass shootings\n"
     ]
    }
   ],
   "source": [
    "fig = pl.figure(figsize=(10,5)) \n",
    "ax = fig.add_subplot(111)\n",
    "\n",
    "scatter = ax.scatter(df.gdp / 1e9, df['Number of mass shootings'])\n",
    "ax.errorbar(df.gdp / 1e9, df['Number of mass shootings'], \n",
    "            yerr = np.sqrt(df['Number of mass shootings'] * 1.0), fmt = '.')\n",
    "ax.set_xlabel(\"GDP (in billions)\")\n",
    "ax.set_ylabel(\"Number of mass shooting per person\")\n",
    "ax.set_ylim()\n",
    "pl.show()\n",
    "print (\"Number of mass shooting vs GDP, \" + \n",
    "       \"errors represent Poisson statistics.\\n\" + \n",
    "       \"The datapoint to the top right of the plot is the USA, \" + \n",
    "       \"which has both the highest GDP and the highest number of mass shootings\")"
   ]
  },
  {
   "cell_type": "markdown",
   "metadata": {},
   "source": [
    "## plot the average number of civilian fire arms per person\n",
    "first without errors, then with errors. are there  points that look like outliers?"
   ]
  },
  {
   "cell_type": "code",
   "execution_count": 31,
   "metadata": {
    "collapsed": false
   },
   "outputs": [
    {
     "data": {
      "text/plain": [
       "Index([u'Country Name', u'pop', u'Country', u'Guns/100 inhabitants',\n",
       "       u'Number of mass shootings', u'gdp', u'ISO code', u'Source',\n",
       "       u'% of homicides by firearm', u'Number of homicides by firearm',\n",
       "       u'Homicide by firearm rate per 100,000 pop',\n",
       "       u'Rank by rate of ownership', u'Average firearms per 100 people',\n",
       "       u'Average total all civilian firearms'],\n",
       "      dtype='object')"
      ]
     },
     "execution_count": 31,
     "metadata": {},
     "output_type": "execute_result"
    }
   ],
   "source": [
    "df.columns"
   ]
  },
  {
   "cell_type": "code",
   "execution_count": 32,
   "metadata": {
    "ExecuteTime": {
     "end_time": "2017-10-12T07:17:52.778486",
     "start_time": "2017-10-12T07:17:52.768299"
    },
    "collapsed": true,
    "run_control": {
     "frozen": false,
     "read_only": false
    }
   },
   "outputs": [],
   "source": [
    "df['average number of civilian fire armpp'] = df[\"Average firearms per 100 people\"]/ 1e3"
   ]
  },
  {
   "cell_type": "code",
   "execution_count": 33,
   "metadata": {
    "collapsed": false
   },
   "outputs": [
    {
     "data": {
      "text/html": [
       "<div>\n",
       "<table border=\"1\" class=\"dataframe\">\n",
       "  <thead>\n",
       "    <tr style=\"text-align: right;\">\n",
       "      <th></th>\n",
       "      <th>Country Name</th>\n",
       "      <th>pop</th>\n",
       "      <th>Country</th>\n",
       "      <th>Guns/100 inhabitants</th>\n",
       "      <th>Number of mass shootings</th>\n",
       "      <th>gdp</th>\n",
       "      <th>ISO code</th>\n",
       "      <th>Source</th>\n",
       "      <th>% of homicides by firearm</th>\n",
       "      <th>Number of homicides by firearm</th>\n",
       "      <th>Homicide by firearm rate per 100,000 pop</th>\n",
       "      <th>Rank by rate of ownership</th>\n",
       "      <th>Average firearms per 100 people</th>\n",
       "      <th>Average total all civilian firearms</th>\n",
       "      <th>average number of civilian fire armpp</th>\n",
       "    </tr>\n",
       "  </thead>\n",
       "  <tbody>\n",
       "    <tr>\n",
       "      <th>0</th>\n",
       "      <td>Australia</td>\n",
       "      <td>22728254.0</td>\n",
       "      <td>Australia</td>\n",
       "      <td>15.0</td>\n",
       "      <td>4</td>\n",
       "      <td>1.538194e+12</td>\n",
       "      <td>AU</td>\n",
       "      <td>NSO</td>\n",
       "      <td>11.5</td>\n",
       "      <td>30.0</td>\n",
       "      <td>0.14</td>\n",
       "      <td>42.0</td>\n",
       "      <td>15.0</td>\n",
       "      <td>3050000.0</td>\n",
       "      <td>0.0150</td>\n",
       "    </tr>\n",
       "    <tr>\n",
       "      <th>1</th>\n",
       "      <td>Austria</td>\n",
       "      <td>8429991.0</td>\n",
       "      <td>Austria</td>\n",
       "      <td>30.4</td>\n",
       "      <td>1</td>\n",
       "      <td>4.074516e+11</td>\n",
       "      <td>AT</td>\n",
       "      <td>CTS</td>\n",
       "      <td>29.5</td>\n",
       "      <td>18.0</td>\n",
       "      <td>0.22</td>\n",
       "      <td>14.0</td>\n",
       "      <td>30.4</td>\n",
       "      <td>2500000.0</td>\n",
       "      <td>0.0304</td>\n",
       "    </tr>\n",
       "    <tr>\n",
       "      <th>2</th>\n",
       "      <td>Canada</td>\n",
       "      <td>34750545.0</td>\n",
       "      <td>Canada</td>\n",
       "      <td>30.8</td>\n",
       "      <td>4</td>\n",
       "      <td>1.824289e+12</td>\n",
       "      <td>CA</td>\n",
       "      <td>CTS</td>\n",
       "      <td>32.0</td>\n",
       "      <td>173.0</td>\n",
       "      <td>0.51</td>\n",
       "      <td>13.0</td>\n",
       "      <td>30.8</td>\n",
       "      <td>9950000.0</td>\n",
       "      <td>0.0308</td>\n",
       "    </tr>\n",
       "    <tr>\n",
       "      <th>3</th>\n",
       "      <td>Switzerland</td>\n",
       "      <td>7996861.0</td>\n",
       "      <td>Switzerland</td>\n",
       "      <td>45.7</td>\n",
       "      <td>2</td>\n",
       "      <td>6.650541e+11</td>\n",
       "      <td>CH</td>\n",
       "      <td>CTS</td>\n",
       "      <td>72.2</td>\n",
       "      <td>57.0</td>\n",
       "      <td>0.77</td>\n",
       "      <td>3.0</td>\n",
       "      <td>45.7</td>\n",
       "      <td>3400000.0</td>\n",
       "      <td>0.0457</td>\n",
       "    </tr>\n",
       "    <tr>\n",
       "      <th>4</th>\n",
       "      <td>Germany</td>\n",
       "      <td>80425823.0</td>\n",
       "      <td>Germany</td>\n",
       "      <td>30.3</td>\n",
       "      <td>7</td>\n",
       "      <td>3.543984e+12</td>\n",
       "      <td>DE</td>\n",
       "      <td>CTS/National police</td>\n",
       "      <td>26.3</td>\n",
       "      <td>158.0</td>\n",
       "      <td>0.19</td>\n",
       "      <td>15.0</td>\n",
       "      <td>30.3</td>\n",
       "      <td>25000000.0</td>\n",
       "      <td>0.0303</td>\n",
       "    </tr>\n",
       "  </tbody>\n",
       "</table>\n",
       "</div>"
      ],
      "text/plain": [
       "  Country Name         pop      Country  Guns/100 inhabitants  \\\n",
       "0    Australia  22728254.0    Australia                  15.0   \n",
       "1      Austria   8429991.0      Austria                  30.4   \n",
       "2       Canada  34750545.0       Canada                  30.8   \n",
       "3  Switzerland   7996861.0  Switzerland                  45.7   \n",
       "4      Germany  80425823.0      Germany                  30.3   \n",
       "\n",
       "   Number of mass shootings           gdp ISO code               Source  \\\n",
       "0                         4  1.538194e+12       AU                  NSO   \n",
       "1                         1  4.074516e+11       AT                  CTS   \n",
       "2                         4  1.824289e+12       CA                  CTS   \n",
       "3                         2  6.650541e+11       CH                  CTS   \n",
       "4                         7  3.543984e+12       DE  CTS/National police   \n",
       "\n",
       "   % of homicides by firearm  Number of homicides by firearm  \\\n",
       "0                       11.5                            30.0   \n",
       "1                       29.5                            18.0   \n",
       "2                       32.0                           173.0   \n",
       "3                       72.2                            57.0   \n",
       "4                       26.3                           158.0   \n",
       "\n",
       "   Homicide by firearm rate per 100,000 pop  Rank by rate of ownership  \\\n",
       "0                                      0.14                       42.0   \n",
       "1                                      0.22                       14.0   \n",
       "2                                      0.51                       13.0   \n",
       "3                                      0.77                        3.0   \n",
       "4                                      0.19                       15.0   \n",
       "\n",
       "   Average firearms per 100 people  Average total all civilian firearms  \\\n",
       "0                             15.0                            3050000.0   \n",
       "1                             30.4                            2500000.0   \n",
       "2                             30.8                            9950000.0   \n",
       "3                             45.7                            3400000.0   \n",
       "4                             30.3                           25000000.0   \n",
       "\n",
       "   average number of civilian fire armpp  \n",
       "0                                 0.0150  \n",
       "1                                 0.0304  \n",
       "2                                 0.0308  \n",
       "3                                 0.0457  \n",
       "4                                 0.0303  "
      ]
     },
     "execution_count": 33,
     "metadata": {},
     "output_type": "execute_result"
    }
   ],
   "source": [
    "df.head(5)"
   ]
  },
  {
   "cell_type": "code",
   "execution_count": 34,
   "metadata": {
    "collapsed": false
   },
   "outputs": [
    {
     "data": {
      "image/png": "iVBORw0KGgoAAAANSUhEUgAAAXwAAAEKCAYAAAARnO4WAAAABHNCSVQICAgIfAhkiAAAAAlwSFlz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\n",
      "text/plain": [
       "<matplotlib.figure.Figure at 0x7f5df0af9310>"
      ]
     },
     "metadata": {},
     "output_type": "display_data"
    }
   ],
   "source": [
    "fig, ax = plt.subplots()\n",
    "ax.hist(df['average number of civilian fire armpp'] )\n",
    "ax.set_xlabel('average number of civilian fire armpp')\n",
    "ax.set_ylabel('freq of contires');"
   ]
  },
  {
   "cell_type": "markdown",
   "metadata": {},
   "source": [
    "#### Fig. 1 Histogram of Average number of civilian fire arm per person with out erros"
   ]
  },
  {
   "cell_type": "code",
   "execution_count": 35,
   "metadata": {
    "collapsed": true
   },
   "outputs": [],
   "source": [
    "# with error bar"
   ]
  },
  {
   "cell_type": "code",
   "execution_count": 36,
   "metadata": {
    "collapsed": false,
    "scrolled": true
   },
   "outputs": [
    {
     "data": {
      "image/png": "iVBORw0KGgoAAAANSUhEUgAAAYIAAAEKCAYAAAAfGVI8AAAABHNCSVQICAgIfAhkiAAAAAlwSFlz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\nzMwy50RgZpY5JwIzs8z9P9NNtPROjK+8AAAAAElFTkSuQmCC\n",
      "text/plain": [
       "<matplotlib.figure.Figure at 0x7f5df0b8c550>"
      ]
     },
     "metadata": {},
     "output_type": "display_data"
    }
   ],
   "source": [
    "y,binEdges = np.histogram(df['average number of civilian fire armpp'], bins = 10)\n",
    "bincenters = (binEdges[1:]+binEdges[:-1])\n",
    "menStd     = np.sqrt(y)\n",
    "width      = 0.01\n",
    "pl.bar(bincenters, y, width=width, color='r', yerr=menStd)\n",
    "pl.xlabel('average number of civilian fire armpp')\n",
    "pl.ylabel('freq of contires');\n",
    "pl.show()"
   ]
  },
  {
   "cell_type": "markdown",
   "metadata": {},
   "source": [
    "#### Fig. 2 Histogram of Average number of civilian fire arm per person with erros"
   ]
  },
  {
   "cell_type": "markdown",
   "metadata": {},
   "source": [
    "#### There is outliners and it's U.S.A"
   ]
  },
  {
   "cell_type": "markdown",
   "metadata": {},
   "source": [
    "## plot the average number of homicide by fire arms per person\n",
    "first as a histogram\n",
    "\n",
    "then against the country GDP, with statistical errors. are there  points that look like outliers?"
   ]
  },
  {
   "cell_type": "code",
   "execution_count": 37,
   "metadata": {
    "collapsed": false,
    "scrolled": true
   },
   "outputs": [
    {
     "data": {
      "image/png": "iVBORw0KGgoAAAANSUhEUgAAAYYAAAEKCAYAAAAW8vJGAAAABHNCSVQICAgIfAhkiAAAAAlwSFlz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\nhgwAAAAASUVORK5CYII=\n",
      "text/plain": [
       "<matplotlib.figure.Figure at 0x7f5decec9c90>"
      ]
     },
     "metadata": {},
     "output_type": "display_data"
    }
   ],
   "source": [
    "fig, ax = plt.subplots()\n",
    "ax.hist(df['Number of homicides by firearm'] / df['pop'] * 1000, bins =10)\n",
    "ax.set_xlabel('Number of homicides by firearm')\n",
    "ax.set_ylabel('Freq of contries');"
   ]
  },
  {
   "cell_type": "markdown",
   "metadata": {},
   "source": [
    "#### Fig.3 Histogram of average number of homicide by fire arms per person"
   ]
  },
  {
   "cell_type": "code",
   "execution_count": 38,
   "metadata": {
    "collapsed": true
   },
   "outputs": [],
   "source": [
    "# with error bar"
   ]
  },
  {
   "cell_type": "code",
   "execution_count": 39,
   "metadata": {
    "collapsed": false,
    "scrolled": false
   },
   "outputs": [
    {
     "data": {
      "image/png": "iVBORw0KGgoAAAANSUhEUgAAAYYAAAEKCAYAAAAW8vJGAAAABHNCSVQICAgIfAhkiAAAAAlwSFlz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\n",
      "text/plain": [
       "<matplotlib.figure.Figure at 0x7f5dece71090>"
      ]
     },
     "metadata": {},
     "output_type": "display_data"
    }
   ],
   "source": [
    "y,binEdges = np.histogram(df['Number of homicides by firearm'] / df['pop'] * 1000, bins = 10)\n",
    "bincenters = (binEdges[1:]+binEdges[:-1])\n",
    "menStd     = np.sqrt(y)\n",
    "width      = 0.005\n",
    "pl.bar(bincenters, y, width=width, color='r', yerr=menStd)\n",
    "pl.xlabel('average number of homicide by fire arms per person')\n",
    "pl.ylabel('freq of contires');\n",
    "pl.show()\n"
   ]
  },
  {
   "cell_type": "markdown",
   "metadata": {},
   "source": [
    "#### Fig.3 Histogram of average number of homicide by fire arms per person with error bars"
   ]
  },
  {
   "cell_type": "markdown",
   "metadata": {},
   "source": [
    "fig = pl.figure(figsize=(10,5)) \n",
    "ax = fig.add_subplot(111)\n",
    "\n",
    "scatter = ax.scatter(df.gdp / 1e9, df['Number of homicides by firearm'] / df['pop'] * 1000)\n",
    "ax.errorbar(df.gdp / 1e9, df['Number of homicides by firearm'] / df['pop'] * 1000, \n",
    "            yerr = np.sqrt(df['Number of homicides by firearm'] / df['pop'] * 1000), fmt = '.')\n",
    "ax.set_xlabel(\"GDP (in billions)\")\n",
    "ax.set_ylabel(\"Average number of homicides by firearms per people\")\n",
    "ax.set_ylim()\n",
    "pl.show()"
   ]
  },
  {
   "cell_type": "markdown",
   "metadata": {},
   "source": [
    "#### Average number of homicides by firearms per people vs GDP errors represent Poisson statistics The datapoint to the top right of the plot is the USA, which has both the highest GDP and the highest average number of homicides by firearms per people"
   ]
  },
  {
   "cell_type": "markdown",
   "metadata": {},
   "source": [
    "## plot the number of  homicides by fire arm against the number of civilian firearms. plot the  US in a different color\n",
    "with and without errorbars\n"
   ]
  },
  {
   "cell_type": "code",
   "execution_count": 40,
   "metadata": {
    "collapsed": false,
    "scrolled": true
   },
   "outputs": [
    {
     "data": {
      "image/png": "iVBORw0KGgoAAAANSUhEUgAAAmQAAAFICAYAAAD+l+JsAAAABHNCSVQICAgIfAhkiAAAAAlwSFlz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\nZkImSZLUYyZkkiRJPWZCJkmS1GP/P7aLpdTRwo20AAAAAElFTkSuQmCC\n",
      "text/plain": [
       "<matplotlib.figure.Figure at 0x7f5decca0a50>"
      ]
     },
     "metadata": {},
     "output_type": "display_data"
    }
   ],
   "source": [
    "col = []\n",
    "for i in range(len(df.axes[0])):\n",
    "    if df[\"Country Name\"][i] == \"United States\":\n",
    "        col.append(\"r\")\n",
    "    else:\n",
    "        col.append(\"y\")\n",
    "        \n",
    "fig = pl.figure(figsize=(10,5)) \n",
    "ax = fig.add_subplot(111)\n",
    "\n",
    "scatter = ax.scatter(df['Number of homicides by firearm'], df['Average total all civilian firearms'],color =col)\n",
    "ax.set_xlabel(\"Average total all civilian firearms\")\n",
    "ax.set_ylabel(\"Number of homicides by fire arms\")\n",
    "ax.set_ylim()\n",
    "pl.show()"
   ]
  },
  {
   "cell_type": "markdown",
   "metadata": {},
   "source": [
    "#### Fig.4  Number of homicides by fire arm VS Average Total all Civilian fire arms, Red is U.S.A yellow is Rest of World"
   ]
  },
  {
   "cell_type": "code",
   "execution_count": 41,
   "metadata": {
    "collapsed": false,
    "scrolled": true
   },
   "outputs": [
    {
     "data": {
      "image/png": "iVBORw0KGgoAAAANSUhEUgAAAmQAAAFICAYAAAD+l+JsAAAABHNCSVQICAgIfAhkiAAAAAlwSFlz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\ngCL2oY01VQAAAABJRU5ErkJggg==\n",
      "text/plain": [
       "<matplotlib.figure.Figure at 0x7f5deced5f10>"
      ]
     },
     "metadata": {},
     "output_type": "display_data"
    }
   ],
   "source": [
    "# with errorbar\n",
    "\n",
    "col = []\n",
    "for i in range(len(df.axes[0])):\n",
    "    if df[\"Country Name\"][i] == \"United States\":\n",
    "        col.append(\"r\")\n",
    "    else:\n",
    "        col.append(\"y\")\n",
    "        \n",
    "fig = pl.figure(figsize=(10,5)) \n",
    "ax = fig.add_subplot(111)\n",
    "\n",
    "scatter = ax.scatter(df['Number of homicides by firearm'], df['Average total all civilian firearms'],color =col)\n",
    "ax.errorbar(df['Number of homicides by firearm'] , df['Average total all civilian firearms'], \n",
    "            yerr = np.sqrt(df['Average total all civilian firearms'] * 1.0), fmt = '.')\n",
    "ax.set_xlabel(\"gdp\")\n",
    "ax.set_ylabel(\"Average total all civilian firearms\")\n",
    "ax.set_ylim()\n",
    "pl.show()"
   ]
  },
  {
   "cell_type": "markdown",
   "metadata": {},
   "source": [
    "#### Fig. 5 Number of homicides by fire arm VS Average Total all Civilian fire arms, Red is U.S.A yellow is Rest of World with errors. The erros is in blue"
   ]
  },
  {
   "cell_type": "markdown",
   "metadata": {},
   "source": [
    "## plot the number of  mass shootings against the number of civilian firearms. plot the  US in a different color\n",
    "with and without errorbars\n"
   ]
  },
  {
   "cell_type": "code",
   "execution_count": 42,
   "metadata": {
    "collapsed": false
   },
   "outputs": [
    {
     "data": {
      "text/plain": [
       "Index([u'Country Name', u'pop', u'Country', u'Guns/100 inhabitants',\n",
       "       u'Number of mass shootings', u'gdp', u'ISO code', u'Source',\n",
       "       u'% of homicides by firearm', u'Number of homicides by firearm',\n",
       "       u'Homicide by firearm rate per 100,000 pop',\n",
       "       u'Rank by rate of ownership', u'Average firearms per 100 people',\n",
       "       u'Average total all civilian firearms',\n",
       "       u'average number of civilian fire armpp'],\n",
       "      dtype='object')"
      ]
     },
     "execution_count": 42,
     "metadata": {},
     "output_type": "execute_result"
    }
   ],
   "source": [
    "df.columns"
   ]
  },
  {
   "cell_type": "code",
   "execution_count": 43,
   "metadata": {
    "collapsed": false
   },
   "outputs": [
    {
     "data": {
      "image/png": "iVBORw0KGgoAAAANSUhEUgAAAmQAAAFICAYAAAD+l+JsAAAABHNCSVQICAgIfAhkiAAAAAlwSFlz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\nJLXMQCZJktQyA5kkSVLL/j+RRMPa/kyrZwAAAABJRU5ErkJggg==\n",
      "text/plain": [
       "<matplotlib.figure.Figure at 0x7f5decf2ff10>"
      ]
     },
     "metadata": {},
     "output_type": "display_data"
    }
   ],
   "source": [
    "col = []\n",
    "for i in range(len(df.axes[0])):\n",
    "    if df[\"Country Name\"][i] == \"United States\":\n",
    "        col.append(\"r\")\n",
    "    else:\n",
    "        col.append(\"y\")\n",
    "        \n",
    "fig = pl.figure(figsize=(10,5)) \n",
    "ax = fig.add_subplot(111)\n",
    "\n",
    "scatter = ax.scatter(df['Number of mass shootings'], df['Average total all civilian firearms'],color =col)\n",
    "ax.set_xlabel(\"Averate total all civilian firearms\")\n",
    "ax.set_ylabel(\"Number of amss shootings\")\n",
    "ax.set_ylim()\n",
    "pl.show()"
   ]
  },
  {
   "cell_type": "markdown",
   "metadata": {},
   "source": [
    "#### Fig. 6 Number of Mass Shooting VS Average Total all Civilian fire arms, Red is U.S.A yellow is Rest of World"
   ]
  },
  {
   "cell_type": "code",
   "execution_count": 44,
   "metadata": {
    "collapsed": false
   },
   "outputs": [
    {
     "data": {
      "image/png": "iVBORw0KGgoAAAANSUhEUgAAAmQAAAFICAYAAAD+l+JsAAAABHNCSVQICAgIfAhkiAAAAAlwSFlz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\nTkSuQmCC\n",
      "text/plain": [
       "<matplotlib.figure.Figure at 0x7f5df0b01f50>"
      ]
     },
     "metadata": {},
     "output_type": "display_data"
    }
   ],
   "source": [
    "col = []\n",
    "for i in range(len(df.axes[0])):\n",
    "    if df[\"Country Name\"][i] == \"United States\":\n",
    "        col.append(\"r\")\n",
    "    else:\n",
    "        col.append(\"y\")\n",
    "        \n",
    "fig = pl.figure(figsize=(10,5)) \n",
    "ax = fig.add_subplot(111)\n",
    "\n",
    "scatter = ax.scatter(df['Number of mass shootings'], df['Average total all civilian firearms'],color =col)\n",
    "ax.errorbar(df['Number of mass shootings'] , df['Average total all civilian firearms'], \n",
    "            yerr = np.sqrt(df['Number of mass shootings'] * 1.0), fmt = '.')\n",
    "ax.set_xlabel(\"Averate total all civilian firearms\")\n",
    "ax.set_ylabel(\"Number of amss shootings\")\n",
    "ax.set_ylim()\n",
    "pl.show()"
   ]
  },
  {
   "cell_type": "markdown",
   "metadata": {},
   "source": [
    "#### Fig. 7 Number of Mass Shooting VS Average Total all Civilian fire arms, Red is U.S.A yellow is Rest of World with errors. The erros is in blue"
   ]
  },
  {
   "cell_type": "markdown",
   "metadata": {},
   "source": [
    "# Modeling\n",
    "\n",
    "## fit a line to the Number of mass shootings  per person as a function of Average total all civilian firearms per person. \n",
    "Before you do it it is a good idea to make sure that both quantities are roughly of the same order of magnitude (unity). (You can simply divide by the order of magnitude of the mean of the sample to obtain this). Use\n",
    "\n",
    "    - statsmodels OLS\n",
    "    - statsmodels WLS\n",
    "    - seaborn\n",
    "    - choose one of\n",
    "        -- creating a function that calculates the residuals and minimizing that function\n",
    "        -- analytical solution http://mathworld.wolfram.com/LeastSquaresFitting.html\n",
    "        -- numpy.polyfit() - https://docs.scipy.org/doc/numpy-1.13.0/reference/generated/numpy.polyfit.html\n",
    "    \n",
    "\n",
    "WLS: that is the weighted square fit. The statsmodel package WLS function allows you to take the uncertainties of each data point into account when you fit your model. It takes the parameter weights, which is the inverse of your errors:\n",
    "weights = 1.0/df.yerror\n",
    "Notice that \n",
    "    a - sqrt(0) = 0\n",
    "    b - 1/0 = infinity\n",
    "    c - you cannot have weight that are infinity in your fit. Please come up with a solution and justify it.\n",
    "\n",
    "\n",
    "the latter three you can learn about in this example: https://github.com/fedhere/PUI2017_fb55/blob/master/Lab5_fb55/genderIncomeBias.ipynb\n",
    "Since we did not discuss these, I will add some notes to the repo in the afternoon.\n",
    "\n",
    "Use the seaborn python package built in regression function  to plot the regression confidence intervals. \n",
    "\n",
    "import seaborn  as sns\n",
    "sns.regplot(x=\"x\", y=\"y\", data=df);\n",
    "\n",
    "\n"
   ]
  },
  {
   "cell_type": "code",
   "execution_count": 45,
   "metadata": {
    "collapsed": false
   },
   "outputs": [
    {
     "data": {
      "text/plain": [
       "1.2102125439686046e-07"
      ]
     },
     "execution_count": 45,
     "metadata": {},
     "output_type": "execute_result"
    }
   ],
   "source": [
    "mean(df[\"Number of mass shootings\"] / df['pop'])"
   ]
  },
  {
   "cell_type": "code",
   "execution_count": 46,
   "metadata": {
    "collapsed": false
   },
   "outputs": [
    {
     "data": {
      "text/plain": [
       "0.22895008572891778"
      ]
     },
     "execution_count": 46,
     "metadata": {},
     "output_type": "execute_result"
    }
   ],
   "source": [
    "mean(df['Average total all civilian firearms']/df['pop'])"
   ]
  },
  {
   "cell_type": "code",
   "execution_count": 47,
   "metadata": {
    "collapsed": false
   },
   "outputs": [],
   "source": [
    "df['shootingspp'] = (df[\"Number of mass shootings\"] / df['pop'])/(e**-7)\n",
    "df['firearmpp'] = df['Average total all civilian firearms']/df['pop']"
   ]
  },
  {
   "cell_type": "code",
   "execution_count": 48,
   "metadata": {
    "collapsed": true
   },
   "outputs": [],
   "source": [
    "lm = smf.ols(formula = 'shootingspp ~firearmpp ', data = df).fit()"
   ]
  },
  {
   "cell_type": "code",
   "execution_count": 49,
   "metadata": {
    "collapsed": false
   },
   "outputs": [
    {
     "data": {
      "text/plain": [
       "<matplotlib.legend.Legend at 0x7f5decbfce50>"
      ]
     },
     "execution_count": 49,
     "metadata": {},
     "output_type": "execute_result"
    },
    {
     "data": {
      "image/png": "iVBORw0KGgoAAAANSUhEUgAAAncAAAFPCAYAAAAvC+g/AAAABHNCSVQICAgIfAhkiAAAAAlwSFlz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\nIv8HjbUZzadffVAAAAAASUVORK5CYII=\n",
      "text/plain": [
       "<matplotlib.figure.Figure at 0x7f5decd1cd90>"
      ]
     },
     "metadata": {},
     "output_type": "display_data"
    }
   ],
   "source": [
    "fig = pl.figure(figsize=(10,5)) \n",
    "ax = fig.add_subplot(111)\n",
    "pl.plot(df['firearmpp'],df['shootingspp'],'o')\n",
    "pl.title('Number of Mass Shootings per person VS Fire arm per person', fontsize = 15)\n",
    "pl.plot(df['firearmpp'], lm.predict(), '-', label = 'OLS')\n",
    "ax.set_xlabel(\"Fire arms per Person\")\n",
    "ax.set_ylabel(\"Number of Mass Shooting per person\")\n",
    "plt.legend()\n"
   ]
  },
  {
   "cell_type": "markdown",
   "metadata": {},
   "source": [
    "#### Fig. 8 Mass Shooting per person VS Fire arm per Person with OLS prediction"
   ]
  },
  {
   "cell_type": "code",
   "execution_count": 50,
   "metadata": {
    "collapsed": true
   },
   "outputs": [],
   "source": [
    "# WLS"
   ]
  },
  {
   "cell_type": "code",
   "execution_count": 51,
   "metadata": {
    "collapsed": false
   },
   "outputs": [],
   "source": [
    "wls_model = smf.WLS(endog = df['shootingspp'], exog =df['firearmpp'], weights=1/abs(lm.resid)).fit()"
   ]
  },
  {
   "cell_type": "code",
   "execution_count": 52,
   "metadata": {
    "collapsed": false
   },
   "outputs": [
    {
     "data": {
      "text/plain": [
       "<matplotlib.legend.Legend at 0x7f5decaf5710>"
      ]
     },
     "execution_count": 52,
     "metadata": {},
     "output_type": "execute_result"
    },
    {
     "data": {
      "image/png": "iVBORw0KGgoAAAANSUhEUgAAAncAAAFPCAYAAAAvC+g/AAAABHNCSVQICAgIfAhkiAAAAAlwSFlz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\ncSciIiISIyruRERERGJExZ2IiIhIjPw/uQLc0uJ8xaUAAAAASUVORK5CYII=\n",
      "text/plain": [
       "<matplotlib.figure.Figure at 0x7f5decf74690>"
      ]
     },
     "metadata": {},
     "output_type": "display_data"
    }
   ],
   "source": [
    "fig = pl.figure(figsize=(10,5)) \n",
    "ax = fig.add_subplot(111)\n",
    "plt.plot(df['firearmpp'],df['shootingspp'],'o')\n",
    "plt.title('Mass Shootings per person VS Fire Arm per Person', fontsize = 15)\n",
    "plt.plot(df['firearmpp'], lm.predict(), '-', label = 'OLS')\n",
    "plt.plot(df['firearmpp'], wls_model.predict(),'-', label = 'WLS')\n",
    "ax.set_xlabel(\"Firearmpp\")\n",
    "ax.set_ylabel(\"Shootingspp\")\n",
    "\n",
    "plt.legend()"
   ]
  },
  {
   "cell_type": "markdown",
   "metadata": {},
   "source": [
    "#### Fig. 9 Shooting per person VS Fire arm per Person with OLS prediction and WLS prediction"
   ]
  },
  {
   "cell_type": "code",
   "execution_count": 53,
   "metadata": {
    "collapsed": true
   },
   "outputs": [],
   "source": [
    "# seaborn"
   ]
  },
  {
   "cell_type": "code",
   "execution_count": 54,
   "metadata": {
    "collapsed": false,
    "scrolled": true
   },
   "outputs": [
    {
     "name": "stderr",
     "output_type": "stream",
     "text": [
      "/opt/rh/anaconda/root/envs/PUI2016_Python2/lib/python2.7/site-packages/IPython/html.py:14: ShimWarning: The `IPython.html` package has been deprecated. You should import from `notebook` instead. `IPython.html.widgets` has moved to `ipywidgets`.\n",
      "  \"`IPython.html.widgets` has moved to `ipywidgets`.\", ShimWarning)\n"
     ]
    },
    {
     "data": {
      "image/png": "iVBORw0KGgoAAAANSUhEUgAAAgAAAAFYCAYAAAAlTUT9AAAABHNCSVQICAgIfAhkiAAAAAlwSFlz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\n/wdhhn/UORpsVQAAAABJRU5ErkJggg==\n",
      "text/plain": [
       "<matplotlib.figure.Figure at 0x7f5deccb8790>"
      ]
     },
     "metadata": {},
     "output_type": "display_data"
    }
   ],
   "source": [
    "import seaborn as sns \n",
    "sns.regplot(x=df[\"firearmpp\"], y=df[\"shootingspp\"], data=df);\n"
   ]
  },
  {
   "cell_type": "markdown",
   "metadata": {},
   "source": [
    "#### Fig. 10 seaborn regression for Mass shooting per Person vs  Fire arm per person"
   ]
  },
  {
   "cell_type": "code",
   "execution_count": 55,
   "metadata": {
    "collapsed": true
   },
   "outputs": [],
   "source": [
    "# poly fit\n",
    "x = linspace(0,1,100)\n",
    "poly_fit = np.polyfit(df['firearmpp'], df[\"shootingspp\"], 1)"
   ]
  },
  {
   "cell_type": "code",
   "execution_count": 56,
   "metadata": {
    "collapsed": false
   },
   "outputs": [
    {
     "data": {
      "text/plain": [
       "<matplotlib.text.Text at 0x7f5decd1edd0>"
      ]
     },
     "execution_count": 56,
     "metadata": {},
     "output_type": "execute_result"
    },
    {
     "data": {
      "image/png": "iVBORw0KGgoAAAANSUhEUgAAAfIAAAFbCAYAAAAuggz2AAAABHNCSVQICAgIfAhkiAAAAAlwSFlz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\nYII=\n",
      "text/plain": [
       "<matplotlib.figure.Figure at 0x7f5decb87610>"
      ]
     },
     "metadata": {},
     "output_type": "display_data"
    }
   ],
   "source": [
    "y = poly_fit[0]*(df['firearmpp'])+poly_fit[1]\n",
    "\n",
    "# compose plot\n",
    "plt.plot(df['firearmpp'],y)\n",
    "plt.plot(df['firearmpp'],df['shootingspp'],'o')\n",
    "plt.title('Mass Shootings per person VS Fire Arm per Person', fontsize = 15)\n",
    "ax.set_xlabel(\"Firearmpp\")\n",
    "ax.set_ylabel(\"Shootingspp\")\n"
   ]
  },
  {
   "cell_type": "markdown",
   "metadata": {},
   "source": [
    "#### Fig. 11 Mass Shooting s per Person Vs Fire Arm per Person with first order poly fit"
   ]
  },
  {
   "cell_type": "code",
   "execution_count": 57,
   "metadata": {
    "collapsed": false
   },
   "outputs": [
    {
     "data": {
      "text/plain": [
       "<matplotlib.text.Text at 0x7f5dec181150>"
      ]
     },
     "execution_count": 57,
     "metadata": {},
     "output_type": "execute_result"
    },
    {
     "data": {
      "image/png": "iVBORw0KGgoAAAANSUhEUgAAAnAAAAFOCAYAAAAGiyDjAAAABHNCSVQICAgIfAhkiAAAAAlwSFlz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\n",
      "text/plain": [
       "<matplotlib.figure.Figure at 0x7f5dec25a650>"
      ]
     },
     "metadata": {},
     "output_type": "display_data"
    }
   ],
   "source": [
    "# for fun, run poly line, rather than line. because it's polyfit\n",
    "x = linspace(0,1,100)\n",
    "poly_fit = np.polyfit(df['firearmpp'], df[\"shootingspp\"], 2)\n",
    "\n",
    "y = poly_fit[0]*(x)**2+poly_fit[1]*(x)+poly_fit[2]\n",
    "\n",
    "fig = pl.figure(figsize=(10,5)) \n",
    "ax = fig.add_subplot(111)\n",
    "plt.title('Mass Shootings per person VS Fire Arm per Person', fontsize = 15)\n",
    "plt.plot(x,y)\n",
    "plt.plot(df['firearmpp'],df['shootingspp'],'o')\n",
    "ax.set_xlabel(\"Firearmpp\")\n",
    "ax.set_ylabel(\"Shootingspp\")\n"
   ]
  },
  {
   "cell_type": "markdown",
   "metadata": {},
   "source": [
    "#### Fig. 11 Mass Shooting s per Person Vs Fire Arm per Person with second order poly fit"
   ]
  },
  {
   "cell_type": "markdown",
   "metadata": {},
   "source": [
    "## Use the stsatsmodels.gaphics package to plot the influence plot. \n",
    "Read the package documentation to learn how to read this plot and extract the countries with the highest influence\n",
    "\n",
    "This is the topic of this week's assigned reading, so make sure you do the reading before you do this step. It will help you interpret the plot."
   ]
  },
  {
   "cell_type": "code",
   "execution_count": 58,
   "metadata": {
    "collapsed": false
   },
   "outputs": [
    {
     "data": {
      "text/html": [
       "<table class=\"simpletable\">\n",
       "<caption>OLS Regression Results</caption>\n",
       "<tr>\n",
       "  <th>Dep. Variable:</th>       <td>shootingspp</td>   <th>  R-squared:         </th> <td>   0.199</td>\n",
       "</tr>\n",
       "<tr>\n",
       "  <th>Model:</th>                   <td>OLS</td>       <th>  Adj. R-squared:    </th> <td>   0.159</td>\n",
       "</tr>\n",
       "<tr>\n",
       "  <th>Method:</th>             <td>Least Squares</td>  <th>  F-statistic:       </th> <td>   4.971</td>\n",
       "</tr>\n",
       "<tr>\n",
       "  <th>Date:</th>             <td>Tue, 17 Oct 2017</td> <th>  Prob (F-statistic):</th>  <td>0.0374</td> \n",
       "</tr>\n",
       "<tr>\n",
       "  <th>Time:</th>                 <td>20:54:11</td>     <th>  Log-Likelihood:    </th> <td>  161.37</td>\n",
       "</tr>\n",
       "<tr>\n",
       "  <th>No. Observations:</th>      <td>    22</td>      <th>  AIC:               </th> <td>  -318.7</td>\n",
       "</tr>\n",
       "<tr>\n",
       "  <th>Df Residuals:</th>          <td>    20</td>      <th>  BIC:               </th> <td>  -316.5</td>\n",
       "</tr>\n",
       "<tr>\n",
       "  <th>Df Model:</th>              <td>     1</td>      <th>                     </th>     <td> </td>   \n",
       "</tr>\n",
       "<tr>\n",
       "  <th>Covariance Type:</th>      <td>nonrobust</td>    <th>                     </th>     <td> </td>   \n",
       "</tr>\n",
       "</table>\n",
       "<table class=\"simpletable\">\n",
       "<tr>\n",
       "      <td></td>         <th>coef</th>     <th>std err</th>      <th>t</th>      <th>P>|t|</th> <th>[95.0% Conf. Int.]</th> \n",
       "</tr>\n",
       "<tr>\n",
       "  <th>Intercept</th> <td> 3.453e-05</td> <td> 5.64e-05</td> <td>    0.612</td> <td> 0.548</td> <td>-8.32e-05     0.000</td>\n",
       "</tr>\n",
       "<tr>\n",
       "  <th>firearmpp</th> <td>    0.0004</td> <td>    0.000</td> <td>    2.230</td> <td> 0.037</td> <td> 2.76e-05     0.001</td>\n",
       "</tr>\n",
       "</table>\n",
       "<table class=\"simpletable\">\n",
       "<tr>\n",
       "  <th>Omnibus:</th>       <td>34.840</td> <th>  Durbin-Watson:     </th> <td>   1.830</td>\n",
       "</tr>\n",
       "<tr>\n",
       "  <th>Prob(Omnibus):</th> <td> 0.000</td> <th>  Jarque-Bera (JB):  </th> <td>  88.018</td>\n",
       "</tr>\n",
       "<tr>\n",
       "  <th>Skew:</th>          <td> 2.733</td> <th>  Prob(JB):          </th> <td>7.71e-20</td>\n",
       "</tr>\n",
       "<tr>\n",
       "  <th>Kurtosis:</th>      <td>11.133</td> <th>  Cond. No.          </th> <td>    5.74</td>\n",
       "</tr>\n",
       "</table>"
      ],
      "text/plain": [
       "<class 'statsmodels.iolib.summary.Summary'>\n",
       "\"\"\"\n",
       "                            OLS Regression Results                            \n",
       "==============================================================================\n",
       "Dep. Variable:            shootingspp   R-squared:                       0.199\n",
       "Model:                            OLS   Adj. R-squared:                  0.159\n",
       "Method:                 Least Squares   F-statistic:                     4.971\n",
       "Date:                Tue, 17 Oct 2017   Prob (F-statistic):             0.0374\n",
       "Time:                        20:54:11   Log-Likelihood:                 161.37\n",
       "No. Observations:                  22   AIC:                            -318.7\n",
       "Df Residuals:                      20   BIC:                            -316.5\n",
       "Df Model:                           1                                         \n",
       "Covariance Type:            nonrobust                                         \n",
       "==============================================================================\n",
       "                 coef    std err          t      P>|t|      [95.0% Conf. Int.]\n",
       "------------------------------------------------------------------------------\n",
       "Intercept   3.453e-05   5.64e-05      0.612      0.548     -8.32e-05     0.000\n",
       "firearmpp      0.0004      0.000      2.230      0.037      2.76e-05     0.001\n",
       "==============================================================================\n",
       "Omnibus:                       34.840   Durbin-Watson:                   1.830\n",
       "Prob(Omnibus):                  0.000   Jarque-Bera (JB):               88.018\n",
       "Skew:                           2.733   Prob(JB):                     7.71e-20\n",
       "Kurtosis:                      11.133   Cond. No.                         5.74\n",
       "==============================================================================\n",
       "\n",
       "Warnings:\n",
       "[1] Standard Errors assume that the covariance matrix of the errors is correctly specified.\n",
       "\"\"\""
      ]
     },
     "execution_count": 58,
     "metadata": {},
     "output_type": "execute_result"
    }
   ],
   "source": [
    "lm.summary()"
   ]
  },
  {
   "cell_type": "code",
<<<<<<< HEAD
   "execution_count": 108,
   "metadata": {},
   "outputs": [],
   "source": [
    "import statsmodels.graphics as smg\n"
   ]
  },
  {
   "cell_type": "code",
   "execution_count": 109,
   "metadata": {},
   "outputs": [
    {
     "ename": "AttributeError",
     "evalue": "'module' object has no attribute 'influence_plot'",
     "output_type": "error",
     "traceback": [
      "\u001b[0;31m---------------------------------------------------------------------------\u001b[0m",
      "\u001b[0;31mAttributeError\u001b[0m                            Traceback (most recent call last)",
      "\u001b[0;32m<ipython-input-109-98aa567854cf>\u001b[0m in \u001b[0;36m<module>\u001b[0;34m()\u001b[0m\n\u001b[1;32m      1\u001b[0m \u001b[0mfig\u001b[0m\u001b[0;34m,\u001b[0m \u001b[0max\u001b[0m \u001b[0;34m=\u001b[0m \u001b[0mplt\u001b[0m\u001b[0;34m.\u001b[0m\u001b[0msubplots\u001b[0m\u001b[0;34m(\u001b[0m\u001b[0mfigsize\u001b[0m\u001b[0;34m=\u001b[0m\u001b[0;34m(\u001b[0m\u001b[0;36m12\u001b[0m\u001b[0;34m,\u001b[0m\u001b[0;36m8\u001b[0m\u001b[0;34m)\u001b[0m\u001b[0;34m)\u001b[0m\u001b[0;34m\u001b[0m\u001b[0m\n\u001b[0;32m----> 2\u001b[0;31m \u001b[0mfig\u001b[0m \u001b[0;34m=\u001b[0m \u001b[0msmg\u001b[0m\u001b[0;34m.\u001b[0m\u001b[0minfluence_plot\u001b[0m\u001b[0;34m(\u001b[0m\u001b[0mlm\u001b[0m\u001b[0;34m,\u001b[0m \u001b[0max\u001b[0m\u001b[0;34m=\u001b[0m\u001b[0max\u001b[0m\u001b[0;34m,\u001b[0m \u001b[0mcriterion\u001b[0m\u001b[0;34m=\u001b[0m\u001b[0;34m\"cooks\"\u001b[0m\u001b[0;34m)\u001b[0m\u001b[0;34m\u001b[0m\u001b[0m\n\u001b[0m",
      "\u001b[0;31mAttributeError\u001b[0m: 'module' object has no attribute 'influence_plot'"
     ]
    },
    {
     "data": {
      "image/png": "iVBORw0KGgoAAAANSUhEUgAAAsoAAAHWCAYAAABuaq89AAAABHNCSVQICAgIfAhkiAAAAAlwSFlz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\n",
      "text/plain": [
       "<matplotlib.figure.Figure at 0x7f8a55895550>"
=======
   "execution_count": 59,
   "metadata": {
    "collapsed": false
   },
   "outputs": [
    {
     "data": {
      "image/png": "iVBORw0KGgoAAAANSUhEUgAAAssAAAH8CAYAAAAnn+JTAAAABHNCSVQICAgIfAhkiAAAAAlwSFlz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\n",
      "text/plain": [
       "<matplotlib.figure.Figure at 0x7f5dec0cae90>"
>>>>>>> d4b4ce6b90de5495853b349ecd55cd9526a14aee
      ]
     },
     "metadata": {},
     "output_type": "display_data"
    }
   ],
   "source": [
    "fig, ax = plt.subplots(figsize=(12,8))\n",
    "fig = smg.influence_plot(lm, ax=ax, criterion=\"cooks\")"
   ]
  },
  {
   "cell_type": "markdown",
   "metadata": {},
   "source": [
    "#### An influence plot shows the outlyingness, leverage, and influence of each case.\n",
    "\n",
    "The plot shows the residual on the vertical axis, leverage on the horizontal axis, and the point size is the square root of Cook's D statistic, a measure of the influence of the point.\n",
    "\n",
    "Outliers are cases that do not correspond to the model fitted to the bulk of the data. You can identify outliers as those cases with a large residual (usually greater than approximately +/- 2), though not all cases with a large residual are outliers and not all outliers are bad. Some of the most interesting cases may be outliers.\n",
    "\n",
    "Leverage is the potential for a case to have an influence on the model. You can identify points with high leverage as those furthest to the right. A point with high leverage may not have much influence on the model if it fits the overall model without that case.\n",
    "\n",
    "Influence combines the leverage and residual of a case to measure how the parameter estimates would change if that case were excluded. Points with a large residual and high leverage have the most influence. They can have an adverse effect on (perturb) the model if they are changed or excluded, making the model less robust. Sometimes a small group of influential points can have an unduly large impact on the fit of the model.\n",
    "\n",
    "\n",
    "Therefore, USA has High leverage and high residual, 21 so USA has large impact on the ift of the model\n"
   ]
  }
 ],
 "metadata": {
  "anaconda-cloud": {},
  "kernelspec": {
   "display_name": "PUI2016_Python2",
   "language": "python",
   "name": "pui2016_python2"
  },
  "language_info": {
   "codemirror_mode": {
    "name": "ipython",
    "version": 2
   },
   "file_extension": ".py",
   "mimetype": "text/x-python",
   "name": "python",
   "nbconvert_exporter": "python",
   "pygments_lexer": "ipython2",
   "version": "2.7.12"
  },
  "latex_envs": {
   "LaTeX_envs_menu_present": true,
   "bibliofile": "biblio.bib",
   "cite_by": "apalike",
   "current_citInitial": 1,
   "eqLabelWithNumbers": true,
   "eqNumInitial": 1,
   "hotkeys": {
    "equation": "Ctrl-E",
    "itemize": "Ctrl-I"
   },
   "labels_anchors": false,
   "latex_user_defs": false,
   "report_style_numbering": false,
   "user_envs_cfg": false
  },
  "toc": {
   "colors": {
    "hover_highlight": "#DAA520",
    "running_highlight": "#FF0000",
    "selected_highlight": "#FFD700"
   },
   "moveMenuLeft": true,
   "nav_menu": {
    "height": "13px",
    "width": "251px"
   },
   "navigate_menu": true,
   "number_sections": true,
   "sideBar": true,
   "threshold": 4,
   "toc_cell": true,
   "toc_section_display": "block",
   "toc_window_display": true
  }
 },
 "nbformat": 4,
 "nbformat_minor": 1
}
