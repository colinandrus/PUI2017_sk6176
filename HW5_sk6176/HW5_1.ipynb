{
 "cells": [
  {
   "cell_type": "code",
   "execution_count": 1,
   "metadata": {
    "collapsed": false
   },
   "outputs": [
    {
     "name": "stdout",
     "output_type": "stream",
     "text": [
      "Populating the interactive namespace from numpy and matplotlib\n"
     ]
    }
   ],
   "source": [
    "import pandas as pd\n",
    "import numpy as np\n",
    "import pylab as pl\n",
    "import scipy as sp\n",
    "from scipy import stats\n",
    "%pylab inline\n"
   ]
  },
  {
   "cell_type": "code",
   "execution_count": 2,
   "metadata": {
    "collapsed": true,
    "scrolled": true
   },
   "outputs": [],
   "source": [
    "np.random.seed(150)\n",
    "# decision about population\n",
    "mymean = 800.\n",
    "mystdv =14\n",
    "Nsamples = 100\n",
    "nit = 1000\n",
    "myDmeans = np.zeros(nit)\n",
    "pop = np.zeros(nit)\n",
    "for i in range(nit):\n",
    "    pop=sp.stats.poisson.rvs(mu = mymean, size= Nsamples)\n",
    "    myDmeans[i]=pop.mean()\n"
   ]
  },
  {
   "cell_type": "code",
   "execution_count": 3,
   "metadata": {
    "collapsed": true
   },
   "outputs": [],
   "source": [
    "#### Fig1. Histogram of  mean of  Poisson Distribution"
   ]
  },
  {
   "cell_type": "code",
   "execution_count": 4,
   "metadata": {
    "collapsed": false,
    "scrolled": true
   },
   "outputs": [
    {
     "data": {
      "text/plain": [
       "array([783, 840, 843, 806, 783, 781, 781, 820, 810, 767, 838, 832, 818,\n",
       "       745, 774, 854, 782, 824, 817, 803, 762, 772, 786, 833, 780, 832,\n",
       "       839, 808, 764, 803, 839, 832, 803, 775, 762, 819, 819, 788, 784,\n",
       "       798, 824, 795, 803, 814, 802, 783, 769, 798, 793, 805, 782, 837,\n",
       "       783, 747, 759, 790, 775, 792, 802, 828, 828, 747, 774, 792, 775,\n",
       "       788, 757, 775, 785, 789, 793, 744, 805, 809, 824, 785, 801, 814,\n",
       "       779, 797, 818, 819, 780, 815, 857, 834, 832, 802, 793, 708, 827,\n",
       "       808, 770, 810, 835, 764, 785, 784, 792, 788])"
      ]
     },
     "execution_count": 4,
     "metadata": {},
     "output_type": "execute_result"
    }
   ],
   "source": [
    "pop"
   ]
  },
  {
   "cell_type": "code",
   "execution_count": 5,
   "metadata": {
    "collapsed": false,
    "scrolled": true
   },
   "outputs": [
    {
     "data": {
      "text/plain": [
       "<matplotlib.text.Text at 0x7f26afc06090>"
      ]
     },
     "execution_count": 5,
     "metadata": {},
     "output_type": "execute_result"
    },
    {
     "data": {
      "image/png": "[encoded data removed]",
      "text/plain": [
       "<matplotlib.figure.Figure at 0x7f26afc84790>"
      ]
     },
     "metadata": {},
     "output_type": "display_data"
    }
   ],
   "source": [
    "pl.hist(pop, bins = 30);\n",
    "xlabel('X values')\n",
    "ylabel('Number of Samples')\n",
    "title('Histogram of a Poisson Distribution sample')\n"
   ]
  },
  {
   "cell_type": "markdown",
   "metadata": {},
   "source": []
  },
  {
   "cell_type": "markdown",
   "metadata": {},
   "source": [
    "#### Figure 1. Plotting 100 random samples in a Poisson Distribution with a Mean of 500¶"
   ]
  },
  {
   "cell_type": "code",
   "execution_count": 6,
   "metadata": {
    "collapsed": true
   },
   "outputs": [],
   "source": [
    "samplestd=np.std(pop)"
   ]
  },
  {
   "cell_type": "code",
   "execution_count": 7,
   "metadata": {
    "collapsed": false
   },
   "outputs": [
    {
     "data": {
      "text/plain": [
       "2.7852731956488568"
      ]
     },
     "execution_count": 7,
     "metadata": {},
     "output_type": "execute_result"
    }
   ],
   "source": [
    "np.std(myDmeans)"
   ]
  },
  {
   "cell_type": "code",
   "execution_count": 8,
   "metadata": {
    "collapsed": true
   },
   "outputs": [],
   "source": [
    "zs = ((mymean - myDmeans)*np.sqrt(Nsamples))/samplestd"
   ]
  },
  {
   "cell_type": "code",
   "execution_count": 9,
   "metadata": {
    "collapsed": false,
    "scrolled": true
   },
   "outputs": [
    {
     "data": {
      "text/plain": [
       "<matplotlib.text.Text at 0x7f26a53eb3d0>"
      ]
     },
     "execution_count": 9,
     "metadata": {},
     "output_type": "execute_result"
    },
    {
     "data": {
      "image/png": "[encoded data removed]",
      "text/plain": [
       "<matplotlib.figure.Figure at 0x7f2703238e50>"
      ]
     },
     "metadata": {},
     "output_type": "display_data"
    }
   ],
   "source": [
    "pl.hist(zs)\n",
    "title('Z test distribution')\n",
    "xlabel('X Values')\n",
    "ylabel('Z statistic values ')"
   ]
  },
  {
   "cell_type": "markdown",
   "metadata": {},
   "source": [
    "#### Fig 2. Plotting of Z-test distribution"
   ]
  },
  {
   "cell_type": "code",
   "execution_count": 10,
   "metadata": {
    "collapsed": false
   },
   "outputs": [
    {
     "data": {
      "text/plain": [
       "KstestResult(statistic=0.020959062973442633, pvalue=0.77195235269085605)"
      ]
     },
     "execution_count": 10,
     "metadata": {},
     "output_type": "execute_result"
    }
   ],
   "source": [
    "sp.stats.kstest(zs,'norm')"
   ]
  },
  {
   "cell_type": "markdown",
   "metadata": {},
   "source": [
    "#### P value is 0.77 therefore, the z test distribution is most likely normal distribution"
   ]
  },
  {
   "cell_type": "code",
   "execution_count": 11,
   "metadata": {
    "collapsed": false
   },
   "outputs": [
    {
     "data": {
      "image/png": "[encoded data removed]",
      "text/plain": [
       "<matplotlib.figure.Figure at 0x7f26afc84110>"
      ]
     },
     "metadata": {},
     "output_type": "display_data"
    }
   ],
   "source": [
    "from scipy.stats import norm\n",
    "from numpy import linspace\n",
    "from pylab import plot,show,hist,figure,title\n",
    "\n",
    "\n",
    "param = norm.fit(zs) # distribution fitting\n",
    "\n",
    "# now, param[0] and param[1] are the mean and \n",
    "# the standard deviation of the fitted distribution\n",
    "x = linspace(-5,5,100)\n",
    "# fitted distribution\n",
    "pdf_fitted = norm.pdf(x,loc=param[0],scale=param[1])\n",
    "\n",
    "\n",
    "title('Z-test distribution')\n",
    "plot(x,pdf_fitted,'b-')\n",
    "hist(zs,normed=1,alpha=.3)\n",
    "xlabel('Z Statistic')\n",
    "ylabel('Count')\n",
    "pl.hist(zs,normed=1)\n",
    "show()"
   ]
  },
  {
   "cell_type": "markdown",
   "metadata": {
    "collapsed": true
   },
   "source": [
    "#### Figure 4. The Distribution of Z Scores fitted with a normal distribution"
   ]
  }
 ],
 "metadata": {
  "kernelspec": {
   "display_name": "Python 2",
   "language": "python",
   "name": "python2"
  },
  "language_info": {
   "codemirror_mode": {
    "name": "ipython",
    "version": 2
   },
   "file_extension": ".py",
   "mimetype": "text/x-python",
   "name": "python",
   "nbconvert_exporter": "python",
   "pygments_lexer": "ipython2",
   "version": "2.7.11"
  }
 },
 "nbformat": 4,
 "nbformat_minor": 2
}
