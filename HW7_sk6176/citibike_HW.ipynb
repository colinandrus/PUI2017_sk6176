{
 "cells": [
  {
   "cell_type": "code",
   "execution_count": 1,
   "metadata": {
    "collapsed": false,
    "scrolled": true
   },
   "outputs": [
    {
     "name": "stdout",
     "output_type": "stream",
     "text": [
      "Populating the interactive namespace from numpy and matplotlib\n"
     ]
    }
   ],
   "source": [
    "from __future__  import print_function, division\n",
    "import pylab as pl\n",
    "import pandas as pd\n",
    "import numpy as np\n",
    "import os\n",
    "\n",
    "%pylab inline\n",
    "\n",
    "import os\n",
    "import csv\n",
    "\n",
    "os.getenv(\"PUIDATA\")\n",
    "\n",
    "df = pd.read_csv(os.getenv(\"PUIDATA\") + \"/citibike\" +'/201707-citibike-tripdata.csv')\n",
    "df1 = pd.read_csv(os.getenv(\"PUIDATA\") + \"/citibike\" +'/201706-citibike-tripdata.csv')\n",
    "df2 = pd.read_csv(os.getenv(\"PUIDATA\") + \"/citibike\" +'/201705-citibike-tripdata.csv')\n",
    "\n",
    "# pl.rcParams.update(s)\n"
   ]
  },
  {
   "cell_type": "code",
   "execution_count": 2,
   "metadata": {
    "collapsed": false
   },
   "outputs": [
    {
     "data": {
      "text/html": [
       "<div>\n",
       "<table border=\"1\" class=\"dataframe\">\n",
       "  <thead>\n",
       "    <tr style=\"text-align: right;\">\n",
       "      <th></th>\n",
       "      <th>tripduration</th>\n",
       "      <th>starttime</th>\n",
       "      <th>stoptime</th>\n",
       "      <th>start station id</th>\n",
       "      <th>start station name</th>\n",
       "      <th>start station latitude</th>\n",
       "      <th>start station longitude</th>\n",
       "      <th>end station id</th>\n",
       "      <th>end station name</th>\n",
       "      <th>end station latitude</th>\n",
       "      <th>end station longitude</th>\n",
       "      <th>bikeid</th>\n",
       "      <th>usertype</th>\n",
       "      <th>birth year</th>\n",
       "      <th>gender</th>\n",
       "    </tr>\n",
       "  </thead>\n",
       "  <tbody>\n",
       "    <tr>\n",
       "      <th>0</th>\n",
       "      <td>364</td>\n",
       "      <td>2017-07-01 00:00:00</td>\n",
       "      <td>2017-07-01 00:06:05</td>\n",
       "      <td>539</td>\n",
       "      <td>Metropolitan Ave &amp; Bedford Ave</td>\n",
       "      <td>40.715348</td>\n",
       "      <td>-73.960241</td>\n",
       "      <td>3107</td>\n",
       "      <td>Bedford Ave &amp; Nassau Ave</td>\n",
       "      <td>40.723117</td>\n",
       "      <td>-73.952123</td>\n",
       "      <td>14744</td>\n",
       "      <td>Subscriber</td>\n",
       "      <td>1986.0</td>\n",
       "      <td>1</td>\n",
       "    </tr>\n",
       "    <tr>\n",
       "      <th>1</th>\n",
       "      <td>2142</td>\n",
       "      <td>2017-07-01 00:00:03</td>\n",
       "      <td>2017-07-01 00:35:46</td>\n",
       "      <td>293</td>\n",
       "      <td>Lafayette St &amp; E 8 St</td>\n",
       "      <td>40.730207</td>\n",
       "      <td>-73.991026</td>\n",
       "      <td>3425</td>\n",
       "      <td>2 Ave  &amp; E 104 St</td>\n",
       "      <td>40.789210</td>\n",
       "      <td>-73.943708</td>\n",
       "      <td>19587</td>\n",
       "      <td>Subscriber</td>\n",
       "      <td>1981.0</td>\n",
       "      <td>1</td>\n",
       "    </tr>\n",
       "    <tr>\n",
       "      <th>2</th>\n",
       "      <td>328</td>\n",
       "      <td>2017-07-01 00:00:08</td>\n",
       "      <td>2017-07-01 00:05:37</td>\n",
       "      <td>3242</td>\n",
       "      <td>Schermerhorn St &amp; Court St</td>\n",
       "      <td>40.691029</td>\n",
       "      <td>-73.991834</td>\n",
       "      <td>3397</td>\n",
       "      <td>Court St &amp; Nelson St</td>\n",
       "      <td>40.676395</td>\n",
       "      <td>-73.998699</td>\n",
       "      <td>27937</td>\n",
       "      <td>Subscriber</td>\n",
       "      <td>1984.0</td>\n",
       "      <td>2</td>\n",
       "    </tr>\n",
       "    <tr>\n",
       "      <th>3</th>\n",
       "      <td>2530</td>\n",
       "      <td>2017-07-01 00:00:11</td>\n",
       "      <td>2017-07-01 00:42:22</td>\n",
       "      <td>2002</td>\n",
       "      <td>Wythe Ave &amp; Metropolitan Ave</td>\n",
       "      <td>40.716887</td>\n",
       "      <td>-73.963198</td>\n",
       "      <td>398</td>\n",
       "      <td>Atlantic Ave &amp; Furman St</td>\n",
       "      <td>40.691652</td>\n",
       "      <td>-73.999979</td>\n",
       "      <td>26066</td>\n",
       "      <td>Subscriber</td>\n",
       "      <td>1985.0</td>\n",
       "      <td>1</td>\n",
       "    </tr>\n",
       "    <tr>\n",
       "      <th>4</th>\n",
       "      <td>2534</td>\n",
       "      <td>2017-07-01 00:00:15</td>\n",
       "      <td>2017-07-01 00:42:29</td>\n",
       "      <td>2002</td>\n",
       "      <td>Wythe Ave &amp; Metropolitan Ave</td>\n",
       "      <td>40.716887</td>\n",
       "      <td>-73.963198</td>\n",
       "      <td>398</td>\n",
       "      <td>Atlantic Ave &amp; Furman St</td>\n",
       "      <td>40.691652</td>\n",
       "      <td>-73.999979</td>\n",
       "      <td>29408</td>\n",
       "      <td>Subscriber</td>\n",
       "      <td>1982.0</td>\n",
       "      <td>2</td>\n",
       "    </tr>\n",
       "  </tbody>\n",
       "</table>\n",
       "</div>"
      ],
      "text/plain": [
       "   tripduration            starttime             stoptime  start station id  \\\n",
       "0           364  2017-07-01 00:00:00  2017-07-01 00:06:05               539   \n",
       "1          2142  2017-07-01 00:00:03  2017-07-01 00:35:46               293   \n",
       "2           328  2017-07-01 00:00:08  2017-07-01 00:05:37              3242   \n",
       "3          2530  2017-07-01 00:00:11  2017-07-01 00:42:22              2002   \n",
       "4          2534  2017-07-01 00:00:15  2017-07-01 00:42:29              2002   \n",
       "\n",
       "               start station name  start station latitude  \\\n",
       "0  Metropolitan Ave & Bedford Ave               40.715348   \n",
       "1           Lafayette St & E 8 St               40.730207   \n",
       "2      Schermerhorn St & Court St               40.691029   \n",
       "3    Wythe Ave & Metropolitan Ave               40.716887   \n",
       "4    Wythe Ave & Metropolitan Ave               40.716887   \n",
       "\n",
       "   start station longitude  end station id          end station name  \\\n",
       "0               -73.960241            3107  Bedford Ave & Nassau Ave   \n",
       "1               -73.991026            3425         2 Ave  & E 104 St   \n",
       "2               -73.991834            3397      Court St & Nelson St   \n",
       "3               -73.963198             398  Atlantic Ave & Furman St   \n",
       "4               -73.963198             398  Atlantic Ave & Furman St   \n",
       "\n",
       "   end station latitude  end station longitude  bikeid    usertype  \\\n",
       "0             40.723117             -73.952123   14744  Subscriber   \n",
       "1             40.789210             -73.943708   19587  Subscriber   \n",
       "2             40.676395             -73.998699   27937  Subscriber   \n",
       "3             40.691652             -73.999979   26066  Subscriber   \n",
       "4             40.691652             -73.999979   29408  Subscriber   \n",
       "\n",
       "   birth year  gender  \n",
       "0      1986.0       1  \n",
       "1      1981.0       1  \n",
       "2      1984.0       2  \n",
       "3      1985.0       1  \n",
       "4      1982.0       2  "
      ]
     },
     "execution_count": 2,
     "metadata": {},
     "output_type": "execute_result"
    }
   ],
   "source": [
    "df.head(5)"
   ]
  },
  {
   "cell_type": "code",
   "execution_count": 3,
   "metadata": {
    "collapsed": false,
    "scrolled": true
   },
   "outputs": [
    {
     "data": {
      "text/html": [
       "<div>\n",
       "<table border=\"1\" class=\"dataframe\">\n",
       "  <thead>\n",
       "    <tr style=\"text-align: right;\">\n",
       "      <th></th>\n",
       "      <th>tripduration</th>\n",
       "      <th>starttime</th>\n",
       "      <th>stoptime</th>\n",
       "      <th>start station id</th>\n",
       "      <th>start station name</th>\n",
       "      <th>start station latitude</th>\n",
       "      <th>start station longitude</th>\n",
       "      <th>end station id</th>\n",
       "      <th>end station name</th>\n",
       "      <th>end station latitude</th>\n",
       "      <th>end station longitude</th>\n",
       "      <th>bikeid</th>\n",
       "      <th>usertype</th>\n",
       "      <th>birth year</th>\n",
       "      <th>gender</th>\n",
       "    </tr>\n",
       "  </thead>\n",
       "  <tbody>\n",
       "    <tr>\n",
       "      <th>0</th>\n",
       "      <td>1397</td>\n",
       "      <td>2017-06-01 00:00:02</td>\n",
       "      <td>2017-06-01 00:23:19</td>\n",
       "      <td>515</td>\n",
       "      <td>W 43 St &amp; 10 Ave</td>\n",
       "      <td>40.760094</td>\n",
       "      <td>-73.994618</td>\n",
       "      <td>3285</td>\n",
       "      <td>W 87 St  &amp; Amsterdam Ave</td>\n",
       "      <td>40.788390</td>\n",
       "      <td>-73.974700</td>\n",
       "      <td>26642</td>\n",
       "      <td>Subscriber</td>\n",
       "      <td>1967.0</td>\n",
       "      <td>1</td>\n",
       "    </tr>\n",
       "    <tr>\n",
       "      <th>1</th>\n",
       "      <td>1103</td>\n",
       "      <td>2017-06-01 00:00:13</td>\n",
       "      <td>2017-06-01 00:18:37</td>\n",
       "      <td>488</td>\n",
       "      <td>W 39 St &amp; 9 Ave</td>\n",
       "      <td>40.756458</td>\n",
       "      <td>-73.993722</td>\n",
       "      <td>297</td>\n",
       "      <td>E 15 St &amp; 3 Ave</td>\n",
       "      <td>40.734232</td>\n",
       "      <td>-73.986923</td>\n",
       "      <td>25656</td>\n",
       "      <td>Subscriber</td>\n",
       "      <td>1981.0</td>\n",
       "      <td>1</td>\n",
       "    </tr>\n",
       "    <tr>\n",
       "      <th>2</th>\n",
       "      <td>1810</td>\n",
       "      <td>2017-06-01 00:00:20</td>\n",
       "      <td>2017-06-01 00:30:31</td>\n",
       "      <td>461</td>\n",
       "      <td>E 20 St &amp; 2 Ave</td>\n",
       "      <td>40.735877</td>\n",
       "      <td>-73.982050</td>\n",
       "      <td>465</td>\n",
       "      <td>Broadway &amp; W 41 St</td>\n",
       "      <td>40.755136</td>\n",
       "      <td>-73.986580</td>\n",
       "      <td>21023</td>\n",
       "      <td>Subscriber</td>\n",
       "      <td>1982.0</td>\n",
       "      <td>1</td>\n",
       "    </tr>\n",
       "    <tr>\n",
       "      <th>3</th>\n",
       "      <td>1760</td>\n",
       "      <td>2017-06-01 00:00:24</td>\n",
       "      <td>2017-06-01 00:29:45</td>\n",
       "      <td>2009</td>\n",
       "      <td>Catherine St &amp; Monroe St</td>\n",
       "      <td>40.711174</td>\n",
       "      <td>-73.996826</td>\n",
       "      <td>527</td>\n",
       "      <td>E 33 St &amp; 2 Ave</td>\n",
       "      <td>40.744023</td>\n",
       "      <td>-73.976056</td>\n",
       "      <td>25718</td>\n",
       "      <td>Subscriber</td>\n",
       "      <td>1973.0</td>\n",
       "      <td>2</td>\n",
       "    </tr>\n",
       "    <tr>\n",
       "      <th>4</th>\n",
       "      <td>2165</td>\n",
       "      <td>2017-06-01 00:00:33</td>\n",
       "      <td>2017-06-01 00:36:38</td>\n",
       "      <td>360</td>\n",
       "      <td>William St &amp; Pine St</td>\n",
       "      <td>40.707179</td>\n",
       "      <td>-74.008873</td>\n",
       "      <td>474</td>\n",
       "      <td>5 Ave &amp; E 29 St</td>\n",
       "      <td>40.745168</td>\n",
       "      <td>-73.986831</td>\n",
       "      <td>18691</td>\n",
       "      <td>Subscriber</td>\n",
       "      <td>1985.0</td>\n",
       "      <td>1</td>\n",
       "    </tr>\n",
       "  </tbody>\n",
       "</table>\n",
       "</div>"
      ],
      "text/plain": [
       "   tripduration            starttime             stoptime  start station id  \\\n",
       "0          1397  2017-06-01 00:00:02  2017-06-01 00:23:19               515   \n",
       "1          1103  2017-06-01 00:00:13  2017-06-01 00:18:37               488   \n",
       "2          1810  2017-06-01 00:00:20  2017-06-01 00:30:31               461   \n",
       "3          1760  2017-06-01 00:00:24  2017-06-01 00:29:45              2009   \n",
       "4          2165  2017-06-01 00:00:33  2017-06-01 00:36:38               360   \n",
       "\n",
       "         start station name  start station latitude  start station longitude  \\\n",
       "0          W 43 St & 10 Ave               40.760094               -73.994618   \n",
       "1           W 39 St & 9 Ave               40.756458               -73.993722   \n",
       "2           E 20 St & 2 Ave               40.735877               -73.982050   \n",
       "3  Catherine St & Monroe St               40.711174               -73.996826   \n",
       "4      William St & Pine St               40.707179               -74.008873   \n",
       "\n",
       "   end station id          end station name  end station latitude  \\\n",
       "0            3285  W 87 St  & Amsterdam Ave             40.788390   \n",
       "1             297           E 15 St & 3 Ave             40.734232   \n",
       "2             465        Broadway & W 41 St             40.755136   \n",
       "3             527           E 33 St & 2 Ave             40.744023   \n",
       "4             474           5 Ave & E 29 St             40.745168   \n",
       "\n",
       "   end station longitude  bikeid    usertype  birth year  gender  \n",
       "0             -73.974700   26642  Subscriber      1967.0       1  \n",
       "1             -73.986923   25656  Subscriber      1981.0       1  \n",
       "2             -73.986580   21023  Subscriber      1982.0       1  \n",
       "3             -73.976056   25718  Subscriber      1973.0       2  \n",
       "4             -73.986831   18691  Subscriber      1985.0       1  "
      ]
     },
     "execution_count": 3,
     "metadata": {},
     "output_type": "execute_result"
    }
   ],
   "source": [
    "df1.head()"
   ]
  },
  {
   "cell_type": "code",
   "execution_count": 4,
   "metadata": {
    "collapsed": false
   },
   "outputs": [
    {
     "data": {
      "text/html": [
       "<div>\n",
       "<table border=\"1\" class=\"dataframe\">\n",
       "  <thead>\n",
       "    <tr style=\"text-align: right;\">\n",
       "      <th></th>\n",
       "      <th>tripduration</th>\n",
       "      <th>starttime</th>\n",
       "      <th>stoptime</th>\n",
       "      <th>start station id</th>\n",
       "      <th>start station name</th>\n",
       "      <th>start station latitude</th>\n",
       "      <th>start station longitude</th>\n",
       "      <th>end station id</th>\n",
       "      <th>end station name</th>\n",
       "      <th>end station latitude</th>\n",
       "      <th>end station longitude</th>\n",
       "      <th>bikeid</th>\n",
       "      <th>usertype</th>\n",
       "      <th>birth year</th>\n",
       "      <th>gender</th>\n",
       "    </tr>\n",
       "  </thead>\n",
       "  <tbody>\n",
       "    <tr>\n",
       "      <th>0</th>\n",
       "      <td>254</td>\n",
       "      <td>2017-05-01 00:00:13</td>\n",
       "      <td>2017-05-01 00:04:27</td>\n",
       "      <td>511</td>\n",
       "      <td>E 14 St &amp; Avenue B</td>\n",
       "      <td>40.729387</td>\n",
       "      <td>-73.977724</td>\n",
       "      <td>394</td>\n",
       "      <td>E 9 St &amp; Avenue C</td>\n",
       "      <td>40.725213</td>\n",
       "      <td>-73.977688</td>\n",
       "      <td>27695</td>\n",
       "      <td>Subscriber</td>\n",
       "      <td>1996.0</td>\n",
       "      <td>2</td>\n",
       "    </tr>\n",
       "    <tr>\n",
       "      <th>1</th>\n",
       "      <td>248</td>\n",
       "      <td>2017-05-01 00:00:19</td>\n",
       "      <td>2017-05-01 00:04:28</td>\n",
       "      <td>511</td>\n",
       "      <td>E 14 St &amp; Avenue B</td>\n",
       "      <td>40.729387</td>\n",
       "      <td>-73.977724</td>\n",
       "      <td>394</td>\n",
       "      <td>E 9 St &amp; Avenue C</td>\n",
       "      <td>40.725213</td>\n",
       "      <td>-73.977688</td>\n",
       "      <td>15869</td>\n",
       "      <td>Subscriber</td>\n",
       "      <td>1996.0</td>\n",
       "      <td>1</td>\n",
       "    </tr>\n",
       "    <tr>\n",
       "      <th>2</th>\n",
       "      <td>1120</td>\n",
       "      <td>2017-05-01 00:00:19</td>\n",
       "      <td>2017-05-01 00:19:00</td>\n",
       "      <td>242</td>\n",
       "      <td>Carlton Ave &amp; Flushing Ave</td>\n",
       "      <td>40.697787</td>\n",
       "      <td>-73.973736</td>\n",
       "      <td>3083</td>\n",
       "      <td>Bushwick Ave &amp; Powers St</td>\n",
       "      <td>40.712477</td>\n",
       "      <td>-73.941000</td>\n",
       "      <td>18700</td>\n",
       "      <td>Subscriber</td>\n",
       "      <td>1985.0</td>\n",
       "      <td>2</td>\n",
       "    </tr>\n",
       "    <tr>\n",
       "      <th>3</th>\n",
       "      <td>212</td>\n",
       "      <td>2017-05-01 00:00:24</td>\n",
       "      <td>2017-05-01 00:03:56</td>\n",
       "      <td>168</td>\n",
       "      <td>W 18 St &amp; 6 Ave</td>\n",
       "      <td>40.739713</td>\n",
       "      <td>-73.994564</td>\n",
       "      <td>116</td>\n",
       "      <td>W 17 St &amp; 8 Ave</td>\n",
       "      <td>40.741776</td>\n",
       "      <td>-74.001497</td>\n",
       "      <td>24981</td>\n",
       "      <td>Subscriber</td>\n",
       "      <td>1993.0</td>\n",
       "      <td>1</td>\n",
       "    </tr>\n",
       "    <tr>\n",
       "      <th>4</th>\n",
       "      <td>686</td>\n",
       "      <td>2017-05-01 00:00:29</td>\n",
       "      <td>2017-05-01 00:11:55</td>\n",
       "      <td>494</td>\n",
       "      <td>W 26 St &amp; 8 Ave</td>\n",
       "      <td>40.747348</td>\n",
       "      <td>-73.997236</td>\n",
       "      <td>527</td>\n",
       "      <td>E 33 St &amp; 2 Ave</td>\n",
       "      <td>40.744023</td>\n",
       "      <td>-73.976056</td>\n",
       "      <td>25407</td>\n",
       "      <td>Subscriber</td>\n",
       "      <td>1964.0</td>\n",
       "      <td>1</td>\n",
       "    </tr>\n",
       "  </tbody>\n",
       "</table>\n",
       "</div>"
      ],
      "text/plain": [
       "   tripduration            starttime             stoptime  start station id  \\\n",
       "0           254  2017-05-01 00:00:13  2017-05-01 00:04:27               511   \n",
       "1           248  2017-05-01 00:00:19  2017-05-01 00:04:28               511   \n",
       "2          1120  2017-05-01 00:00:19  2017-05-01 00:19:00               242   \n",
       "3           212  2017-05-01 00:00:24  2017-05-01 00:03:56               168   \n",
       "4           686  2017-05-01 00:00:29  2017-05-01 00:11:55               494   \n",
       "\n",
       "           start station name  start station latitude  \\\n",
       "0          E 14 St & Avenue B               40.729387   \n",
       "1          E 14 St & Avenue B               40.729387   \n",
       "2  Carlton Ave & Flushing Ave               40.697787   \n",
       "3             W 18 St & 6 Ave               40.739713   \n",
       "4             W 26 St & 8 Ave               40.747348   \n",
       "\n",
       "   start station longitude  end station id          end station name  \\\n",
       "0               -73.977724             394         E 9 St & Avenue C   \n",
       "1               -73.977724             394         E 9 St & Avenue C   \n",
       "2               -73.973736            3083  Bushwick Ave & Powers St   \n",
       "3               -73.994564             116           W 17 St & 8 Ave   \n",
       "4               -73.997236             527           E 33 St & 2 Ave   \n",
       "\n",
       "   end station latitude  end station longitude  bikeid    usertype  \\\n",
       "0             40.725213             -73.977688   27695  Subscriber   \n",
       "1             40.725213             -73.977688   15869  Subscriber   \n",
       "2             40.712477             -73.941000   18700  Subscriber   \n",
       "3             40.741776             -74.001497   24981  Subscriber   \n",
       "4             40.744023             -73.976056   25407  Subscriber   \n",
       "\n",
       "   birth year  gender  \n",
       "0      1996.0       2  \n",
       "1      1996.0       1  \n",
       "2      1985.0       2  \n",
       "3      1993.0       1  \n",
       "4      1964.0       1  "
      ]
     },
     "execution_count": 4,
     "metadata": {},
     "output_type": "execute_result"
    }
   ],
   "source": [
    "df2.head()"
   ]
  },
  {
   "cell_type": "code",
   "execution_count": 5,
   "metadata": {
    "collapsed": false
   },
   "outputs": [
    {
     "data": {
      "text/plain": [
       "(1735599, 15)"
      ]
     },
     "execution_count": 5,
     "metadata": {},
     "output_type": "execute_result"
    }
   ],
   "source": [
    "df.shape"
   ]
  },
  {
   "cell_type": "code",
   "execution_count": 6,
   "metadata": {
    "collapsed": false
   },
   "outputs": [
    {
     "data": {
      "text/plain": [
       "(1731594, 15)"
      ]
     },
     "execution_count": 6,
     "metadata": {},
     "output_type": "execute_result"
    }
   ],
   "source": [
    "df1.shape"
   ]
  },
  {
   "cell_type": "code",
   "execution_count": 7,
   "metadata": {
    "collapsed": false
   },
   "outputs": [],
   "source": [
    "df = df.append(df1)"
   ]
  },
  {
   "cell_type": "code",
   "execution_count": 8,
   "metadata": {
    "collapsed": true
   },
   "outputs": [],
   "source": [
    "df = df.append(df2)"
   ]
  },
  {
   "cell_type": "code",
   "execution_count": 9,
   "metadata": {
    "collapsed": false
   },
   "outputs": [
    {
     "data": {
      "text/plain": [
       "(4990461, 15)"
      ]
     },
     "execution_count": 9,
     "metadata": {},
     "output_type": "execute_result"
    }
   ],
   "source": [
    "df.shape"
   ]
  },
  {
   "cell_type": "markdown",
   "metadata": {
    "collapsed": false
   },
   "source": [
    "IDEA:\n",
    "Women has short trip duration of usage of citibike than men.\n",
    "\n",
    "NULL HYPOTHESIS:\n",
    "\n",
    "The women's trip duration that use of citi-bike is the same or higher than the men's trip duration of usage of the bike.\n",
    "\n",
    "_$H_0$_ : $\\frac{F_{Wd}}{W_{n}} < \\frac{F_{Md}}{M_{n}} $ \n",
    "\n",
    "_$H_1$_ : $\\frac{F_{Wd}}{W_{n}} >= \\frac{F_{Md}}{M_{n}} $ \n",
    "\n",
    "where $F_{Wd}$ is Frequency of Women trip duration, $F_{Md}$ is Frequency of Men trip duration, ${W_{n}}$ is total number of Women, and ${M_{m}}$ is total number of Men\n",
    "\n",
    "or identically:\n",
    "\n",
    "_$H_0$_ : $\\frac{F_{Wd}}{W_{n}} - \\frac{F_{Md}}{M_{n}} $ < 0\n",
    "\n",
    "_$H_1$_ : $\\frac{F_{Wd}}{W_{n}} - \\frac{F_{Md}}{M_{n}} $ >= 0\n",
    "\n",
    "# I will use a significance level  $\\alpha=0.05$\n",
    "\n",
    "### which means i want the probability of getting a result at least as significant as mine to be less then 5%"
   ]
  },
  {
   "cell_type": "code",
   "execution_count": 10,
   "metadata": {
    "collapsed": false
   },
   "outputs": [
    {
     "data": {
      "text/plain": [
       "Index([u'tripduration', u'starttime', u'stoptime', u'start station id',\n",
       "       u'start station name', u'start station latitude',\n",
       "       u'start station longitude', u'end station id', u'end station name',\n",
       "       u'end station latitude', u'end station longitude', u'bikeid',\n",
       "       u'usertype', u'birth year', u'gender'],\n",
       "      dtype='object')"
      ]
     },
     "execution_count": 10,
     "metadata": {},
     "output_type": "execute_result"
    }
   ],
   "source": [
    "df.columns"
   ]
  },
  {
   "cell_type": "code",
   "execution_count": 11,
   "metadata": {
    "collapsed": false
   },
   "outputs": [],
   "source": [
    "df.drop(['starttime', 'stoptime', 'start station id',\n",
    "       'start station name', 'start station latitude',\n",
    "       'start station longitude', 'end station id', 'end station name',\n",
    "       'end station latitude', 'end station longitude', 'bikeid', 'usertype','birth year'], axis=1, inplace=True)"
   ]
  },
  {
   "cell_type": "code",
   "execution_count": 12,
   "metadata": {
    "collapsed": false,
    "scrolled": true
   },
   "outputs": [
    {
     "data": {
      "text/html": [
       "<div>\n",
       "<table border=\"1\" class=\"dataframe\">\n",
       "  <thead>\n",
       "    <tr style=\"text-align: right;\">\n",
       "      <th></th>\n",
       "      <th>tripduration</th>\n",
       "      <th>gender</th>\n",
       "    </tr>\n",
       "  </thead>\n",
       "  <tbody>\n",
       "    <tr>\n",
       "      <th>0</th>\n",
       "      <td>364</td>\n",
       "      <td>1</td>\n",
       "    </tr>\n",
       "    <tr>\n",
       "      <th>1</th>\n",
       "      <td>2142</td>\n",
       "      <td>1</td>\n",
       "    </tr>\n",
       "    <tr>\n",
       "      <th>2</th>\n",
       "      <td>328</td>\n",
       "      <td>2</td>\n",
       "    </tr>\n",
       "    <tr>\n",
       "      <th>3</th>\n",
       "      <td>2530</td>\n",
       "      <td>1</td>\n",
       "    </tr>\n",
       "    <tr>\n",
       "      <th>4</th>\n",
       "      <td>2534</td>\n",
       "      <td>2</td>\n",
       "    </tr>\n",
       "  </tbody>\n",
       "</table>\n",
       "</div>"
      ],
      "text/plain": [
       "   tripduration  gender\n",
       "0           364       1\n",
       "1          2142       1\n",
       "2           328       2\n",
       "3          2530       1\n",
       "4          2534       2"
      ]
     },
     "execution_count": 12,
     "metadata": {},
     "output_type": "execute_result"
    }
   ],
   "source": [
    "df.head()"
   ]
  },
  {
   "cell_type": "code",
   "execution_count": 13,
   "metadata": {
    "collapsed": true
   },
   "outputs": [],
   "source": [
    "# outliner(>0.95) of the data is cleaned"
   ]
  },
  {
   "cell_type": "code",
   "execution_count": 14,
   "metadata": {
    "collapsed": false
   },
   "outputs": [
    {
     "data": {
      "text/plain": [
       "2134.0"
      ]
     },
     "execution_count": 14,
     "metadata": {},
     "output_type": "execute_result"
    }
   ],
   "source": [
    "df.tripduration.quantile(0.95)"
   ]
  },
  {
   "cell_type": "code",
   "execution_count": 15,
   "metadata": {
    "collapsed": false
   },
   "outputs": [],
   "source": [
    "df3 = df[df.tripduration < df.tripduration.quantile(0.95)]"
   ]
  },
  {
   "cell_type": "code",
   "execution_count": 16,
   "metadata": {
    "collapsed": false,
    "scrolled": false
   },
   "outputs": [
    {
     "data": {
      "text/html": [
       "<div>\n",
       "<table border=\"1\" class=\"dataframe\">\n",
       "  <thead>\n",
       "    <tr style=\"text-align: right;\">\n",
       "      <th></th>\n",
       "      <th>tripduration</th>\n",
       "      <th>gender</th>\n",
       "    </tr>\n",
       "  </thead>\n",
       "  <tbody>\n",
       "    <tr>\n",
       "      <th>0</th>\n",
       "      <td>364</td>\n",
       "      <td>1</td>\n",
       "    </tr>\n",
       "    <tr>\n",
       "      <th>2</th>\n",
       "      <td>328</td>\n",
       "      <td>2</td>\n",
       "    </tr>\n",
       "    <tr>\n",
       "      <th>5</th>\n",
       "      <td>545</td>\n",
       "      <td>2</td>\n",
       "    </tr>\n",
       "    <tr>\n",
       "      <th>6</th>\n",
       "      <td>1496</td>\n",
       "      <td>1</td>\n",
       "    </tr>\n",
       "    <tr>\n",
       "      <th>7</th>\n",
       "      <td>1495</td>\n",
       "      <td>2</td>\n",
       "    </tr>\n",
       "  </tbody>\n",
       "</table>\n",
       "</div>"
      ],
      "text/plain": [
       "   tripduration  gender\n",
       "0           364       1\n",
       "2           328       2\n",
       "5           545       2\n",
       "6          1496       1\n",
       "7          1495       2"
      ]
     },
     "execution_count": 16,
     "metadata": {},
     "output_type": "execute_result"
    }
   ],
   "source": [
    "df3.head(5)"
   ]
  },
  {
   "cell_type": "code",
   "execution_count": 17,
   "metadata": {
    "collapsed": false
   },
   "outputs": [
    {
     "data": {
      "text/plain": [
       "(4740824, 2)"
      ]
     },
     "execution_count": 17,
     "metadata": {},
     "output_type": "execute_result"
    }
   ],
   "source": [
    "df3.shape"
   ]
  },
  {
   "cell_type": "markdown",
   "metadata": {},
   "source": [
    "### Lets separate males (_m) from females (_w) to test the hypotheses.\n",
    "### In this csv file gender == 1 is male, gender == 2 is female\n",
    "\n",
    "### Lets plot the frequency over tripduration(s)"
   ]
  },
  {
   "cell_type": "code",
   "execution_count": null,
   "metadata": {
    "collapsed": true
   },
   "outputs": [],
   "source": []
  },
  {
   "cell_type": "code",
   "execution_count": 18,
   "metadata": {
    "collapsed": false
   },
   "outputs": [
    {
     "data": {
      "image/png": "[encoded data removed]",
      "text/plain": [
       "<matplotlib.figure.Figure at 0x7f83c1e2d1d0>"
      ]
     },
     "metadata": {},
     "output_type": "display_data"
    }
   ],
   "source": [
    "fig = pl.figure(figsize(10,10))\n",
    "\n",
    "(df3[df3['gender']==2]['tripduration']).plot(bins = 10, kind=\"hist\", color = 'IndianRed',label='female')\n",
    "\n",
    "(df3[df3['gender'] == 1]['tripduration']).plot(bins = 10,kind=\"hist\", color= 'SteelBlue',label='male',alpha =0.5)\n",
    "\n",
    "pl.legend(fontsize=25)\n",
    "pl.xlabel('Duration(s)', fontsize=20)\n",
    "pl.ylabel('Frequency',fontsize=20)\n",
    "pl.show()"
   ]
  },
  {
   "cell_type": "markdown",
   "metadata": {},
   "source": [
    "## Fig.1 Histograme of trip duration against men and women in May, June, July, 2017 with bins"
   ]
  },
  {
   "cell_type": "markdown",
   "metadata": {
    "collapsed": true
   },
   "source": [
    "#### Let's normalized it"
   ]
  },
  {
   "cell_type": "code",
   "execution_count": 34,
   "metadata": {
    "collapsed": false
   },
   "outputs": [],
   "source": [
    "Wt = df3[df3['gender']==2].gender.shape[0]"
   ]
  },
  {
   "cell_type": "code",
   "execution_count": 35,
   "metadata": {
    "collapsed": false
   },
   "outputs": [],
   "source": [
    "Mt =df3[df3['gender']==1].gender.shape[0]"
   ]
  },
  {
   "cell_type": "code",
   "execution_count": 37,
   "metadata": {
    "collapsed": false
   },
   "outputs": [
    {
     "data": {
      "image/png": "[encoded data removed]",
      "text/plain": [
       "<matplotlib.figure.Figure at 0x7f842925ffd0>"
      ]
     },
     "metadata": {},
     "output_type": "display_data"
    }
   ],
   "source": [
    "fig = pl.figure(figsize(10,10))\n",
    "\n",
    "(df3[df3['gender']==2]['tripduration']).plot(bins = 10, kind=\"hist\", normed= Wt ,color = 'IndianRed',label='female')\n",
    "\n",
    "(df3[df3['gender'] == 1]['tripduration']).plot(bins = 10,kind=\"hist\",normed=Mt ,color= 'SteelBlue',label='male',alpha =0.5)\n",
    "\n",
    "pl.legend(fontsize=25)\n",
    "pl.xlabel('Duration(s)', fontsize=20)\n",
    "pl.ylabel('Frequency',fontsize=20)\n",
    "pl.show()"
   ]
  },
  {
   "cell_type": "markdown",
   "metadata": {},
   "source": [
    "#### Fig2. Normalized Histogram of trip duration against men and women in May, June, July, 2017 with bins"
   ]
  },
  {
   "cell_type": "markdown",
   "metadata": {},
   "source": [
    "### Z - test"
   ]
  },
  {
   "cell_type": "code",
   "execution_count": null,
   "metadata": {
    "collapsed": true
   },
   "outputs": [],
   "source": []
  }
 ],
 "metadata": {
  "anaconda-cloud": {},
  "kernelspec": {
   "display_name": "PUI2016_Python2",
   "language": "python",
   "name": "pui2016_python2"
  },
  "language_info": {
   "codemirror_mode": {
    "name": "ipython",
    "version": 2
   },
   "file_extension": ".py",
   "mimetype": "text/x-python",
   "name": "python",
   "nbconvert_exporter": "python",
   "pygments_lexer": "ipython2",
   "version": "2.7.12"
  }
 },
 "nbformat": 4,
 "nbformat_minor": 0
}
