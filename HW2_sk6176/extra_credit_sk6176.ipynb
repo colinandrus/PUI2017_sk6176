{
 "cells": [
  {
   "cell_type": "code",
   "execution_count": 297,
   "metadata": {
    "collapsed": true
   },
   "outputs": [],
   "source": [
    "import numpy as np\n",
    "import pandas as pd\n",
    "import sys\n",
    "import os"
   ]
  },
  {
   "cell_type": "code",
   "execution_count": 298,
   "metadata": {
    "collapsed": true
   },
   "outputs": [],
   "source": [
    "os.getenv('DFDATA')"
   ]
  },
  {
   "cell_type": "code",
   "execution_count": 299,
   "metadata": {
    "collapsed": false
   },
   "outputs": [],
   "source": [
    "Homeless =pd.read_csv('/gws/open/NYCOpenData/nycopendata/data/k46n-sa2m/1433871893/k46n-sa2m')"
   ]
  },
  {
   "cell_type": "code",
   "execution_count": 300,
   "metadata": {
    "collapsed": false,
    "scrolled": true
   },
   "outputs": [
    {
     "data": {
      "text/html": [
       "<div>\n",
       "<style>\n",
       "    .dataframe thead tr:only-child th {\n",
       "        text-align: right;\n",
       "    }\n",
       "\n",
       "    .dataframe thead th {\n",
       "        text-align: left;\n",
       "    }\n",
       "\n",
       "    .dataframe tbody tr th {\n",
       "        vertical-align: top;\n",
       "    }\n",
       "</style>\n",
       "<table border=\"1\" class=\"dataframe\">\n",
       "  <thead>\n",
       "    <tr style=\"text-align: right;\">\n",
       "      <th></th>\n",
       "      <th>Date of Census</th>\n",
       "      <th>Total Adults in Shelter</th>\n",
       "      <th>Total Children in Shelter</th>\n",
       "      <th>Total Individuals in Shelter</th>\n",
       "      <th>Single Adult Men in Shelter</th>\n",
       "      <th>Single Adult Women in Shelter</th>\n",
       "      <th>Total Single Adults in Shelter</th>\n",
       "      <th>Families with Children in Shelter</th>\n",
       "      <th>Adults in Families with Children in Shelter</th>\n",
       "      <th>Children in Families with Children in Shelter</th>\n",
       "      <th>Total Individuals in Families with Children in Shelter</th>\n",
       "      <th>Adult Families in Shelter</th>\n",
       "      <th>Individuals in Adult Families in Shelter</th>\n",
       "      <th>Families Requesting Temporary Housing at PATH</th>\n",
       "      <th>Adult Families Requesting Temporary Housing at AFIC</th>\n",
       "    </tr>\n",
       "  </thead>\n",
       "  <tbody>\n",
       "    <tr>\n",
       "      <th>0</th>\n",
       "      <td>06/08/2015</td>\n",
       "      <td>33137.0</td>\n",
       "      <td>23298.0</td>\n",
       "      <td>56435.0</td>\n",
       "      <td>8648.0</td>\n",
       "      <td>3264.0</td>\n",
       "      <td>11912.0</td>\n",
       "      <td>11707.0</td>\n",
       "      <td>16739.0</td>\n",
       "      <td>23298.0</td>\n",
       "      <td>40037.0</td>\n",
       "      <td>2134.0</td>\n",
       "      <td>4486.0</td>\n",
       "      <td>95.0</td>\n",
       "      <td>22.0</td>\n",
       "    </tr>\n",
       "    <tr>\n",
       "      <th>1</th>\n",
       "      <td>06/07/2015</td>\n",
       "      <td>33094.0</td>\n",
       "      <td>23284.0</td>\n",
       "      <td>56378.0</td>\n",
       "      <td>8610.0</td>\n",
       "      <td>3255.0</td>\n",
       "      <td>11865.0</td>\n",
       "      <td>11710.0</td>\n",
       "      <td>16743.0</td>\n",
       "      <td>23284.0</td>\n",
       "      <td>40027.0</td>\n",
       "      <td>2136.0</td>\n",
       "      <td>4486.0</td>\n",
       "      <td>61.0</td>\n",
       "      <td>10.0</td>\n",
       "    </tr>\n",
       "    <tr>\n",
       "      <th>2</th>\n",
       "      <td>06/06/2015</td>\n",
       "      <td>33065.0</td>\n",
       "      <td>23290.0</td>\n",
       "      <td>56355.0</td>\n",
       "      <td>8566.0</td>\n",
       "      <td>3245.0</td>\n",
       "      <td>11811.0</td>\n",
       "      <td>11706.0</td>\n",
       "      <td>16748.0</td>\n",
       "      <td>23290.0</td>\n",
       "      <td>40038.0</td>\n",
       "      <td>2145.0</td>\n",
       "      <td>4506.0</td>\n",
       "      <td>81.0</td>\n",
       "      <td>9.0</td>\n",
       "    </tr>\n",
       "    <tr>\n",
       "      <th>3</th>\n",
       "      <td>06/05/2015</td>\n",
       "      <td>33124.0</td>\n",
       "      <td>23286.0</td>\n",
       "      <td>56410.0</td>\n",
       "      <td>8627.0</td>\n",
       "      <td>3241.0</td>\n",
       "      <td>11868.0</td>\n",
       "      <td>11702.0</td>\n",
       "      <td>16749.0</td>\n",
       "      <td>23286.0</td>\n",
       "      <td>40035.0</td>\n",
       "      <td>2144.0</td>\n",
       "      <td>4507.0</td>\n",
       "      <td>106.0</td>\n",
       "      <td>12.0</td>\n",
       "    </tr>\n",
       "    <tr>\n",
       "      <th>4</th>\n",
       "      <td>06/04/2015</td>\n",
       "      <td>33171.0</td>\n",
       "      <td>23325.0</td>\n",
       "      <td>56496.0</td>\n",
       "      <td>8625.0</td>\n",
       "      <td>3251.0</td>\n",
       "      <td>11876.0</td>\n",
       "      <td>11715.0</td>\n",
       "      <td>16779.0</td>\n",
       "      <td>23325.0</td>\n",
       "      <td>40104.0</td>\n",
       "      <td>2149.0</td>\n",
       "      <td>4516.0</td>\n",
       "      <td>100.0</td>\n",
       "      <td>21.0</td>\n",
       "    </tr>\n",
       "    <tr>\n",
       "      <th>5</th>\n",
       "      <td>06/03/2015</td>\n",
       "      <td>33202.0</td>\n",
       "      <td>23304.0</td>\n",
       "      <td>56506.0</td>\n",
       "      <td>8680.0</td>\n",
       "      <td>3250.0</td>\n",
       "      <td>11930.0</td>\n",
       "      <td>11694.0</td>\n",
       "      <td>16760.0</td>\n",
       "      <td>23304.0</td>\n",
       "      <td>40064.0</td>\n",
       "      <td>2149.0</td>\n",
       "      <td>4512.0</td>\n",
       "      <td>110.0</td>\n",
       "      <td>19.0</td>\n",
       "    </tr>\n",
       "    <tr>\n",
       "      <th>6</th>\n",
       "      <td>06/02/2015</td>\n",
       "      <td>33169.0</td>\n",
       "      <td>23279.0</td>\n",
       "      <td>56448.0</td>\n",
       "      <td>8681.0</td>\n",
       "      <td>3246.0</td>\n",
       "      <td>11927.0</td>\n",
       "      <td>11673.0</td>\n",
       "      <td>16735.0</td>\n",
       "      <td>23279.0</td>\n",
       "      <td>40014.0</td>\n",
       "      <td>2147.0</td>\n",
       "      <td>4507.0</td>\n",
       "      <td>122.0</td>\n",
       "      <td>22.0</td>\n",
       "    </tr>\n",
       "    <tr>\n",
       "      <th>7</th>\n",
       "      <td>06/01/2015</td>\n",
       "      <td>33213.0</td>\n",
       "      <td>23349.0</td>\n",
       "      <td>56562.0</td>\n",
       "      <td>8671.0</td>\n",
       "      <td>3252.0</td>\n",
       "      <td>11923.0</td>\n",
       "      <td>11703.0</td>\n",
       "      <td>16778.0</td>\n",
       "      <td>23349.0</td>\n",
       "      <td>40127.0</td>\n",
       "      <td>2149.0</td>\n",
       "      <td>4512.0</td>\n",
       "      <td>95.0</td>\n",
       "      <td>16.0</td>\n",
       "    </tr>\n",
       "    <tr>\n",
       "      <th>8</th>\n",
       "      <td>05/31/2015</td>\n",
       "      <td>33123.0</td>\n",
       "      <td>23317.0</td>\n",
       "      <td>56440.0</td>\n",
       "      <td>8618.0</td>\n",
       "      <td>3227.0</td>\n",
       "      <td>11845.0</td>\n",
       "      <td>11698.0</td>\n",
       "      <td>16761.0</td>\n",
       "      <td>23317.0</td>\n",
       "      <td>40078.0</td>\n",
       "      <td>2152.0</td>\n",
       "      <td>4517.0</td>\n",
       "      <td>84.0</td>\n",
       "      <td>9.0</td>\n",
       "    </tr>\n",
       "    <tr>\n",
       "      <th>9</th>\n",
       "      <td>05/30/2015</td>\n",
       "      <td>33038.0</td>\n",
       "      <td>23314.0</td>\n",
       "      <td>56352.0</td>\n",
       "      <td>8538.0</td>\n",
       "      <td>3222.0</td>\n",
       "      <td>11760.0</td>\n",
       "      <td>11697.0</td>\n",
       "      <td>16767.0</td>\n",
       "      <td>23314.0</td>\n",
       "      <td>40081.0</td>\n",
       "      <td>2149.0</td>\n",
       "      <td>4511.0</td>\n",
       "      <td>89.0</td>\n",
       "      <td>7.0</td>\n",
       "    </tr>\n",
       "  </tbody>\n",
       "</table>\n",
       "</div>"
      ],
      "text/plain": [
       "  Date of Census  Total Adults in Shelter  Total Children in Shelter  \\\n",
       "0     06/08/2015                  33137.0                    23298.0   \n",
       "1     06/07/2015                  33094.0                    23284.0   \n",
       "2     06/06/2015                  33065.0                    23290.0   \n",
       "3     06/05/2015                  33124.0                    23286.0   \n",
       "4     06/04/2015                  33171.0                    23325.0   \n",
       "5     06/03/2015                  33202.0                    23304.0   \n",
       "6     06/02/2015                  33169.0                    23279.0   \n",
       "7     06/01/2015                  33213.0                    23349.0   \n",
       "8     05/31/2015                  33123.0                    23317.0   \n",
       "9     05/30/2015                  33038.0                    23314.0   \n",
       "\n",
       "   Total Individuals in Shelter  Single Adult Men in Shelter  \\\n",
       "0                       56435.0                       8648.0   \n",
       "1                       56378.0                       8610.0   \n",
       "2                       56355.0                       8566.0   \n",
       "3                       56410.0                       8627.0   \n",
       "4                       56496.0                       8625.0   \n",
       "5                       56506.0                       8680.0   \n",
       "6                       56448.0                       8681.0   \n",
       "7                       56562.0                       8671.0   \n",
       "8                       56440.0                       8618.0   \n",
       "9                       56352.0                       8538.0   \n",
       "\n",
       "   Single Adult Women in Shelter  Total Single Adults in Shelter  \\\n",
       "0                         3264.0                         11912.0   \n",
       "1                         3255.0                         11865.0   \n",
       "2                         3245.0                         11811.0   \n",
       "3                         3241.0                         11868.0   \n",
       "4                         3251.0                         11876.0   \n",
       "5                         3250.0                         11930.0   \n",
       "6                         3246.0                         11927.0   \n",
       "7                         3252.0                         11923.0   \n",
       "8                         3227.0                         11845.0   \n",
       "9                         3222.0                         11760.0   \n",
       "\n",
       "   Families with Children in Shelter  \\\n",
       "0                            11707.0   \n",
       "1                            11710.0   \n",
       "2                            11706.0   \n",
       "3                            11702.0   \n",
       "4                            11715.0   \n",
       "5                            11694.0   \n",
       "6                            11673.0   \n",
       "7                            11703.0   \n",
       "8                            11698.0   \n",
       "9                            11697.0   \n",
       "\n",
       "   Adults in Families with Children in Shelter  \\\n",
       "0                                      16739.0   \n",
       "1                                      16743.0   \n",
       "2                                      16748.0   \n",
       "3                                      16749.0   \n",
       "4                                      16779.0   \n",
       "5                                      16760.0   \n",
       "6                                      16735.0   \n",
       "7                                      16778.0   \n",
       "8                                      16761.0   \n",
       "9                                      16767.0   \n",
       "\n",
       "   Children in Families with Children in Shelter  \\\n",
       "0                                        23298.0   \n",
       "1                                        23284.0   \n",
       "2                                        23290.0   \n",
       "3                                        23286.0   \n",
       "4                                        23325.0   \n",
       "5                                        23304.0   \n",
       "6                                        23279.0   \n",
       "7                                        23349.0   \n",
       "8                                        23317.0   \n",
       "9                                        23314.0   \n",
       "\n",
       "   Total Individuals in Families with Children in Shelter   \\\n",
       "0                                            40037.0         \n",
       "1                                            40027.0         \n",
       "2                                            40038.0         \n",
       "3                                            40035.0         \n",
       "4                                            40104.0         \n",
       "5                                            40064.0         \n",
       "6                                            40014.0         \n",
       "7                                            40127.0         \n",
       "8                                            40078.0         \n",
       "9                                            40081.0         \n",
       "\n",
       "   Adult Families in Shelter  Individuals in Adult Families in Shelter  \\\n",
       "0                     2134.0                                    4486.0   \n",
       "1                     2136.0                                    4486.0   \n",
       "2                     2145.0                                    4506.0   \n",
       "3                     2144.0                                    4507.0   \n",
       "4                     2149.0                                    4516.0   \n",
       "5                     2149.0                                    4512.0   \n",
       "6                     2147.0                                    4507.0   \n",
       "7                     2149.0                                    4512.0   \n",
       "8                     2152.0                                    4517.0   \n",
       "9                     2149.0                                    4511.0   \n",
       "\n",
       "   Families Requesting Temporary Housing at PATH  \\\n",
       "0                                           95.0   \n",
       "1                                           61.0   \n",
       "2                                           81.0   \n",
       "3                                          106.0   \n",
       "4                                          100.0   \n",
       "5                                          110.0   \n",
       "6                                          122.0   \n",
       "7                                           95.0   \n",
       "8                                           84.0   \n",
       "9                                           89.0   \n",
       "\n",
       "   Adult Families Requesting Temporary Housing at AFIC  \n",
       "0                                               22.0    \n",
       "1                                               10.0    \n",
       "2                                                9.0    \n",
       "3                                               12.0    \n",
       "4                                               21.0    \n",
       "5                                               19.0    \n",
       "6                                               22.0    \n",
       "7                                               16.0    \n",
       "8                                                9.0    \n",
       "9                                                7.0    "
      ]
     },
     "execution_count": 300,
     "metadata": {},
     "output_type": "execute_result"
    }
   ],
   "source": [
    "Homeless.head(10)"
   ]
  },
  {
   "cell_type": "code",
   "execution_count": 301,
   "metadata": {
    "collapsed": false,
    "scrolled": true
   },
   "outputs": [
    {
     "data": {
      "text/plain": [
       "(640, 15)"
      ]
     },
     "execution_count": 301,
     "metadata": {},
     "output_type": "execute_result"
    }
   ],
   "source": [
    "Homeless.shape"
   ]
  },
  {
   "cell_type": "code",
   "execution_count": 302,
   "metadata": {
    "collapsed": false
   },
   "outputs": [],
   "source": [
    "New_Homeless = Homeless.drop(['Total Children in Shelter','Single Adult Men in Shelter','Total Single Adults in Shelter'],1)"
   ]
  },
  {
   "cell_type": "code",
   "execution_count": 303,
   "metadata": {
    "collapsed": false
   },
   "outputs": [],
   "source": [
    "New_Homeless = New_Homeless.drop(['Families with Children in Shelter','Single Adult Women in Shelter'],1)"
   ]
  },
  {
   "cell_type": "code",
   "execution_count": 304,
   "metadata": {
    "collapsed": true
   },
   "outputs": [],
   "source": [
    "New_Homeless = New_Homeless.drop(['Total Individuals in Shelter','Adults in Families with Children in Shelter'],1)"
   ]
  },
  {
   "cell_type": "code",
   "execution_count": 305,
   "metadata": {
    "collapsed": false
   },
   "outputs": [],
   "source": [
    "New_Homeless = New_Homeless.drop(['Children in Families with Children in Shelter'],1)"
   ]
  },
  {
   "cell_type": "code",
   "execution_count": 306,
   "metadata": {
    "collapsed": true
   },
   "outputs": [],
   "source": [
    "New_Homeless = New_Homeless.drop(['Adult Families in Shelter','Individuals in Adult Families in Shelter'],1)"
   ]
  },
  {
   "cell_type": "code",
   "execution_count": 307,
   "metadata": {
    "collapsed": false
   },
   "outputs": [],
   "source": [
    "New_Homeless = New_Homeless.drop(['Families Requesting Temporary Housing at PATH'],1)"
   ]
  },
  {
   "cell_type": "code",
   "execution_count": 308,
   "metadata": {
    "collapsed": true
   },
   "outputs": [],
   "source": [
    "New_Homeless = New_Homeless.drop(['Adult Families Requesting Temporary Housing at AFIC'],1)"
   ]
  },
  {
   "cell_type": "code",
   "execution_count": 309,
   "metadata": {
    "collapsed": false
   },
   "outputs": [],
   "source": [
    "New_Homeless = New_Homeless.drop(['Total Adults in Shelter'],1)"
   ]
  },
  {
   "cell_type": "code",
   "execution_count": 310,
   "metadata": {
    "collapsed": false
   },
   "outputs": [
    {
     "data": {
      "text/html": [
       "<div>\n",
       "<style>\n",
       "    .dataframe thead tr:only-child th {\n",
       "        text-align: right;\n",
       "    }\n",
       "\n",
       "    .dataframe thead th {\n",
       "        text-align: left;\n",
       "    }\n",
       "\n",
       "    .dataframe tbody tr th {\n",
       "        vertical-align: top;\n",
       "    }\n",
       "</style>\n",
       "<table border=\"1\" class=\"dataframe\">\n",
       "  <thead>\n",
       "    <tr style=\"text-align: right;\">\n",
       "      <th></th>\n",
       "      <th>Date of Census</th>\n",
       "      <th>Total Individuals in Families with Children in Shelter</th>\n",
       "    </tr>\n",
       "  </thead>\n",
       "  <tbody>\n",
       "    <tr>\n",
       "      <th>0</th>\n",
       "      <td>06/08/2015</td>\n",
       "      <td>40037.0</td>\n",
       "    </tr>\n",
       "    <tr>\n",
       "      <th>1</th>\n",
       "      <td>06/07/2015</td>\n",
       "      <td>40027.0</td>\n",
       "    </tr>\n",
       "    <tr>\n",
       "      <th>2</th>\n",
       "      <td>06/06/2015</td>\n",
       "      <td>40038.0</td>\n",
       "    </tr>\n",
       "    <tr>\n",
       "      <th>3</th>\n",
       "      <td>06/05/2015</td>\n",
       "      <td>40035.0</td>\n",
       "    </tr>\n",
       "    <tr>\n",
       "      <th>4</th>\n",
       "      <td>06/04/2015</td>\n",
       "      <td>40104.0</td>\n",
       "    </tr>\n",
       "  </tbody>\n",
       "</table>\n",
       "</div>"
      ],
      "text/plain": [
       "  Date of Census  Total Individuals in Families with Children in Shelter \n",
       "0     06/08/2015                                            40037.0      \n",
       "1     06/07/2015                                            40027.0      \n",
       "2     06/06/2015                                            40038.0      \n",
       "3     06/05/2015                                            40035.0      \n",
       "4     06/04/2015                                            40104.0      "
      ]
     },
     "execution_count": 310,
     "metadata": {},
     "output_type": "execute_result"
    }
   ],
   "source": [
    "New_Homeless.head(5)"
   ]
  },
  {
   "cell_type": "code",
   "execution_count": 311,
   "metadata": {
    "collapsed": false
   },
   "outputs": [],
   "source": [
    "New_Date=pd.to_datetime(New_Homeless['Date of Census'])"
   ]
  },
  {
   "cell_type": "code",
   "execution_count": 312,
   "metadata": {
    "collapsed": false
   },
   "outputs": [],
   "source": [
    "New_Homeless['pdformat_Date'] = New_Date"
   ]
  },
  {
   "cell_type": "code",
   "execution_count": 313,
   "metadata": {
    "collapsed": false,
    "scrolled": true
   },
   "outputs": [
    {
     "data": {
      "text/html": [
       "<div>\n",
       "<style>\n",
       "    .dataframe thead tr:only-child th {\n",
       "        text-align: right;\n",
       "    }\n",
       "\n",
       "    .dataframe thead th {\n",
       "        text-align: left;\n",
       "    }\n",
       "\n",
       "    .dataframe tbody tr th {\n",
       "        vertical-align: top;\n",
       "    }\n",
       "</style>\n",
       "<table border=\"1\" class=\"dataframe\">\n",
       "  <thead>\n",
       "    <tr style=\"text-align: right;\">\n",
       "      <th></th>\n",
       "      <th>Date of Census</th>\n",
       "      <th>Total Individuals in Families with Children in Shelter</th>\n",
       "      <th>pdformat_Date</th>\n",
       "    </tr>\n",
       "  </thead>\n",
       "  <tbody>\n",
       "    <tr>\n",
       "      <th>0</th>\n",
       "      <td>06/08/2015</td>\n",
       "      <td>40037.0</td>\n",
       "      <td>2015-06-08</td>\n",
       "    </tr>\n",
       "    <tr>\n",
       "      <th>1</th>\n",
       "      <td>06/07/2015</td>\n",
       "      <td>40027.0</td>\n",
       "      <td>2015-06-07</td>\n",
       "    </tr>\n",
       "    <tr>\n",
       "      <th>2</th>\n",
       "      <td>06/06/2015</td>\n",
       "      <td>40038.0</td>\n",
       "      <td>2015-06-06</td>\n",
       "    </tr>\n",
       "    <tr>\n",
       "      <th>3</th>\n",
       "      <td>06/05/2015</td>\n",
       "      <td>40035.0</td>\n",
       "      <td>2015-06-05</td>\n",
       "    </tr>\n",
       "    <tr>\n",
       "      <th>4</th>\n",
       "      <td>06/04/2015</td>\n",
       "      <td>40104.0</td>\n",
       "      <td>2015-06-04</td>\n",
       "    </tr>\n",
       "  </tbody>\n",
       "</table>\n",
       "</div>"
      ],
      "text/plain": [
       "  Date of Census  Total Individuals in Families with Children in Shelter   \\\n",
       "0     06/08/2015                                            40037.0         \n",
       "1     06/07/2015                                            40027.0         \n",
       "2     06/06/2015                                            40038.0         \n",
       "3     06/05/2015                                            40035.0         \n",
       "4     06/04/2015                                            40104.0         \n",
       "\n",
       "  pdformat_Date  \n",
       "0    2015-06-08  \n",
       "1    2015-06-07  \n",
       "2    2015-06-06  \n",
       "3    2015-06-05  \n",
       "4    2015-06-04  "
      ]
     },
     "execution_count": 313,
     "metadata": {},
     "output_type": "execute_result"
    }
   ],
   "source": [
    "New_Homeless.head(5)"
   ]
  },
  {
   "cell_type": "code",
   "execution_count": 314,
   "metadata": {
    "collapsed": false
   },
   "outputs": [
    {
     "name": "stdout",
     "output_type": "stream",
     "text": [
      "Populating the interactive namespace from numpy and matplotlib\n"
     ]
    }
   ],
   "source": [
    "import pylab as pl\n",
    "%pylab inline"
   ]
  },
  {
   "cell_type": "markdown",
   "metadata": {
    "collapsed": true
   },
   "source": [
    "## Fig.1 Total Individuals in Families with Children in Shelter VS Date/Time"
   ]
  },
  {
   "cell_type": "code",
   "execution_count": 315,
   "metadata": {
    "collapsed": false
   },
   "outputs": [
    {
     "data": {
      "text/plain": [
       "<matplotlib.text.Text at 0x7fe27db29dd8>"
      ]
     },
     "execution_count": 315,
     "metadata": {},
     "output_type": "execute_result"
    },
    {
     "data": {
      "image/png": "[encoded data removed]",
      "text/plain": [
       "<matplotlib.figure.Figure at 0x7fe27e109d68>"
      ]
     },
     "metadata": {},
     "output_type": "display_data"
    }
   ],
   "source": [
    "    pl.plot(New_Homeless['pdformat_Date'],New_Homeless['Total Individuals in Families with Children in Shelter '], 'o')\n",
    "    plt.xlabel('Date')\n",
    "    plt.ylabel('Total Individuals in Families with Children in Shelter(head count)')\n",
    "    plt.title('Total Individuals in Families with Children in Shelter vs Date')"
   ]
  },
  {
   "cell_type": "code",
   "execution_count": null,
   "metadata": {
    "collapsed": true
   },
   "outputs": [],
   "source": []
  }
 ],
 "metadata": {
  "kernelspec": {
   "display_name": "ucsl17_python3",
   "language": "python",
   "name": "ucsl17_python3"
  },
  "language_info": {
   "codemirror_mode": {
    "name": "ipython",
    "version": 3
   },
   "file_extension": ".py",
   "mimetype": "text/x-python",
   "name": "python",
   "nbconvert_exporter": "python",
   "pygments_lexer": "ipython3",
   "version": "3.6.2"
  }
 },
 "nbformat": 4,
 "nbformat_minor": 0
}
